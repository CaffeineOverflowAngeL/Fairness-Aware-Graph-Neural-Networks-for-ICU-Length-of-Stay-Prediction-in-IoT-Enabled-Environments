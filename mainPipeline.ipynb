{
 "cells": [
  {
   "cell_type": "code",
   "execution_count": null,
   "id": "febb55c7",
   "metadata": {},
   "outputs": [],
   "source": [
    "#!pip install --upgrade pip"
   ]
  },
  {
   "cell_type": "code",
   "execution_count": 1,
   "id": "7d765105",
   "metadata": {},
   "outputs": [
    {
     "name": "stdout",
     "output_type": "stream",
     "text": [
      "Requirement already satisfied: torch_geometric in /home/angel/hospAItal_env/lib/python3.10/site-packages (2.6.1)\n",
      "Requirement already satisfied: aiohttp in /home/angel/hospAItal_env/lib/python3.10/site-packages (from torch_geometric) (3.10.10)\n",
      "Requirement already satisfied: fsspec in /home/angel/hospAItal_env/lib/python3.10/site-packages (from torch_geometric) (2024.9.0)\n",
      "Requirement already satisfied: jinja2 in /home/angel/hospAItal_env/lib/python3.10/site-packages (from torch_geometric) (3.1.4)\n",
      "Requirement already satisfied: numpy in /home/angel/hospAItal_env/lib/python3.10/site-packages (from torch_geometric) (2.1.3)\n",
      "Requirement already satisfied: psutil>=5.8.0 in /home/angel/hospAItal_env/lib/python3.10/site-packages (from torch_geometric) (6.0.0)\n",
      "Requirement already satisfied: pyparsing in /home/angel/hospAItal_env/lib/python3.10/site-packages (from torch_geometric) (3.1.4)\n",
      "Requirement already satisfied: requests in /home/angel/hospAItal_env/lib/python3.10/site-packages (from torch_geometric) (2.32.3)\n",
      "Requirement already satisfied: tqdm in /home/angel/hospAItal_env/lib/python3.10/site-packages (from torch_geometric) (4.66.5)\n",
      "Requirement already satisfied: aiohappyeyeballs>=2.3.0 in /home/angel/hospAItal_env/lib/python3.10/site-packages (from aiohttp->torch_geometric) (2.4.3)\n",
      "Requirement already satisfied: aiosignal>=1.1.2 in /home/angel/hospAItal_env/lib/python3.10/site-packages (from aiohttp->torch_geometric) (1.3.1)\n",
      "Requirement already satisfied: attrs>=17.3.0 in /home/angel/hospAItal_env/lib/python3.10/site-packages (from aiohttp->torch_geometric) (24.2.0)\n",
      "Requirement already satisfied: frozenlist>=1.1.1 in /home/angel/hospAItal_env/lib/python3.10/site-packages (from aiohttp->torch_geometric) (1.5.0)\n",
      "Requirement already satisfied: multidict<7.0,>=4.5 in /home/angel/hospAItal_env/lib/python3.10/site-packages (from aiohttp->torch_geometric) (6.1.0)\n",
      "Requirement already satisfied: yarl<2.0,>=1.12.0 in /home/angel/hospAItal_env/lib/python3.10/site-packages (from aiohttp->torch_geometric) (1.17.1)\n",
      "Requirement already satisfied: async-timeout<5.0,>=4.0 in /home/angel/hospAItal_env/lib/python3.10/site-packages (from aiohttp->torch_geometric) (4.0.3)\n",
      "Requirement already satisfied: MarkupSafe>=2.0 in /home/angel/hospAItal_env/lib/python3.10/site-packages (from jinja2->torch_geometric) (2.1.5)\n",
      "Requirement already satisfied: charset-normalizer<4,>=2 in /home/angel/hospAItal_env/lib/python3.10/site-packages (from requests->torch_geometric) (3.3.2)\n",
      "Requirement already satisfied: idna<4,>=2.5 in /home/angel/hospAItal_env/lib/python3.10/site-packages (from requests->torch_geometric) (3.8)\n",
      "Requirement already satisfied: urllib3<3,>=1.21.1 in /home/angel/hospAItal_env/lib/python3.10/site-packages (from requests->torch_geometric) (2.2.2)\n",
      "Requirement already satisfied: certifi>=2017.4.17 in /home/angel/hospAItal_env/lib/python3.10/site-packages (from requests->torch_geometric) (2024.8.30)\n",
      "Requirement already satisfied: typing-extensions>=4.1.0 in /home/angel/hospAItal_env/lib/python3.10/site-packages (from multidict<7.0,>=4.5->aiohttp->torch_geometric) (4.12.2)\n",
      "Requirement already satisfied: propcache>=0.2.0 in /home/angel/hospAItal_env/lib/python3.10/site-packages (from yarl<2.0,>=1.12.0->aiohttp->torch_geometric) (0.2.0)\n"
     ]
    }
   ],
   "source": [
    "!pip install torch_geometric"
   ]
  },
  {
   "cell_type": "code",
   "execution_count": 5,
   "id": "8433216d",
   "metadata": {},
   "outputs": [
    {
     "name": "stdout",
     "output_type": "stream",
     "text": [
      "Collecting torch\n",
      "  Using cached torch-2.5.1-cp310-cp310-manylinux1_x86_64.whl.metadata (28 kB)\n",
      "Collecting torchvision\n",
      "  Using cached torchvision-0.20.1-cp310-cp310-manylinux1_x86_64.whl.metadata (6.1 kB)\n",
      "Collecting torchaudio\n",
      "  Using cached torchaudio-2.5.1-cp310-cp310-manylinux1_x86_64.whl.metadata (6.4 kB)\n",
      "Requirement already satisfied: filelock in /home/angel/hospAItal_env/lib/python3.10/site-packages (from torch) (3.16.0)\n",
      "Requirement already satisfied: typing-extensions>=4.8.0 in /home/angel/hospAItal_env/lib/python3.10/site-packages (from torch) (4.12.2)\n",
      "Requirement already satisfied: networkx in /home/angel/hospAItal_env/lib/python3.10/site-packages (from torch) (3.3)\n",
      "Requirement already satisfied: jinja2 in /home/angel/hospAItal_env/lib/python3.10/site-packages (from torch) (3.1.4)\n",
      "Requirement already satisfied: fsspec in /home/angel/hospAItal_env/lib/python3.10/site-packages (from torch) (2024.9.0)\n",
      "Requirement already satisfied: nvidia-cuda-nvrtc-cu12==12.4.127 in /home/angel/hospAItal_env/lib/python3.10/site-packages (from torch) (12.4.127)\n",
      "Requirement already satisfied: nvidia-cuda-runtime-cu12==12.4.127 in /home/angel/hospAItal_env/lib/python3.10/site-packages (from torch) (12.4.127)\n",
      "Requirement already satisfied: nvidia-cuda-cupti-cu12==12.4.127 in /home/angel/hospAItal_env/lib/python3.10/site-packages (from torch) (12.4.127)\n",
      "Requirement already satisfied: nvidia-cudnn-cu12==9.1.0.70 in /home/angel/hospAItal_env/lib/python3.10/site-packages (from torch) (9.1.0.70)\n",
      "Requirement already satisfied: nvidia-cublas-cu12==12.4.5.8 in /home/angel/hospAItal_env/lib/python3.10/site-packages (from torch) (12.4.5.8)\n",
      "Requirement already satisfied: nvidia-cufft-cu12==11.2.1.3 in /home/angel/hospAItal_env/lib/python3.10/site-packages (from torch) (11.2.1.3)\n",
      "Requirement already satisfied: nvidia-curand-cu12==10.3.5.147 in /home/angel/hospAItal_env/lib/python3.10/site-packages (from torch) (10.3.5.147)\n",
      "Requirement already satisfied: nvidia-cusolver-cu12==11.6.1.9 in /home/angel/hospAItal_env/lib/python3.10/site-packages (from torch) (11.6.1.9)\n",
      "Requirement already satisfied: nvidia-cusparse-cu12==12.3.1.170 in /home/angel/hospAItal_env/lib/python3.10/site-packages (from torch) (12.3.1.170)\n",
      "Requirement already satisfied: nvidia-nccl-cu12==2.21.5 in /home/angel/hospAItal_env/lib/python3.10/site-packages (from torch) (2.21.5)\n",
      "Requirement already satisfied: nvidia-nvtx-cu12==12.4.127 in /home/angel/hospAItal_env/lib/python3.10/site-packages (from torch) (12.4.127)\n",
      "Requirement already satisfied: nvidia-nvjitlink-cu12==12.4.127 in /home/angel/hospAItal_env/lib/python3.10/site-packages (from torch) (12.4.127)\n",
      "Requirement already satisfied: triton==3.1.0 in /home/angel/hospAItal_env/lib/python3.10/site-packages (from torch) (3.1.0)\n",
      "Requirement already satisfied: sympy==1.13.1 in /home/angel/hospAItal_env/lib/python3.10/site-packages (from torch) (1.13.1)\n",
      "Requirement already satisfied: mpmath<1.4,>=1.1.0 in /home/angel/hospAItal_env/lib/python3.10/site-packages (from sympy==1.13.1->torch) (1.3.0)\n",
      "Requirement already satisfied: numpy in /home/angel/hospAItal_env/lib/python3.10/site-packages (from torchvision) (2.1.3)\n",
      "Requirement already satisfied: pillow!=8.3.*,>=5.3.0 in /home/angel/hospAItal_env/lib/python3.10/site-packages (from torchvision) (10.4.0)\n",
      "Requirement already satisfied: MarkupSafe>=2.0 in /home/angel/hospAItal_env/lib/python3.10/site-packages (from jinja2->torch) (2.1.5)\n",
      "Using cached torch-2.5.1-cp310-cp310-manylinux1_x86_64.whl (906.4 MB)\n",
      "Downloading torchvision-0.20.1-cp310-cp310-manylinux1_x86_64.whl (7.2 MB)\n",
      "\u001b[2K   \u001b[90m━━━━━━━━━━━━━━━━━━━━━━━━━━━━━━━━━━━━━━━━\u001b[0m \u001b[32m7.2/7.2 MB\u001b[0m \u001b[31m4.3 MB/s\u001b[0m eta \u001b[36m0:00:00\u001b[0ma \u001b[36m0:00:01\u001b[0m\n",
      "\u001b[?25hDownloading torchaudio-2.5.1-cp310-cp310-manylinux1_x86_64.whl (3.4 MB)\n",
      "\u001b[2K   \u001b[90m━━━━━━━━━━━━━━━━━━━━━━━━━━━━━━━━━━━━━━━━\u001b[0m \u001b[32m3.4/3.4 MB\u001b[0m \u001b[31m4.8 MB/s\u001b[0m eta \u001b[36m0:00:00\u001b[0ma \u001b[36m0:00:01\u001b[0m\n",
      "\u001b[?25hInstalling collected packages: torch, torchvision, torchaudio\n",
      "Successfully installed torch-2.5.1 torchaudio-2.5.1 torchvision-0.20.1\n"
     ]
    }
   ],
   "source": [
    "!pip install torch torchvision torchaudio"
   ]
  },
  {
   "cell_type": "code",
   "execution_count": 1,
   "id": "faa32c8f",
   "metadata": {},
   "outputs": [
    {
     "name": "stdout",
     "output_type": "stream",
     "text": [
      "2.0.gz\n"
     ]
    }
   ],
   "source": [
    "!%ls mimiciv\n"
   ]
  },
  {
   "cell_type": "code",
   "execution_count": 3,
   "id": "203ccf0c",
   "metadata": {},
   "outputs": [
    {
     "name": "stdout",
     "output_type": "stream",
     "text": [
      "2.1.3\n"
     ]
    }
   ],
   "source": [
    "print(np.__version__)"
   ]
  },
  {
   "cell_type": "code",
   "execution_count": 2,
   "id": "available-albany",
   "metadata": {},
   "outputs": [],
   "source": [
    "import ipywidgets as widgets\n",
    "import sys\n",
    "from pathlib import Path\n",
    "import os\n",
    "import importlib\n",
    "\n",
    "\n",
    "module_path='preprocessing/day_intervals_preproc'\n",
    "if module_path not in sys.path:\n",
    "    sys.path.append(module_path)\n",
    "\n",
    "module_path='utils'\n",
    "if module_path not in sys.path:\n",
    "    sys.path.append(module_path)\n",
    "    \n",
    "module_path='preprocessing/hosp_module_preproc'\n",
    "if module_path not in sys.path:\n",
    "    sys.path.append(module_path)\n",
    "    \n",
    "module_path='model'\n",
    "if module_path not in sys.path:\n",
    "    sys.path.append(module_path)\n",
    "#print(sys.path)\n",
    "root_dir = os.path.dirname(os.path.abspath('UserInterface.ipynb'))\n",
    "import day_intervals_cohort\n",
    "from day_intervals_cohort import *\n",
    "\n",
    "import day_intervals_cohort_v2\n",
    "from day_intervals_cohort_v2 import *\n",
    "\n",
    "import data_generation_icu\n",
    "\n",
    "import data_generation\n",
    "import evaluation\n",
    "\n",
    "import feature_selection_hosp\n",
    "from feature_selection_hosp import *\n",
    "\n",
    "# import train\n",
    "# from train import *\n",
    "\n",
    "\n",
    "import ml_models\n",
    "from ml_models import *\n",
    "\n",
    "import dl_train\n",
    "from dl_train import *\n",
    "\n",
    "import tokenization\n",
    "from tokenization import *\n",
    "\n",
    "\n",
    "import behrt_train\n",
    "from behrt_train import *\n",
    "\n",
    "import feature_selection_icu\n",
    "from feature_selection_icu import *\n",
    "import fairness\n",
    "import callibrate_output"
   ]
  },
  {
   "cell_type": "code",
   "execution_count": 3,
   "id": "nutritional-chicago",
   "metadata": {},
   "outputs": [],
   "source": [
    "importlib.reload(day_intervals_cohort)\n",
    "import day_intervals_cohort\n",
    "from day_intervals_cohort import *\n",
    "\n",
    "importlib.reload(day_intervals_cohort_v2)\n",
    "import day_intervals_cohort_v2\n",
    "from day_intervals_cohort_v2 import *\n",
    "\n",
    "importlib.reload(data_generation_icu)\n",
    "import data_generation_icu\n",
    "importlib.reload(data_generation)\n",
    "import data_generation\n",
    "\n",
    "importlib.reload(feature_selection_hosp)\n",
    "import feature_selection_hosp\n",
    "from feature_selection_hosp import *\n",
    "\n",
    "importlib.reload(feature_selection_icu)\n",
    "import feature_selection_icu\n",
    "from feature_selection_icu import *\n",
    "\n",
    "importlib.reload(tokenization)\n",
    "import tokenization\n",
    "from tokenization import *\n",
    "\n",
    "importlib.reload(ml_models)\n",
    "import ml_models\n",
    "from ml_models import *\n",
    "\n",
    "importlib.reload(dl_train)\n",
    "import dl_train\n",
    "from dl_train import *\n",
    "\n",
    "importlib.reload(behrt_train)\n",
    "import behrt_train\n",
    "from behrt_train import *\n",
    "\n",
    "importlib.reload(fairness)\n",
    "import fairness\n",
    "\n",
    "importlib.reload(callibrate_output)\n",
    "import callibrate_output\n",
    "\n",
    "importlib.reload(evaluation)\n",
    "import evaluation"
   ]
  },
  {
   "cell_type": "markdown",
   "id": "eligible-demand",
   "metadata": {},
   "source": [
    "# Welcome to your MIMIC-IV Project"
   ]
  },
  {
   "cell_type": "markdown",
   "id": "jewish-crown",
   "metadata": {},
   "source": [
    "This repository explains the steps to download and clean MIMIC-IV dataset for analysis.\n",
    "The repository is compatible with MIMIC-IV v1.0 and MIMIC-IV v2.0\n",
    "\n",
    "Please go to:\n",
    "- https://physionet.org/content/mimiciv/1.0/ for v1.0\n",
    "- https://physionet.org/content/mimiciv/2.0/ for v2.0\n",
    "\n",
    "Follow instructions to get access to MIMIC-IV dataset.\n",
    "\n",
    "Download the files using your terminal: \n",
    "- wget -r -N -c -np --user mehakg --ask-password https://physionet.org/files/mimiciv/1.0/ or\n",
    "- wget -r -N -c -np --user mehakg --ask-password https://physionet.org/files/mimiciv/2.0/\n",
    "        \n",
    "\n",
    "Save downloaded files in the parent directory of this github repo. \n",
    "\n",
    "The structure should look like below for v1.0-\n",
    "- mimiciv/1.0/core\n",
    "- mimiciv/1.0/hosp\n",
    "- mimiciv/1.0/icu\n",
    "\n",
    "The structure should look like below for v2.0-\n",
    "- mimiciv/2.0/hosp\n",
    "- mimiciv/2.0/icu"
   ]
  },
  {
   "cell_type": "markdown",
   "id": "happy-tissue",
   "metadata": {},
   "source": [
    "## 1. DATA EXTRACTION\n",
    "Please run below cell to select option for cohort selection.\n",
    "The cohort will be svaed in **./data/cohort/**"
   ]
  },
  {
   "cell_type": "code",
   "execution_count": 4,
   "id": "structured-dimension",
   "metadata": {
    "tags": [
     "{",
     "\"tags\":",
     "[",
     "\"hide-input\"",
     "]",
     "}"
    ]
   },
   "outputs": [
    {
     "name": "stdout",
     "output_type": "stream",
     "text": [
      "Please select the approriate version of MIMIC-IV for which you have downloaded data ?\n"
     ]
    },
    {
     "data": {
      "application/vnd.jupyter.widget-view+json": {
       "model_id": "472e369467d6445f9d858d1b987ec22b",
       "version_major": 2,
       "version_minor": 0
      },
      "text/plain": [
       "RadioButtons(options=('Version 1', 'Version 2'), value='Version 1')"
      ]
     },
     "metadata": {},
     "output_type": "display_data"
    },
    {
     "name": "stdout",
     "output_type": "stream",
     "text": [
      "Please select what prediction task you want to perform ?\n"
     ]
    },
    {
     "data": {
      "application/vnd.jupyter.widget-view+json": {
       "model_id": "90c593490fcf4d8b81e13a1db747a711",
       "version_major": 2,
       "version_minor": 0
      },
      "text/plain": [
       "RadioButtons(options=('Mortality', 'Length of Stay', 'Readmission', 'Phenotype'), value='Mortality')"
      ]
     },
     "metadata": {},
     "output_type": "display_data"
    }
   ],
   "source": [
    "print(\"Please select the approriate version of MIMIC-IV for which you have downloaded data ?\")\n",
    "version = widgets.RadioButtons(options=['Version 1','Version 2'],value='Version 1')\n",
    "display(version)\n",
    "\n",
    "print(\"Please select what prediction task you want to perform ?\")\n",
    "radio_input4 = widgets.RadioButtons(options=['Mortality','Length of Stay','Readmission','Phenotype'],value='Mortality')\n",
    "display(radio_input4)\n"
   ]
  },
  {
   "cell_type": "markdown",
   "id": "written-syndicate",
   "metadata": {},
   "source": [
    "### Refining Cohort and Prediction Task Definition\n",
    "\n",
    "Based on your current selection following block will provide option to further refine prediction task and cohort associated with it:\n",
    "\n",
    "- First you will refine the prediction task choosing from following options -\n",
    "    - **length of Stay** - You can select from two predefined options or enter custom number of days to predict length os stay greater than number of days.\n",
    "\n",
    "    - **Readmission** - You can select from two predefined options or enter custom number of days to predict readmission after \"number of days\" after previous admission.\n",
    "\n",
    "    - **Phenotype Prediction** - You can select from four major chronic diseases to predict its future outcome\n",
    "\n",
    "        - Heart failure\n",
    "        - CAD (Coronary Artery Disease)\n",
    "        - CKD (Chronic Kidney Disease)\n",
    "        - COPD (Chronic obstructive pulmonary disease)\n",
    "\n",
    "- Second, you will choode whether to perfom above task using ICU or non-ICU admissions data\n",
    "\n",
    "- Third, you can refine the refine the cohort selection for any of the above choosen prediction tasks by including the admission samples admitted with particular chronic disease - \n",
    "    - Heart failure\n",
    "    - CAD (Coronary Artery Disease)\n",
    "    - CKD (Chronic Kidney Disease)\n",
    "    - COPD (Chronic obstructive pulmonary disease)\n",
    "    \n",
    "print(\"**Please run below cell to extract the cohort for selected options**\")"
   ]
  },
  {
   "cell_type": "code",
   "execution_count": 5,
   "id": "broke-spirituality",
   "metadata": {},
   "outputs": [
    {
     "data": {
      "application/vnd.jupyter.widget-view+json": {
       "model_id": "67518a0814d54ce49ff1bccdeb909af0",
       "version_major": 2,
       "version_minor": 0
      },
      "text/plain": [
       "RadioButtons(options=('Length of Stay ge 3', 'Length of Stay ge 7', 'Custom'), value='Length of Stay ge 3')"
      ]
     },
     "metadata": {},
     "output_type": "display_data"
    },
    {
     "data": {
      "application/vnd.jupyter.widget-view+json": {
       "model_id": "e43dd2c5e79446f396565609e2b88454",
       "version_major": 2,
       "version_minor": 0
      },
      "text/plain": [
       "HBox(children=(Label(value='Length of stay ge (in days)', layout=Layout(width='180px')), IntSlider(value=3, co…"
      ]
     },
     "metadata": {},
     "output_type": "display_data"
    },
    {
     "name": "stdout",
     "output_type": "stream",
     "text": [
      "Extract Data\n",
      "Please select below if you want to work with ICU or Non-ICU data ?\n"
     ]
    },
    {
     "data": {
      "application/vnd.jupyter.widget-view+json": {
       "model_id": "5e06dc7599ce438891f3976a6439c660",
       "version_major": 2,
       "version_minor": 0
      },
      "text/plain": [
       "RadioButtons(options=('ICU', 'Non-ICU'), value='ICU')"
      ]
     },
     "metadata": {},
     "output_type": "display_data"
    },
    {
     "name": "stdout",
     "output_type": "stream",
     "text": [
      "Please select if you want to perform choosen prediction task for a specific disease.\n"
     ]
    },
    {
     "data": {
      "application/vnd.jupyter.widget-view+json": {
       "model_id": "d4ba937e0e6b4a60811f000490d6a79e",
       "version_major": 2,
       "version_minor": 0
      },
      "text/plain": [
       "RadioButtons(options=('No Disease Filter', 'Heart Failure', 'CKD', 'CAD', 'COPD'), value='No Disease Filter')"
      ]
     },
     "metadata": {},
     "output_type": "display_data"
    }
   ],
   "source": [
    "if radio_input4.value=='Length of Stay':\n",
    "    radio_input2 = widgets.RadioButtons(options=['Length of Stay ge 3','Length of Stay ge 7','Custom'],value='Length of Stay ge 3')\n",
    "    display(radio_input2)\n",
    "    text1=widgets.IntSlider(\n",
    "    value=3,\n",
    "    min=1,\n",
    "    max=10,\n",
    "    step=1,\n",
    "    disabled=False,\n",
    "    continuous_update=False,\n",
    "    orientation='horizontal',\n",
    "    readout=True,\n",
    "    readout_format='d'\n",
    ")\n",
    "    display(widgets.HBox([widgets.Label('Length of stay ge (in days)',layout={'width': '180px'}), text1]))\n",
    "elif radio_input4.value=='Readmission':\n",
    "    radio_input2 = widgets.RadioButtons(options=['30 Day Readmission','60 Day Readmission','90 Day Readmission','120 Day Readmission','Custom'],value='30 Day Readmission')\n",
    "    display(radio_input2)\n",
    "    text1=widgets.IntSlider(\n",
    "    value=30,\n",
    "    min=10,\n",
    "    max=150,\n",
    "    step=10,\n",
    "    disabled=False\n",
    "    )\n",
    "    display(widgets.HBox([widgets.Label('Readmission after (in days)',layout={'width': '180px'}), text1]))\n",
    "elif radio_input4.value=='Phenotype':\n",
    "    radio_input2 = widgets.RadioButtons(options=['Heart Failure in 30 days','CAD in 30 days','CKD in 30 days','COPD in 30 days'],value='Heart Failure in 30 days')\n",
    "    display(radio_input2)\n",
    "elif radio_input4.value=='Mortality':\n",
    "    radio_input2 = widgets.RadioButtons(options=['Mortality'],value='Mortality')\n",
    "    #display(radio_input2)\n",
    "\n",
    "print(\"Extract Data\")\n",
    "print(\"Please select below if you want to work with ICU or Non-ICU data ?\")\n",
    "radio_input1 = widgets.RadioButtons(options=['ICU', 'Non-ICU'],value='ICU')\n",
    "display(radio_input1)\n",
    "\n",
    "print(\"Please select if you want to perform choosen prediction task for a specific disease.\")\n",
    "radio_input3 = widgets.RadioButtons(options=['No Disease Filter','Heart Failure','CKD','CAD','COPD'],value='No Disease Filter')\n",
    "display(radio_input3)"
   ]
  },
  {
   "cell_type": "code",
   "execution_count": 6,
   "id": "republican-freight",
   "metadata": {},
   "outputs": [
    {
     "name": "stdout",
     "output_type": "stream",
     "text": [
      "===========MIMIC-IV v2.0============\n",
      "EXTRACTING FOR: | ICU | LENGTH OF STAY | 3 |\n",
      "[ LOS LABELS FINISHED ]\n",
      "[ COHORT SUCCESSFULLY SAVED ]\n",
      "[ SUMMARY SUCCESSFULLY SAVED ]\n",
      "Length of Stay FOR ICU DATA\n",
      "# Admission Records: 73181\n",
      "# Patients: 50920\n",
      "# Positive cases: 23252\n",
      "# Negative cases: 49929\n"
     ]
    }
   ],
   "source": [
    "disease_label=\"\"\n",
    "time=0\n",
    "label=radio_input4.value\n",
    "\n",
    "if label=='Readmission':\n",
    "    if radio_input2.value=='Custom':\n",
    "        time=text1.value\n",
    "    else:\n",
    "        time=int(radio_input2.value.split()[0])\n",
    "elif label=='Length of Stay':\n",
    "    if radio_input2.value=='Custom':\n",
    "        time=text1.value\n",
    "    else:\n",
    "        time=int(radio_input2.value.split()[4])\n",
    "\n",
    "if label=='Phenotype':    \n",
    "    if radio_input2.value=='Heart Failure in 30 days':\n",
    "        label='Readmission'\n",
    "        time=30\n",
    "        disease_label='I50'\n",
    "    elif radio_input2.value=='CAD in 30 days':\n",
    "        label='Readmission'\n",
    "        time=30\n",
    "        disease_label='I25'\n",
    "    elif radio_input2.value=='CKD in 30 days':\n",
    "        label='Readmission'\n",
    "        time=30\n",
    "        disease_label='N18'\n",
    "    elif radio_input2.value=='COPD in 30 days':\n",
    "        label='Readmission'\n",
    "        time=30\n",
    "        disease_label='J44'\n",
    "    \n",
    "data_icu=radio_input1.value==\"ICU\"\n",
    "data_mort=label==\"Mortality\"\n",
    "data_admn=label=='Readmission'\n",
    "data_los=label=='Length of Stay'\n",
    "        \n",
    "\n",
    "if (radio_input3.value==\"Heart Failure\"):\n",
    "    icd_code='I50'\n",
    "elif (radio_input3.value==\"CKD\"):\n",
    "    icd_code='N18'\n",
    "elif (radio_input3.value==\"COPD\"):\n",
    "    icd_code='J44'\n",
    "elif (radio_input3.value==\"CAD\"):\n",
    "    icd_code='I25'\n",
    "else:\n",
    "    icd_code='No Disease Filter'\n",
    "\n",
    "if version.value=='Version 1':\n",
    "    version_path=\"mimiciv/1.0\"\n",
    "    cohort_output = day_intervals_cohort.extract_data(radio_input1.value,label,time,icd_code, root_dir,disease_label)\n",
    "elif version.value=='Version 2':\n",
    "    version_path=\"mimiciv/2.0\"\n",
    "    cohort_output = day_intervals_cohort_v2.extract_data(radio_input1.value,label,time,icd_code, root_dir,disease_label)"
   ]
  },
  {
   "cell_type": "markdown",
   "id": "interstate-stadium",
   "metadata": {},
   "source": [
    "## 2. FEATURE SELECTION\n",
    "Features available for ICU data -\n",
    "- Diagnosis (https://mimic.mit.edu/docs/iv/modules/hosp/diagnoses_icd/)\n",
    "- Procedures (https://mimic.mit.edu/docs/iv/modules/icu/procedureevents/)\n",
    "- Medications (https://mimic.mit.edu/docs/iv/modules/icu/inputevents/)\n",
    "- Output Events (https://mimic.mit.edu/docs/iv/modules/icu/outputevents/)\n",
    "- Chart Events (https://mimic.mit.edu/docs/iv/modules/icu/chartevents/)\n",
    "\n",
    "Features available for ICU data -\n",
    "- Diagnosis (https://mimic.mit.edu/docs/iv/modules/hosp/diagnoses_icd/)\n",
    "- Procedures (https://mimic.mit.edu/docs/iv/modules/hosp/procedures_icd/)\n",
    "- Medications (https://mimic.mit.edu/docs/iv/modules/hosp/prescriptions/)\n",
    "- Lab Events (https://mimic.mit.edu/docs/iv/modules/hosp/labevents/)\n",
    "\n",
    "All features will be saved in **./data/features/**\n",
    "\n",
    "**Please run below cell to select features**"
   ]
  },
  {
   "cell_type": "code",
   "execution_count": 7,
   "id": "raised-olympus",
   "metadata": {},
   "outputs": [
    {
     "name": "stdout",
     "output_type": "stream",
     "text": [
      "Feature Selection\n",
      "Which Features you want to include for cohort?\n"
     ]
    },
    {
     "data": {
      "application/vnd.jupyter.widget-view+json": {
       "model_id": "3b47b29b01ac4d97ac1e442815550798",
       "version_major": 2,
       "version_minor": 0
      },
      "text/plain": [
       "Checkbox(value=False, description='Diagnosis')"
      ]
     },
     "metadata": {},
     "output_type": "display_data"
    },
    {
     "data": {
      "application/vnd.jupyter.widget-view+json": {
       "model_id": "9d4784c34d8f498ea4f78cdfa096e70a",
       "version_major": 2,
       "version_minor": 0
      },
      "text/plain": [
       "Checkbox(value=False, description='Output Events')"
      ]
     },
     "metadata": {},
     "output_type": "display_data"
    },
    {
     "data": {
      "application/vnd.jupyter.widget-view+json": {
       "model_id": "b3a030600f62446ebe5b6928a6208c9a",
       "version_major": 2,
       "version_minor": 0
      },
      "text/plain": [
       "Checkbox(value=False, description='Chart Events(Labs and Vitals)')"
      ]
     },
     "metadata": {},
     "output_type": "display_data"
    },
    {
     "data": {
      "application/vnd.jupyter.widget-view+json": {
       "model_id": "0a0f5e7350a84ad9bd8817588451cb19",
       "version_major": 2,
       "version_minor": 0
      },
      "text/plain": [
       "Checkbox(value=False, description='Procedures')"
      ]
     },
     "metadata": {},
     "output_type": "display_data"
    },
    {
     "data": {
      "application/vnd.jupyter.widget-view+json": {
       "model_id": "0ef5af9127874004879eb4dd9edf4847",
       "version_major": 2,
       "version_minor": 0
      },
      "text/plain": [
       "Checkbox(value=False, description='Medications')"
      ]
     },
     "metadata": {},
     "output_type": "display_data"
    },
    {
     "name": "stdout",
     "output_type": "stream",
     "text": [
      "**Please run below cell to extract selected features**\n"
     ]
    }
   ],
   "source": [
    "print(\"Feature Selection\")\n",
    "if data_icu:\n",
    "    print(\"Which Features you want to include for cohort?\")\n",
    "    check_input1 = widgets.Checkbox(description='Diagnosis')\n",
    "    display(check_input1)\n",
    "    check_input2 = widgets.Checkbox(description='Output Events')\n",
    "    display(check_input2)\n",
    "    check_input3 = widgets.Checkbox(description='Chart Events(Labs and Vitals)')\n",
    "    display(check_input3)\n",
    "    check_input4 = widgets.Checkbox(description='Procedures')\n",
    "    display(check_input4)\n",
    "    check_input5 = widgets.Checkbox(description='Medications')\n",
    "    display(check_input5)\n",
    "else:\n",
    "    print(\"Which Features you want to include for cohort?\")\n",
    "    check_input1 = widgets.Checkbox(description='Diagnosis')\n",
    "    display(check_input1)\n",
    "    check_input2 = widgets.Checkbox(description='Labs')\n",
    "    display(check_input2)\n",
    "    check_input3 = widgets.Checkbox(description='Procedures')\n",
    "    display(check_input3)\n",
    "    check_input4 = widgets.Checkbox(description='Medications')\n",
    "    display(check_input4)\n",
    "print(\"**Please run below cell to extract selected features**\")"
   ]
  },
  {
   "cell_type": "markdown",
   "id": "111a895e",
   "metadata": {},
   "source": [
    "Check the error on *Chart Events*: DataFrame has no append function.. error. "
   ]
  },
  {
   "cell_type": "code",
   "execution_count": 8,
   "id": "native-covering",
   "metadata": {
    "scrolled": true
   },
   "outputs": [
    {
     "name": "stdout",
     "output_type": "stream",
     "text": [
      "True True True True True\n",
      "[EXTRACTING DIAGNOSIS DATA]\n",
      "# unique ICD-9 codes 6610\n",
      "# unique ICD-10 codes 9978\n",
      "# unique ICD-10 codes (After converting ICD-9 to ICD-10) 10270\n",
      "# unique ICD-10 codes (After clinical gruping ICD-10 codes) 1520\n",
      "# Admissions:   73159\n",
      "Total rows 1297458\n",
      "[SUCCESSFULLY SAVED DIAGNOSIS DATA]\n",
      "[EXTRACTING OUPTPUT EVENTS DATA]\n",
      "# Unique Events:   71\n",
      "# Admissions:   71111\n",
      "Total rows 4234967\n",
      "[SUCCESSFULLY SAVED OUPTPUT EVENTS DATA]\n",
      "[EXTRACTING CHART EVENTS DATA]\n"
     ]
    },
    {
     "name": "stderr",
     "output_type": "stream",
     "text": [
      "32it [06:51, 12.85s/it]\n"
     ]
    },
    {
     "name": "stdout",
     "output_type": "stream",
     "text": [
      "# Unique Events:   454\n",
      "# Admissions:   73173\n",
      "Total rows 76942772\n",
      "[SUCCESSFULLY SAVED CHART EVENTS DATA]\n",
      "[EXTRACTING PROCEDURES DATA]\n",
      "# Unique Events:   157\n",
      "# Admissions:   72711\n",
      "Total rows 678994\n",
      "[SUCCESSFULLY SAVED PROCEDURES DATA]\n",
      "[EXTRACTING MEDICATIONS DATA]\n",
      "# of unique type of drug:  195\n",
      "# Admissions:   68945\n",
      "# Total rows 4820051\n",
      "[SUCCESSFULLY SAVED MEDICATIONS DATA]\n"
     ]
    }
   ],
   "source": [
    "if data_icu:\n",
    "    diag_flag=check_input1.value\n",
    "    out_flag=check_input2.value\n",
    "    chart_flag=check_input3.value\n",
    "    proc_flag=check_input4.value\n",
    "    med_flag=check_input5.value\n",
    "    print(diag_flag, out_flag, chart_flag, proc_flag, med_flag)\n",
    "    feature_icu(cohort_output, version_path,diag_flag,out_flag,chart_flag,proc_flag,med_flag)\n",
    "else:\n",
    "    diag_flag=check_input1.value\n",
    "    lab_flag=check_input2.value\n",
    "    proc_flag=check_input3.value\n",
    "    med_flag=check_input4.value\n",
    "    feature_nonicu(cohort_output, version_path,diag_flag,lab_flag,proc_flag,med_flag)"
   ]
  },
  {
   "cell_type": "markdown",
   "id": "cb01dc3e",
   "metadata": {},
   "source": [
    "## No need to repeat this step every time!\n",
    "CSVs are stored at /data/features as preproc_... "
   ]
  },
  {
   "cell_type": "markdown",
   "id": "aboriginal-upset",
   "metadata": {},
   "source": [
    "## 3. CLINICAL GROUPING\n",
    "Below you will have option to clinically group diagnosis and medications.\n",
    "Grouping medical codes will reduce dimensional space of features.\n",
    "\n",
    "Default options selected below will group medical codes to reduce feature dimension space.\n",
    "\n",
    "**Please run below cell to select preprocessing for diferent features**"
   ]
  },
  {
   "cell_type": "markdown",
   "id": "9fb3ba2d",
   "metadata": {},
   "source": [
    "ICD 10 DIAG Codes are more descriptive: \n",
    "1. We should try and evaluate the expressiveness of the ICD-10 codes compared to ICD-9 codes as a proof-of-concept."
   ]
  },
  {
   "cell_type": "code",
   "execution_count": 9,
   "id": "partial-manhattan",
   "metadata": {},
   "outputs": [
    {
     "name": "stdout",
     "output_type": "stream",
     "text": [
      "Do you want to group ICD 10 DIAG codes ?\n"
     ]
    },
    {
     "data": {
      "application/vnd.jupyter.widget-view+json": {
       "model_id": "42a48a0992fa44dd9b54eeeda5924e02",
       "version_major": 2,
       "version_minor": 0
      },
      "text/plain": [
       "RadioButtons(index=2, layout=Layout(width='100%'), options=('Keep both ICD-9 and ICD-10 codes', 'Convert ICD-9…"
      ]
     },
     "metadata": {},
     "output_type": "display_data"
    },
    {
     "name": "stdout",
     "output_type": "stream",
     "text": [
      "**Please run below cell to perform feature preprocessing**\n"
     ]
    }
   ],
   "source": [
    "if data_icu:\n",
    "    if diag_flag:\n",
    "        print(\"Do you want to group ICD 10 DIAG codes ?\")\n",
    "        radio_input4 = widgets.RadioButtons(options=['Keep both ICD-9 and ICD-10 codes','Convert ICD-9 to ICD-10 codes','Convert ICD-9 to ICD-10 and group ICD-10 codes'],value='Convert ICD-9 to ICD-10 and group ICD-10 codes',layout={'width': '100%'})\n",
    "        display(radio_input4)   \n",
    "    \n",
    "else:\n",
    "    if diag_flag:\n",
    "        print(\"Do you want to group ICD 10 DIAG codes ?\")\n",
    "        radio_input4 = widgets.RadioButtons(options=['Keep both ICD-9 and ICD-10 codes','Convert ICD-9 to ICD-10 codes','Convert ICD-9 to ICD-10 and group ICD-10 codes'],value='Convert ICD-9 to ICD-10 and group ICD-10 codes',layout={'width': '100%'})\n",
    "        display(radio_input4)     \n",
    "    if med_flag:\n",
    "        print(\"Do you want to group Medication codes to use Non propietary names?\")\n",
    "        radio_input5 = widgets.RadioButtons(options=['Yes','No'],value='Yes',layout={'width': '100%'})\n",
    "        display(radio_input5)\n",
    "    if proc_flag:\n",
    "        print(\"Which ICD codes for Procedures you want to keep in data?\")\n",
    "        radio_input6 = widgets.RadioButtons(options=['ICD-9 and ICD-10','ICD-10'],value='ICD-10',layout={'width': '100%'})\n",
    "        display(radio_input6)\n",
    "print(\"**Please run below cell to perform feature preprocessing**\")"
   ]
  },
  {
   "cell_type": "code",
   "execution_count": 10,
   "id": "descending-symphony",
   "metadata": {},
   "outputs": [
    {
     "name": "stdout",
     "output_type": "stream",
     "text": [
      "[PROCESSING DIAGNOSIS DATA]\n",
      "Total number of rows 1228579\n",
      "[SUCCESSFULLY SAVED DIAGNOSIS DATA]\n"
     ]
    }
   ],
   "source": [
    "group_diag=False\n",
    "group_med=False\n",
    "group_proc=False\n",
    "if data_icu:\n",
    "    if diag_flag:\n",
    "        group_diag=radio_input4.value\n",
    "    preprocess_features_icu(cohort_output, diag_flag, group_diag,False,False,False,0,0)\n",
    "else:\n",
    "    if diag_flag:\n",
    "        group_diag=radio_input4.value\n",
    "    if med_flag:\n",
    "        group_med=radio_input5.value\n",
    "    if proc_flag:\n",
    "        group_proc=radio_input6.value\n",
    "    #preprocess_features_hosp(cohort_output, diag_flag,proc_flag,med_flag,False,group_diag,group_med,group_proc,False,False,0,0)"
   ]
  },
  {
   "cell_type": "markdown",
   "id": "1236d5d2",
   "metadata": {},
   "source": [
    "CSVs are stored at /data/features as preproc_... (Overwritte the csvs of the previous step.)\n",
    "Use this cell as a checkpoint prior to our expressiveness analysis. "
   ]
  },
  {
   "cell_type": "markdown",
   "id": "immediate-captain",
   "metadata": {},
   "source": [
    "### 4. SUMMARY OF FEATURES\n",
    "\n",
    "This step will generate summary of all features extracted so far.<br>\n",
    "It will save summary files in **./data/summary/**<br>\n",
    "- These files provide summary about **mean frequency** of medical codes per admission.<br>\n",
    "- It also provides **total occurrence count** of each medical code.<br>\n",
    "- For labs and chart events it will also provide <br>**missing %** which tells how many rows for a certain medical code has missing value.\n",
    "\n",
    "Please use this information to further refine your cohort by selecting <br>which medical codes in each feature you want to keep and <br>which codes you would like to remove for downstream analysis tasks.\n",
    "\n",
    "**Please run below cell to generate summary files**"
   ]
  },
  {
   "cell_type": "markdown",
   "id": "3d25454e",
   "metadata": {},
   "source": [
    "Entropy Calculation: The helper function calculate_entropy calculates the entropy for each unique ICD code or itemid using the probability distribution of each feature’s occurrence across stays."
   ]
  },
  {
   "cell_type": "code",
   "execution_count": 11,
   "id": "thick-residence",
   "metadata": {},
   "outputs": [
    {
     "name": "stdout",
     "output_type": "stream",
     "text": [
      "True True True True True\n",
      "[GENERATING FEATURE SUMMARY]\n",
      "   subject_id   hadm_id   stay_id new_icd_code\n",
      "0    10000032  29079034  39553978          I95\n",
      "1    10000032  29079034  39553978          B15\n",
      "2    10000032  29079034  39553978          R69\n",
      "3    10000032  29079034  39553978          E87\n",
      "4    10000032  29079034  39553978          R10\n",
      "[SUCCESSFULLY SAVED FEATURE SUMMARY]\n"
     ]
    }
   ],
   "source": [
    "if data_icu:\n",
    "    print(diag_flag,proc_flag,med_flag,out_flag,chart_flag)\n",
    "    generate_summary_icu(diag_flag,proc_flag,med_flag,out_flag,chart_flag)\n",
    "    #generate_expressive_summary_icu(diag_flag,proc_flag,med_flag,out_flag,chart_flag)\n",
    "else:\n",
    "    generate_summary_hosp(diag_flag,proc_flag,med_flag,lab_flag)"
   ]
  },
  {
   "cell_type": "markdown",
   "id": "northern-architecture",
   "metadata": {},
   "source": [
    "## 5. Feature Selection\n",
    "\n",
    "based on the files generated in previous step and other infromation gathered by you,<br>\n",
    "Please select which medical codes you want to include in this study.\n",
    "\n",
    "Please run below cell to to select options for which features you want to perform feature selection.\n",
    "\n",
    "- Select **Yes** if you want to select a subset of medical codes for that feature and<br> **edit** the corresponding feature file for it.\n",
    "- Select **No** if you want to keep all the codes in a feature."
   ]
  },
  {
   "cell_type": "code",
   "execution_count": 13,
   "id": "immediate-seafood",
   "metadata": {},
   "outputs": [
    {
     "name": "stdout",
     "output_type": "stream",
     "text": [
      "Do you want to do Feature Selection for Diagnosis \n",
      " (If yes, please edit list of codes in ./data/summary/diag_features.csv)\n"
     ]
    },
    {
     "data": {
      "application/vnd.jupyter.widget-view+json": {
       "model_id": "c1518954a220487d910f1c959c42b58b",
       "version_major": 2,
       "version_minor": 0
      },
      "text/plain": [
       "RadioButtons(index=1, options=('Yes', 'No'), value='No')"
      ]
     },
     "metadata": {},
     "output_type": "display_data"
    },
    {
     "name": "stdout",
     "output_type": "stream",
     "text": [
      "Do you want to do Feature Selection for Medication \n",
      " (If yes, please edit list of codes in ./data/summary/med_features.csv)\n"
     ]
    },
    {
     "data": {
      "application/vnd.jupyter.widget-view+json": {
       "model_id": "a33b8a69133e493d8ea5660cd08ea9d9",
       "version_major": 2,
       "version_minor": 0
      },
      "text/plain": [
       "RadioButtons(index=1, options=('Yes', 'No'), value='No')"
      ]
     },
     "metadata": {},
     "output_type": "display_data"
    },
    {
     "name": "stdout",
     "output_type": "stream",
     "text": [
      "Do you want to do Feature Selection for Procedures \n",
      " (If yes, please edit list of codes in ./data/summary/proc_features.csv)\n"
     ]
    },
    {
     "data": {
      "application/vnd.jupyter.widget-view+json": {
       "model_id": "6b721a8119b4403eb60f9c3cb921b21b",
       "version_major": 2,
       "version_minor": 0
      },
      "text/plain": [
       "RadioButtons(index=1, options=('Yes', 'No'), value='No')"
      ]
     },
     "metadata": {},
     "output_type": "display_data"
    },
    {
     "name": "stdout",
     "output_type": "stream",
     "text": [
      "Do you want to do Feature Selection for Output event \n",
      " (If yes, please edit list of codes in ./data/summary/out_features.csv)\n"
     ]
    },
    {
     "data": {
      "application/vnd.jupyter.widget-view+json": {
       "model_id": "96fb9981515a4efd8a3fb39f41e72879",
       "version_major": 2,
       "version_minor": 0
      },
      "text/plain": [
       "RadioButtons(index=1, options=('Yes', 'No'), value='No')"
      ]
     },
     "metadata": {},
     "output_type": "display_data"
    },
    {
     "name": "stdout",
     "output_type": "stream",
     "text": [
      "Do you want to do Feature Selection for Chart events \n",
      " (If yes, please edit list of codes in ./data/summary/chart_features.csv)\n"
     ]
    },
    {
     "data": {
      "application/vnd.jupyter.widget-view+json": {
       "model_id": "da1613e9ca304b4f91afacd45ee0c85d",
       "version_major": 2,
       "version_minor": 0
      },
      "text/plain": [
       "RadioButtons(index=1, options=('Yes', 'No'), value='No')"
      ]
     },
     "metadata": {},
     "output_type": "display_data"
    },
    {
     "name": "stdout",
     "output_type": "stream",
     "text": [
      "**Please run below cell to perform feature selection**\n"
     ]
    }
   ],
   "source": [
    "if data_icu:\n",
    "    if diag_flag:\n",
    "        print(\"Do you want to do Feature Selection for Diagnosis \\n (If yes, please edit list of codes in ./data/summary/diag_features.csv)\")\n",
    "        radio_input4 = widgets.RadioButtons(options=['Yes','No'],value='No')\n",
    "        display(radio_input4)       \n",
    "    if med_flag:\n",
    "        print(\"Do you want to do Feature Selection for Medication \\n (If yes, please edit list of codes in ./data/summary/med_features.csv)\")\n",
    "        radio_input5 = widgets.RadioButtons(options=['Yes','No'],value='No')\n",
    "        display(radio_input5)   \n",
    "    if proc_flag:\n",
    "        print(\"Do you want to do Feature Selection for Procedures \\n (If yes, please edit list of codes in ./data/summary/proc_features.csv)\")\n",
    "        radio_input6 = widgets.RadioButtons(options=['Yes','No'],value='No')\n",
    "        display(radio_input6)   \n",
    "    if out_flag:\n",
    "        print(\"Do you want to do Feature Selection for Output event \\n (If yes, please edit list of codes in ./data/summary/out_features.csv)\")\n",
    "        radio_input7 = widgets.RadioButtons(options=['Yes','No'],value='No')\n",
    "        display(radio_input7)  \n",
    "    if chart_flag:\n",
    "        print(\"Do you want to do Feature Selection for Chart events \\n (If yes, please edit list of codes in ./data/summary/chart_features.csv)\")\n",
    "        radio_input8 = widgets.RadioButtons(options=['Yes','No'],value='No')\n",
    "        display(radio_input8)  \n",
    "else:\n",
    "    if diag_flag:\n",
    "        print(\"Do you want to do Feature Selection for Diagnosis \\n (If yes, please edit list of codes in ./data/summary/diag_features.csv)\")\n",
    "        radio_input4 = widgets.RadioButtons(options=['Yes','No'],value='No')\n",
    "        display(radio_input4)         \n",
    "    if med_flag:\n",
    "        print(\"Do you want to do Feature Selection for Medication \\n (If yes, please edit list of codes in ./data/summary/med_features.csv)\")\n",
    "        radio_input5 = widgets.RadioButtons(options=['Yes','No'],value='No')\n",
    "        display(radio_input5)   \n",
    "    if proc_flag:\n",
    "        print(\"Do you want to do Feature Selection for Procedures \\n (If yes, please edit list of codes in ./data/summary/proc_features.csv)\")\n",
    "        radio_input6 = widgets.RadioButtons(options=['Yes','No'],value='No')\n",
    "        display(radio_input6)   \n",
    "    if lab_flag:\n",
    "        print(\"Do you want to do Feature Selection for Labs \\n (If yes, please edit list of codes in ./data/summary/lab_features.csv)\")\n",
    "        radio_input7 = widgets.RadioButtons(options=['Yes','No'],value='No')\n",
    "        display(radio_input7)   \n",
    "print(\"**Please run below cell to perform feature selection**\")"
   ]
  },
  {
   "cell_type": "code",
   "execution_count": 14,
   "id": "c9bb0455",
   "metadata": {},
   "outputs": [
    {
     "name": "stdout",
     "output_type": "stream",
     "text": [
      "Do you want to perform values Selection on the previously selected features based on entropy?\n"
     ]
    },
    {
     "data": {
      "application/vnd.jupyter.widget-view+json": {
       "model_id": "be8132f84344481ab108a8e861021109",
       "version_major": 2,
       "version_minor": 0
      },
      "text/plain": [
       "RadioButtons(index=1, options=('Yes', 'No'), value='No')"
      ]
     },
     "metadata": {},
     "output_type": "display_data"
    }
   ],
   "source": [
    "print(\"Do you want to perform values Selection on the previously selected features based on entropy?\")\n",
    "radio_input_entropy = widgets.RadioButtons(options=['Yes','No'],value='No')\n",
    "display(radio_input_entropy)"
   ]
  },
  {
   "cell_type": "code",
   "execution_count": 15,
   "id": "perceived-python",
   "metadata": {},
   "outputs": [],
   "source": [
    "select_diag=False\n",
    "select_med=False\n",
    "select_proc=False\n",
    "select_lab=False\n",
    "select_out=False\n",
    "select_chart=False\n",
    "select_entropy_filtering=radio_input_entropy.value == 'Yes'\n",
    "\n",
    "if data_icu:\n",
    "    if diag_flag:\n",
    "        select_diag=radio_input4.value == 'Yes'\n",
    "    if med_flag:\n",
    "        select_med=radio_input5.value == 'Yes'\n",
    "    if proc_flag:\n",
    "        select_proc=radio_input6.value == 'Yes'\n",
    "    if out_flag:\n",
    "        select_out=radio_input7.value == 'Yes'\n",
    "    if chart_flag:\n",
    "        select_chart=radio_input8.value == 'Yes'\n",
    "    if select_entropy_filtering:\n",
    "        entropy_feature_values_filtering(select_diag,select_med,select_proc,select_out,select_chart)\n",
    "        \n",
    "    # This function preserves only the rows (lines) in the data that contain feature values present in the features list (e.g., diag_features.csv).\n",
    "    features_selection_icu(cohort_output, diag_flag,proc_flag,med_flag,out_flag, chart_flag,select_diag,select_med,select_proc,select_out,select_chart)\n",
    "else:\n",
    "    if diag_flag:\n",
    "        select_diag=radio_input4.value == 'Yes'\n",
    "    if med_flag:\n",
    "        select_med=radio_input5.value == 'Yes'\n",
    "    if proc_flag:\n",
    "        select_proc=radio_input6.value == 'Yes'\n",
    "    if lab_flag:\n",
    "        select_lab=radio_input7.value == 'Yes'\n",
    "    #features_selection_hosp(cohort_output, diag_flag,proc_flag,med_flag,lab_flag,select_diag,select_med,select_proc,select_lab)"
   ]
  },
  {
   "cell_type": "markdown",
   "id": "c8a6ec62",
   "metadata": {},
   "source": [
    "Expressiveness\n",
    "```\n",
    "[FEATURE SELECTION DIAGNOSIS DATA]\n",
    "Total number of rows 996062\n",
    "[SUCCESSFULLY SAVED DIAGNOSIS DATA]\n",
    "\n",
    "[FEATURE SELECTION MEDICATIONS DATA]\n",
    "Total number of rows 3891123\n",
    "[SUCCESSFULLY SAVED MEDICATIONS DATA]\n",
    "\n",
    "[FEATURE SELECTION PROCEDURES DATA]\n",
    "Total number of rows 453753\n",
    "[SUCCESSFULLY SAVED PROCEDURES DATA]\n",
    "\n",
    "[FEATURE SELECTION OUTPUT EVENTS DATA]\n",
    "...\n",
    "[SUCCESSFULLY SAVED OUTPUT EVENTS DATA]\n",
    "\n",
    "[FEATURE SELECTION CHART EVENTS DATA]\n",
    "Total number of rows 46452900\n",
    "[SUCCESSFULLY SAVED CHART EVENTS DATA]\n",
    "```"
   ]
  },
  {
   "cell_type": "markdown",
   "id": "comfortable-director",
   "metadata": {},
   "source": [
    "## 6. CLEANING OF FEATURES\n",
    "Below you will have option to to clean lab and chart events by performing outlier removal and unit conversion.\n",
    "\n",
    "Outlier removal is performed to remove values higher than selected **right threshold** percentile and lower than selected **left threshold** percentile among all values for each itemid. \n",
    "\n",
    "**Please run below cell to select preprocessing for diferent features**"
   ]
  },
  {
   "cell_type": "code",
   "execution_count": 16,
   "id": "moderate-forum",
   "metadata": {},
   "outputs": [
    {
     "name": "stdout",
     "output_type": "stream",
     "text": [
      "Outlier removal in values of chart events ?\n"
     ]
    },
    {
     "data": {
      "application/vnd.jupyter.widget-view+json": {
       "model_id": "3180cc1fca6d4784a7a65db8ba6cd1a8",
       "version_major": 2,
       "version_minor": 0
      },
      "text/plain": [
       "RadioButtons(layout=Layout(height='40px', width='100%'), options=('No outlier detection', 'Impute Outlier (def…"
      ]
     },
     "metadata": {},
     "output_type": "display_data"
    },
    {
     "data": {
      "application/vnd.jupyter.widget-view+json": {
       "model_id": "b373dcd655b7426e9f5a7cda18a037b6",
       "version_major": 2,
       "version_minor": 0
      },
      "text/plain": [
       "HBox(children=(Label(value='Right Outlier Threshold', layout=Layout(width='150px')), IntSlider(value=98, layou…"
      ]
     },
     "metadata": {},
     "output_type": "display_data"
    },
    {
     "data": {
      "application/vnd.jupyter.widget-view+json": {
       "model_id": "d9dfecbcafba4ef88e45885e5b71bbd2",
       "version_major": 2,
       "version_minor": 0
      },
      "text/plain": [
       "HBox(children=(Label(value='Left Outlier Threshold', layout=Layout(width='150px')), IntSlider(value=0, layout=…"
      ]
     },
     "metadata": {},
     "output_type": "display_data"
    },
    {
     "name": "stdout",
     "output_type": "stream",
     "text": [
      "**Please run below cell to perform feature preprocessing**\n"
     ]
    }
   ],
   "source": [
    "if data_icu:\n",
    "    if chart_flag:\n",
    "        print(\"Outlier removal in values of chart events ?\")\n",
    "        layout = widgets.Layout(width='100%', height='40px') #set width and height\n",
    "\n",
    "        radio_input5 = widgets.RadioButtons(options=['No outlier detection','Impute Outlier (default:98)','Remove outliers (default:98)'],value='No outlier detection',layout=layout)\n",
    "        display(radio_input5)\n",
    "        outlier=widgets.IntSlider(\n",
    "        value=98,\n",
    "        min=90,\n",
    "        max=99,\n",
    "        step=1,\n",
    "        disabled=False,layout={'width': '100%'}\n",
    "        )\n",
    "        left_outlier=widgets.IntSlider(\n",
    "        value=0,\n",
    "        min=0,\n",
    "        max=10,\n",
    "        step=1,\n",
    "        disabled=False,layout={'width': '100%'}\n",
    "        )\n",
    "        #display(oulier)\n",
    "        display(widgets.HBox([widgets.Label('Right Outlier Threshold',layout={'width': '150px'}), outlier]))\n",
    "        display(widgets.HBox([widgets.Label('Left Outlier Threshold',layout={'width': '150px'}), left_outlier]))\n",
    "    \n",
    "else:      \n",
    "    if lab_flag:\n",
    "        print(\"Outlier removal in values of lab events ?\")\n",
    "        layout = widgets.Layout(width='100%', height='40px') #set width and height\n",
    "\n",
    "        radio_input7 = widgets.RadioButtons(options=['No outlier detection','Impute Outlier (default:98)','Remove outliers (default:98)'],value='No outlier detection',layout=layout)\n",
    "        display(radio_input7)\n",
    "        outlier=widgets.IntSlider(\n",
    "        value=98,\n",
    "        min=90,\n",
    "        max=99,\n",
    "        step=1,\n",
    "        disabled=False,layout={'width': '100%'}\n",
    "        )\n",
    "        left_outlier=widgets.IntSlider(\n",
    "        value=0,\n",
    "        min=0,\n",
    "        max=10,\n",
    "        step=1,\n",
    "        disabled=False,layout={'width': '100%'}\n",
    "        )\n",
    "        #display(oulier)\n",
    "        display(widgets.HBox([widgets.Label('Right Outlier Threshold',layout={'width': '150px'}), outlier]))\n",
    "        display(widgets.HBox([widgets.Label('Left Outlier Threshold',layout={'width': '150px'}), left_outlier]))\n",
    "print(\"**Please run below cell to perform feature preprocessing**\")"
   ]
  },
  {
   "cell_type": "markdown",
   "id": "0ccfb558",
   "metadata": {},
   "source": [
    "Fix 3 and include lab and chart events features, and then re-run this to check what is the issue."
   ]
  },
  {
   "cell_type": "code",
   "execution_count": 17,
   "id": "impossible-mailman",
   "metadata": {},
   "outputs": [],
   "source": [
    "thresh=0\n",
    "if data_icu:\n",
    "    if chart_flag:\n",
    "        clean_chart=radio_input5.value!='No outlier detection'\n",
    "        impute_outlier_chart=radio_input5.value=='Impute Outlier (default:98)'\n",
    "        thresh=outlier.value\n",
    "        left_thresh=left_outlier.value\n",
    "    preprocess_features_icu(cohort_output, False, False,chart_flag,clean_chart,impute_outlier_chart,thresh,left_thresh)\n",
    "else:\n",
    "    if lab_flag:\n",
    "        clean_lab=radio_input7.value!='No outlier detection'\n",
    "        impute_outlier=radio_input7.value=='Impute Outlier (default:98)'\n",
    "        thresh=outlier.value\n",
    "        left_thresh=left_outlier.value\n",
    "    preprocess_features_hosp(cohort_output, False,False,False,lab_flag,False,False,False,clean_lab,impute_outlier,thresh,left_thresh)"
   ]
  },
  {
   "cell_type": "markdown",
   "id": "independent-academy",
   "metadata": {},
   "source": [
    "## 7. Time-Series Representation\n",
    "In this section, please choose how you want to process and represent time-series data.\n",
    "\n",
    "- First option is to select the length of time-series data you want to include for this study. (Default is 72 hours)\n",
    "\n",
    "- Second option is to select bucket size which tells in what size time windows you want to divide your time-series.<br>\n",
    "For example, if you select **2** bucket size, it wil aggregate data for every 2 hours and <br>a time-series of length 24 hours will be represented as time-series with 12 time-windows <br>where data for every 2 hours is agggregated from original raw time-series.\n",
    "\n",
    "During this step, we will also save the time-series data in data dictionaries in the format that can be directly used for following deep learning analysis.\n",
    "\n",
    "### Imputation\n",
    "You can also choose if you want to impute lab/chart values. The imputation will be done by froward fill and mean or median imputation.<br>\n",
    "Values will be forward fill first and if no value exists for that admission we will use mean or median value for the patient.\n",
    "\n",
    "The data dictionaries will be saved in **./data/dict/**\n",
    "\n",
    "Please refer the readme to know the structure of data dictionaries.\n",
    "\n",
    "**Please run below cell to select time-series representation**"
   ]
  },
  {
   "cell_type": "code",
   "execution_count": 18,
   "id": "mechanical-three",
   "metadata": {},
   "outputs": [
    {
     "name": "stdout",
     "output_type": "stream",
     "text": [
      "=======Time-series Data Represenation=======\n",
      "Length of data to be included for time-series prediction ?\n"
     ]
    },
    {
     "data": {
      "application/vnd.jupyter.widget-view+json": {
       "model_id": "e828d2a47d394034bce144114e3084be",
       "version_major": 2,
       "version_minor": 0
      },
      "text/plain": [
       "RadioButtons(index=1, options=('First 12 hours', 'First 24 hours', 'Custom'), value='First 24 hours')"
      ]
     },
     "metadata": {},
     "output_type": "display_data"
    },
    {
     "data": {
      "application/vnd.jupyter.widget-view+json": {
       "model_id": "e51a37b0c3b54520883fc06d47dccd8a",
       "version_major": 2,
       "version_minor": 0
      },
      "text/plain": [
       "HBox(children=(Label(value='Fisrt (in hours):', layout=Layout(width='150px')), IntSlider(value=72, description…"
      ]
     },
     "metadata": {},
     "output_type": "display_data"
    },
    {
     "name": "stdout",
     "output_type": "stream",
     "text": [
      "What time bucket size you want to choose ?\n"
     ]
    },
    {
     "data": {
      "application/vnd.jupyter.widget-view+json": {
       "model_id": "bafc6bfdb8f840008440849c21fea21b",
       "version_major": 2,
       "version_minor": 0
      },
      "text/plain": [
       "RadioButtons(options=('1 hour', '2 hour', '3 hour', '4 hour', '5 hour', 'Custom'), value='1 hour')"
      ]
     },
     "metadata": {},
     "output_type": "display_data"
    },
    {
     "data": {
      "application/vnd.jupyter.widget-view+json": {
       "model_id": "ac97706f1dbb4fbd87a40bee568215f3",
       "version_major": 2,
       "version_minor": 0
      },
      "text/plain": [
       "HBox(children=(Label(value='Bucket Size (in hours):', layout=Layout(width='150px')), IntSlider(value=1, max=6,…"
      ]
     },
     "metadata": {},
     "output_type": "display_data"
    },
    {
     "name": "stdout",
     "output_type": "stream",
     "text": [
      "Do you want to forward fill and mean or median impute lab/chart values to form continuous data signal?\n"
     ]
    },
    {
     "data": {
      "application/vnd.jupyter.widget-view+json": {
       "model_id": "f3e8f686e92740f2b998a4a7fd9afe3c",
       "version_major": 2,
       "version_minor": 0
      },
      "text/plain": [
       "RadioButtons(options=('No Imputation', 'forward fill and mean', 'forward fill and median'), value='No Imputati…"
      ]
     },
     "metadata": {},
     "output_type": "display_data"
    },
    {
     "name": "stdout",
     "output_type": "stream",
     "text": [
      "**Please run below cell to perform time-series represenation and save in data dictionaries**\n"
     ]
    }
   ],
   "source": [
    "print(\"=======Time-series Data Represenation=======\")\n",
    "\n",
    "print(\"Length of data to be included for time-series prediction ?\")\n",
    "if(data_mort):\n",
    "    radio_input8 = widgets.RadioButtons(options=['First 72 hours','First 48 hours','First 24 hours','Custom'],value='First 72 hours')\n",
    "    display(radio_input8)\n",
    "    text2=widgets.IntSlider(\n",
    "    value=72,\n",
    "    min=24,\n",
    "    max=72,\n",
    "    step=1,\n",
    "    description='Fisrt',\n",
    "    disabled=False\n",
    "    )\n",
    "    display(widgets.HBox([widgets.Label('Fisrt (in hours):',layout={'width': '150px'}), text2]))\n",
    "elif(data_admn):\n",
    "    radio_input8 = widgets.RadioButtons(options=['Last 72 hours','Last 48 hours','Last 24 hours','Custom'],value='Last 72 hours')\n",
    "    display(radio_input8)\n",
    "    text2=widgets.IntSlider(\n",
    "    value=72,\n",
    "    min=24,\n",
    "    max=72,\n",
    "    step=1,\n",
    "    description='Last',\n",
    "    disabled=False\n",
    "    )\n",
    "    display(widgets.HBox([widgets.Label('Last (in hours):',layout={'width': '150px'}), text2]))\n",
    "elif(data_los):\n",
    "    radio_input8 = widgets.RadioButtons(options=['First 12 hours','First 24 hours','Custom'],value='First 24 hours')\n",
    "    display(radio_input8)\n",
    "    text2=widgets.IntSlider(\n",
    "    value=72,\n",
    "    min=12,\n",
    "    max=72,\n",
    "    step=1,\n",
    "    description='First',\n",
    "    disabled=False\n",
    "    )\n",
    "    display(widgets.HBox([widgets.Label('Fisrt (in hours):',layout={'width': '150px'}), text2]))\n",
    "    \n",
    "    \n",
    "print(\"What time bucket size you want to choose ?\")\n",
    "radio_input7 = widgets.RadioButtons(options=['1 hour','2 hour','3 hour','4 hour','5 hour','Custom'],value='1 hour')\n",
    "display(radio_input7)\n",
    "text1=widgets.IntSlider(\n",
    "    value=1,\n",
    "    min=1,\n",
    "    max=6,\n",
    "    step=1,\n",
    "    disabled=False\n",
    "    )\n",
    "#display(text1)\n",
    "display(widgets.HBox([widgets.Label('Bucket Size (in hours):',layout={'width': '150px'}), text1]))\n",
    "print(\"Do you want to forward fill and mean or median impute lab/chart values to form continuous data signal?\")\n",
    "radio_impute = widgets.RadioButtons(options=['No Imputation', 'forward fill and mean','forward fill and median'],value='No Imputation')\n",
    "display(radio_impute)   \n",
    "\n",
    "radio_input6 = widgets.RadioButtons(options=['0 hours','2 hours','4 hours','6 hours'],value='0 hours')\n",
    "if(data_mort):\n",
    "    print(\"If you have choosen mortality prediction task, then what prediction window length you want to keep?\")\n",
    "    radio_input6 = widgets.RadioButtons(options=['2 hours','4 hours','6 hours','8 hours','Custom'],value='2 hours')\n",
    "    display(radio_input6)\n",
    "    text3=widgets.IntSlider(\n",
    "    value=2,\n",
    "    min=2,\n",
    "    max=8,\n",
    "    step=1,\n",
    "    disabled=False\n",
    "    )\n",
    "    display(widgets.HBox([widgets.Label('Prediction window (in hours)',layout={'width': '180px'}), text3]))\n",
    "print(\"**Please run below cell to perform time-series represenation and save in data dictionaries**\")"
   ]
  },
  {
   "cell_type": "code",
   "execution_count": 19,
   "id": "indie-appendix",
   "metadata": {},
   "outputs": [
    {
     "name": "stdout",
     "output_type": "stream",
     "text": [
      "[ READ COHORT ]\n",
      "[ ======READING DIAGNOSIS ]\n",
      "[ ======READING PROCEDURES ]\n",
      "[ ======READING OUT EVENTS ]\n",
      "[ ======READING CHART EVENTS ]\n"
     ]
    },
    {
     "name": "stderr",
     "output_type": "stream",
     "text": [
      "16it [06:26, 24.16s/it]\n"
     ]
    },
    {
     "name": "stdout",
     "output_type": "stream",
     "text": [
      "[ ======READING MEDICATIONS ]\n",
      "[ READ ALL FEATURES ]\n",
      "include_time 12\n",
      "[ PROCESSED TIME SERIES TO EQUAL LENGTH  ]\n"
     ]
    },
    {
     "name": "stderr",
     "output_type": "stream",
     "text": [
      "100%|██████████| 3/3 [00:03<00:00,  1.05s/it]\n"
     ]
    },
    {
     "name": "stdout",
     "output_type": "stream",
     "text": [
      "bucket 4\n",
      "[ PROCESSED TIME SERIES TO EQUAL TIME INTERVAL ]\n",
      "3\n"
     ]
    },
    {
     "name": "stderr",
     "output_type": "stream",
     "text": [
      " 66%|██████▌   | 46045/70123 [16:09:36<8:27:01,  1.26s/it] \n"
     ]
    },
    {
     "ename": "OSError",
     "evalue": "[Errno 5] Input/output error",
     "output_type": "error",
     "traceback": [
      "\u001b[0;31m---------------------------------------------------------------------------\u001b[0m",
      "\u001b[0;31mOSError\u001b[0m                                   Traceback (most recent call last)",
      "Cell \u001b[0;32mIn[19], line 21\u001b[0m\n\u001b[1;32m     18\u001b[0m     impute\u001b[38;5;241m=\u001b[39m\u001b[38;5;28;01mFalse\u001b[39;00m\n\u001b[1;32m     20\u001b[0m \u001b[38;5;28;01mif\u001b[39;00m data_icu:\n\u001b[0;32m---> 21\u001b[0m     gen\u001b[38;5;241m=\u001b[39m\u001b[43mdata_generation_icu\u001b[49m\u001b[38;5;241;43m.\u001b[39;49m\u001b[43mGenerator\u001b[49m\u001b[43m(\u001b[49m\u001b[43mcohort_output\u001b[49m\u001b[43m,\u001b[49m\u001b[43mdata_mort\u001b[49m\u001b[43m,\u001b[49m\u001b[43mdata_admn\u001b[49m\u001b[43m,\u001b[49m\u001b[43mdata_los\u001b[49m\u001b[43m,\u001b[49m\u001b[43mdiag_flag\u001b[49m\u001b[43m,\u001b[49m\u001b[43mproc_flag\u001b[49m\u001b[43m,\u001b[49m\u001b[43mout_flag\u001b[49m\u001b[43m,\u001b[49m\u001b[43mchart_flag\u001b[49m\u001b[43m,\u001b[49m\u001b[43mmed_flag\u001b[49m\u001b[43m,\u001b[49m\u001b[43mimpute\u001b[49m\u001b[43m,\u001b[49m\u001b[43minclude\u001b[49m\u001b[43m,\u001b[49m\u001b[43mbucket\u001b[49m\u001b[43m,\u001b[49m\u001b[43mpredW\u001b[49m\u001b[43m)\u001b[49m\n\u001b[1;32m     22\u001b[0m     \u001b[38;5;66;03m#gen=data_generation_icu.Generator(cohort_output,data_mort,diag_flag,False,False,chart_flag,False,impute,include,bucket,predW)\u001b[39;00m\n\u001b[1;32m     23\u001b[0m     \u001b[38;5;66;03m#if chart_flag:\u001b[39;00m\n\u001b[1;32m     24\u001b[0m     \u001b[38;5;66;03m#    gen=data_generation_icu.Generator(cohort_output,data_mort,False,False,False,chart_flag,False,impute,include,bucket,predW)\u001b[39;00m\n\u001b[1;32m     25\u001b[0m \u001b[38;5;28;01melse\u001b[39;00m:\n\u001b[1;32m     26\u001b[0m     gen\u001b[38;5;241m=\u001b[39mdata_generation\u001b[38;5;241m.\u001b[39mGenerator(cohort_output,data_mort,data_admn,data_los,diag_flag,lab_flag,proc_flag,med_flag,impute,include,bucket,predW)\n",
      "File \u001b[0;32m/mnt/d/MIMIC-IV/MIMIC-IV-Data-Pipeline/model/data_generation_icu.py:38\u001b[0m, in \u001b[0;36mGenerator.__init__\u001b[0;34m(self, cohort_output, if_mort, if_admn, if_los, feat_cond, feat_proc, feat_out, feat_chart, feat_med, impute, include_time, bucket, predW)\u001b[0m\n\u001b[1;32m     35\u001b[0m     \u001b[38;5;28mself\u001b[39m\u001b[38;5;241m.\u001b[39mlos_length(include_time)\n\u001b[1;32m     36\u001b[0m     \u001b[38;5;28mprint\u001b[39m(\u001b[38;5;124m\"\u001b[39m\u001b[38;5;124m[ PROCESSED TIME SERIES TO EQUAL LENGTH  ]\u001b[39m\u001b[38;5;124m\"\u001b[39m)\n\u001b[0;32m---> 38\u001b[0m \u001b[38;5;28;43mself\u001b[39;49m\u001b[38;5;241;43m.\u001b[39;49m\u001b[43msmooth_meds\u001b[49m\u001b[43m(\u001b[49m\u001b[43mbucket\u001b[49m\u001b[43m)\u001b[49m\n\u001b[1;32m     39\u001b[0m \u001b[38;5;28mprint\u001b[39m(\u001b[38;5;124m\"\u001b[39m\u001b[38;5;124m[ SUCCESSFULLY SAVED DATA DICTIONARIES ]\u001b[39m\u001b[38;5;124m\"\u001b[39m)\n",
      "File \u001b[0;32m/mnt/d/MIMIC-IV/MIMIC-IV-Data-Pipeline/model/data_generation_icu.py:382\u001b[0m, in \u001b[0;36mGenerator.smooth_meds\u001b[0;34m(self, bucket)\u001b[0m\n\u001b[1;32m    377\u001b[0m         \u001b[38;5;28mprint\u001b[39m(\u001b[38;5;124m\"\u001b[39m\u001b[38;5;124m[ PROCESSED TIME SERIES TO EQUAL TIME INTERVAL ]\u001b[39m\u001b[38;5;124m\"\u001b[39m)\n\u001b[1;32m    378\u001b[0m         \u001b[38;5;66;03m###CREATE DICT\u001b[39;00m\n\u001b[1;32m    379\u001b[0m \u001b[38;5;66;03m#         if(self.feat_chart):\u001b[39;00m\n\u001b[1;32m    380\u001b[0m \u001b[38;5;66;03m#             self.create_chartDict(final_chart,los)\u001b[39;00m\n\u001b[1;32m    381\u001b[0m \u001b[38;5;66;03m#         else:\u001b[39;00m\n\u001b[0;32m--> 382\u001b[0m         \u001b[38;5;28;43mself\u001b[39;49m\u001b[38;5;241;43m.\u001b[39;49m\u001b[43mcreate_Dict\u001b[49m\u001b[43m(\u001b[49m\u001b[43mfinal_meds\u001b[49m\u001b[43m,\u001b[49m\u001b[43mfinal_proc\u001b[49m\u001b[43m,\u001b[49m\u001b[43mfinal_out\u001b[49m\u001b[43m,\u001b[49m\u001b[43mfinal_chart\u001b[49m\u001b[43m,\u001b[49m\u001b[43mlos\u001b[49m\u001b[43m)\u001b[49m\n",
      "File \u001b[0;32m/mnt/d/MIMIC-IV/MIMIC-IV-Data-Pipeline/model/data_generation_icu.py:654\u001b[0m, in \u001b[0;36mGenerator.create_Dict\u001b[0;34m(self, meds, proc, out, chart, los)\u001b[0m\n\u001b[1;32m    651\u001b[0m         dyn_csv\u001b[38;5;241m=\u001b[39mpd\u001b[38;5;241m.\u001b[39mconcat([dyn_csv,val],axis\u001b[38;5;241m=\u001b[39m\u001b[38;5;241m1\u001b[39m)\n\u001b[1;32m    653\u001b[0m \u001b[38;5;66;03m#Save temporal data to csv\u001b[39;00m\n\u001b[0;32m--> 654\u001b[0m \u001b[43mdyn_csv\u001b[49m\u001b[38;5;241;43m.\u001b[39;49m\u001b[43mto_csv\u001b[49m\u001b[43m(\u001b[49m\u001b[38;5;124;43m'\u001b[39;49m\u001b[38;5;124;43m./data/csv/\u001b[39;49m\u001b[38;5;124;43m'\u001b[39;49m\u001b[38;5;241;43m+\u001b[39;49m\u001b[38;5;28;43mstr\u001b[39;49m\u001b[43m(\u001b[49m\u001b[43mhid\u001b[49m\u001b[43m)\u001b[49m\u001b[38;5;241;43m+\u001b[39;49m\u001b[38;5;124;43m'\u001b[39;49m\u001b[38;5;124;43m/dynamic.csv\u001b[39;49m\u001b[38;5;124;43m'\u001b[39;49m\u001b[43m,\u001b[49m\u001b[43mindex\u001b[49m\u001b[38;5;241;43m=\u001b[39;49m\u001b[38;5;28;43;01mFalse\u001b[39;49;00m\u001b[43m)\u001b[49m\n\u001b[1;32m    656\u001b[0m \u001b[38;5;66;03m##########COND#########\u001b[39;00m\n\u001b[1;32m    657\u001b[0m \u001b[38;5;28;01mif\u001b[39;00m(\u001b[38;5;28mself\u001b[39m\u001b[38;5;241m.\u001b[39mfeat_cond):\n",
      "File \u001b[0;32m~/hospAItal_env/lib/python3.10/site-packages/pandas/util/_decorators.py:333\u001b[0m, in \u001b[0;36mdeprecate_nonkeyword_arguments.<locals>.decorate.<locals>.wrapper\u001b[0;34m(*args, **kwargs)\u001b[0m\n\u001b[1;32m    327\u001b[0m \u001b[38;5;28;01mif\u001b[39;00m \u001b[38;5;28mlen\u001b[39m(args) \u001b[38;5;241m>\u001b[39m num_allow_args:\n\u001b[1;32m    328\u001b[0m     warnings\u001b[38;5;241m.\u001b[39mwarn(\n\u001b[1;32m    329\u001b[0m         msg\u001b[38;5;241m.\u001b[39mformat(arguments\u001b[38;5;241m=\u001b[39m_format_argument_list(allow_args)),\n\u001b[1;32m    330\u001b[0m         \u001b[38;5;167;01mFutureWarning\u001b[39;00m,\n\u001b[1;32m    331\u001b[0m         stacklevel\u001b[38;5;241m=\u001b[39mfind_stack_level(),\n\u001b[1;32m    332\u001b[0m     )\n\u001b[0;32m--> 333\u001b[0m \u001b[38;5;28;01mreturn\u001b[39;00m \u001b[43mfunc\u001b[49m\u001b[43m(\u001b[49m\u001b[38;5;241;43m*\u001b[39;49m\u001b[43margs\u001b[49m\u001b[43m,\u001b[49m\u001b[43m \u001b[49m\u001b[38;5;241;43m*\u001b[39;49m\u001b[38;5;241;43m*\u001b[39;49m\u001b[43mkwargs\u001b[49m\u001b[43m)\u001b[49m\n",
      "File \u001b[0;32m~/hospAItal_env/lib/python3.10/site-packages/pandas/core/generic.py:3967\u001b[0m, in \u001b[0;36mNDFrame.to_csv\u001b[0;34m(self, path_or_buf, sep, na_rep, float_format, columns, header, index, index_label, mode, encoding, compression, quoting, quotechar, lineterminator, chunksize, date_format, doublequote, escapechar, decimal, errors, storage_options)\u001b[0m\n\u001b[1;32m   3956\u001b[0m df \u001b[38;5;241m=\u001b[39m \u001b[38;5;28mself\u001b[39m \u001b[38;5;28;01mif\u001b[39;00m \u001b[38;5;28misinstance\u001b[39m(\u001b[38;5;28mself\u001b[39m, ABCDataFrame) \u001b[38;5;28;01melse\u001b[39;00m \u001b[38;5;28mself\u001b[39m\u001b[38;5;241m.\u001b[39mto_frame()\n\u001b[1;32m   3958\u001b[0m formatter \u001b[38;5;241m=\u001b[39m DataFrameFormatter(\n\u001b[1;32m   3959\u001b[0m     frame\u001b[38;5;241m=\u001b[39mdf,\n\u001b[1;32m   3960\u001b[0m     header\u001b[38;5;241m=\u001b[39mheader,\n\u001b[0;32m   (...)\u001b[0m\n\u001b[1;32m   3964\u001b[0m     decimal\u001b[38;5;241m=\u001b[39mdecimal,\n\u001b[1;32m   3965\u001b[0m )\n\u001b[0;32m-> 3967\u001b[0m \u001b[38;5;28;01mreturn\u001b[39;00m \u001b[43mDataFrameRenderer\u001b[49m\u001b[43m(\u001b[49m\u001b[43mformatter\u001b[49m\u001b[43m)\u001b[49m\u001b[38;5;241;43m.\u001b[39;49m\u001b[43mto_csv\u001b[49m\u001b[43m(\u001b[49m\n\u001b[1;32m   3968\u001b[0m \u001b[43m    \u001b[49m\u001b[43mpath_or_buf\u001b[49m\u001b[43m,\u001b[49m\n\u001b[1;32m   3969\u001b[0m \u001b[43m    \u001b[49m\u001b[43mlineterminator\u001b[49m\u001b[38;5;241;43m=\u001b[39;49m\u001b[43mlineterminator\u001b[49m\u001b[43m,\u001b[49m\n\u001b[1;32m   3970\u001b[0m \u001b[43m    \u001b[49m\u001b[43msep\u001b[49m\u001b[38;5;241;43m=\u001b[39;49m\u001b[43msep\u001b[49m\u001b[43m,\u001b[49m\n\u001b[1;32m   3971\u001b[0m \u001b[43m    \u001b[49m\u001b[43mencoding\u001b[49m\u001b[38;5;241;43m=\u001b[39;49m\u001b[43mencoding\u001b[49m\u001b[43m,\u001b[49m\n\u001b[1;32m   3972\u001b[0m \u001b[43m    \u001b[49m\u001b[43merrors\u001b[49m\u001b[38;5;241;43m=\u001b[39;49m\u001b[43merrors\u001b[49m\u001b[43m,\u001b[49m\n\u001b[1;32m   3973\u001b[0m \u001b[43m    \u001b[49m\u001b[43mcompression\u001b[49m\u001b[38;5;241;43m=\u001b[39;49m\u001b[43mcompression\u001b[49m\u001b[43m,\u001b[49m\n\u001b[1;32m   3974\u001b[0m \u001b[43m    \u001b[49m\u001b[43mquoting\u001b[49m\u001b[38;5;241;43m=\u001b[39;49m\u001b[43mquoting\u001b[49m\u001b[43m,\u001b[49m\n\u001b[1;32m   3975\u001b[0m \u001b[43m    \u001b[49m\u001b[43mcolumns\u001b[49m\u001b[38;5;241;43m=\u001b[39;49m\u001b[43mcolumns\u001b[49m\u001b[43m,\u001b[49m\n\u001b[1;32m   3976\u001b[0m \u001b[43m    \u001b[49m\u001b[43mindex_label\u001b[49m\u001b[38;5;241;43m=\u001b[39;49m\u001b[43mindex_label\u001b[49m\u001b[43m,\u001b[49m\n\u001b[1;32m   3977\u001b[0m \u001b[43m    \u001b[49m\u001b[43mmode\u001b[49m\u001b[38;5;241;43m=\u001b[39;49m\u001b[43mmode\u001b[49m\u001b[43m,\u001b[49m\n\u001b[1;32m   3978\u001b[0m \u001b[43m    \u001b[49m\u001b[43mchunksize\u001b[49m\u001b[38;5;241;43m=\u001b[39;49m\u001b[43mchunksize\u001b[49m\u001b[43m,\u001b[49m\n\u001b[1;32m   3979\u001b[0m \u001b[43m    \u001b[49m\u001b[43mquotechar\u001b[49m\u001b[38;5;241;43m=\u001b[39;49m\u001b[43mquotechar\u001b[49m\u001b[43m,\u001b[49m\n\u001b[1;32m   3980\u001b[0m \u001b[43m    \u001b[49m\u001b[43mdate_format\u001b[49m\u001b[38;5;241;43m=\u001b[39;49m\u001b[43mdate_format\u001b[49m\u001b[43m,\u001b[49m\n\u001b[1;32m   3981\u001b[0m \u001b[43m    \u001b[49m\u001b[43mdoublequote\u001b[49m\u001b[38;5;241;43m=\u001b[39;49m\u001b[43mdoublequote\u001b[49m\u001b[43m,\u001b[49m\n\u001b[1;32m   3982\u001b[0m \u001b[43m    \u001b[49m\u001b[43mescapechar\u001b[49m\u001b[38;5;241;43m=\u001b[39;49m\u001b[43mescapechar\u001b[49m\u001b[43m,\u001b[49m\n\u001b[1;32m   3983\u001b[0m \u001b[43m    \u001b[49m\u001b[43mstorage_options\u001b[49m\u001b[38;5;241;43m=\u001b[39;49m\u001b[43mstorage_options\u001b[49m\u001b[43m,\u001b[49m\n\u001b[1;32m   3984\u001b[0m \u001b[43m\u001b[49m\u001b[43m)\u001b[49m\n",
      "File \u001b[0;32m~/hospAItal_env/lib/python3.10/site-packages/pandas/io/formats/format.py:1014\u001b[0m, in \u001b[0;36mDataFrameRenderer.to_csv\u001b[0;34m(self, path_or_buf, encoding, sep, columns, index_label, mode, compression, quoting, quotechar, lineterminator, chunksize, date_format, doublequote, escapechar, errors, storage_options)\u001b[0m\n\u001b[1;32m    993\u001b[0m     created_buffer \u001b[38;5;241m=\u001b[39m \u001b[38;5;28;01mFalse\u001b[39;00m\n\u001b[1;32m    995\u001b[0m csv_formatter \u001b[38;5;241m=\u001b[39m CSVFormatter(\n\u001b[1;32m    996\u001b[0m     path_or_buf\u001b[38;5;241m=\u001b[39mpath_or_buf,\n\u001b[1;32m    997\u001b[0m     lineterminator\u001b[38;5;241m=\u001b[39mlineterminator,\n\u001b[0;32m   (...)\u001b[0m\n\u001b[1;32m   1012\u001b[0m     formatter\u001b[38;5;241m=\u001b[39m\u001b[38;5;28mself\u001b[39m\u001b[38;5;241m.\u001b[39mfmt,\n\u001b[1;32m   1013\u001b[0m )\n\u001b[0;32m-> 1014\u001b[0m \u001b[43mcsv_formatter\u001b[49m\u001b[38;5;241;43m.\u001b[39;49m\u001b[43msave\u001b[49m\u001b[43m(\u001b[49m\u001b[43m)\u001b[49m\n\u001b[1;32m   1016\u001b[0m \u001b[38;5;28;01mif\u001b[39;00m created_buffer:\n\u001b[1;32m   1017\u001b[0m     \u001b[38;5;28;01massert\u001b[39;00m \u001b[38;5;28misinstance\u001b[39m(path_or_buf, StringIO)\n",
      "File \u001b[0;32m~/hospAItal_env/lib/python3.10/site-packages/pandas/io/formats/csvs.py:270\u001b[0m, in \u001b[0;36mCSVFormatter.save\u001b[0;34m(self)\u001b[0m\n\u001b[1;32m    251\u001b[0m \u001b[38;5;28;01mwith\u001b[39;00m get_handle(\n\u001b[1;32m    252\u001b[0m     \u001b[38;5;28mself\u001b[39m\u001b[38;5;241m.\u001b[39mfilepath_or_buffer,\n\u001b[1;32m    253\u001b[0m     \u001b[38;5;28mself\u001b[39m\u001b[38;5;241m.\u001b[39mmode,\n\u001b[0;32m   (...)\u001b[0m\n\u001b[1;32m    258\u001b[0m ) \u001b[38;5;28;01mas\u001b[39;00m handles:\n\u001b[1;32m    259\u001b[0m     \u001b[38;5;66;03m# Note: self.encoding is irrelevant here\u001b[39;00m\n\u001b[1;32m    260\u001b[0m     \u001b[38;5;28mself\u001b[39m\u001b[38;5;241m.\u001b[39mwriter \u001b[38;5;241m=\u001b[39m csvlib\u001b[38;5;241m.\u001b[39mwriter(\n\u001b[1;32m    261\u001b[0m         handles\u001b[38;5;241m.\u001b[39mhandle,\n\u001b[1;32m    262\u001b[0m         lineterminator\u001b[38;5;241m=\u001b[39m\u001b[38;5;28mself\u001b[39m\u001b[38;5;241m.\u001b[39mlineterminator,\n\u001b[0;32m   (...)\u001b[0m\n\u001b[1;32m    267\u001b[0m         quotechar\u001b[38;5;241m=\u001b[39m\u001b[38;5;28mself\u001b[39m\u001b[38;5;241m.\u001b[39mquotechar,\n\u001b[1;32m    268\u001b[0m     )\n\u001b[0;32m--> 270\u001b[0m     \u001b[38;5;28;43mself\u001b[39;49m\u001b[38;5;241;43m.\u001b[39;49m\u001b[43m_save\u001b[49m\u001b[43m(\u001b[49m\u001b[43m)\u001b[49m\n",
      "File \u001b[0;32m~/hospAItal_env/lib/python3.10/site-packages/pandas/io/formats/csvs.py:274\u001b[0m, in \u001b[0;36mCSVFormatter._save\u001b[0;34m(self)\u001b[0m\n\u001b[1;32m    272\u001b[0m \u001b[38;5;28;01mdef\u001b[39;00m \u001b[38;5;21m_save\u001b[39m(\u001b[38;5;28mself\u001b[39m) \u001b[38;5;241m-\u001b[39m\u001b[38;5;241m>\u001b[39m \u001b[38;5;28;01mNone\u001b[39;00m:\n\u001b[1;32m    273\u001b[0m     \u001b[38;5;28;01mif\u001b[39;00m \u001b[38;5;28mself\u001b[39m\u001b[38;5;241m.\u001b[39m_need_to_save_header:\n\u001b[0;32m--> 274\u001b[0m         \u001b[38;5;28;43mself\u001b[39;49m\u001b[38;5;241;43m.\u001b[39;49m\u001b[43m_save_header\u001b[49m\u001b[43m(\u001b[49m\u001b[43m)\u001b[49m\n\u001b[1;32m    275\u001b[0m     \u001b[38;5;28mself\u001b[39m\u001b[38;5;241m.\u001b[39m_save_body()\n",
      "File \u001b[0;32m~/hospAItal_env/lib/python3.10/site-packages/pandas/io/formats/csvs.py:282\u001b[0m, in \u001b[0;36mCSVFormatter._save_header\u001b[0;34m(self)\u001b[0m\n\u001b[1;32m    280\u001b[0m \u001b[38;5;28;01melse\u001b[39;00m:\n\u001b[1;32m    281\u001b[0m     \u001b[38;5;28;01mfor\u001b[39;00m row \u001b[38;5;129;01min\u001b[39;00m \u001b[38;5;28mself\u001b[39m\u001b[38;5;241m.\u001b[39m_generate_multiindex_header_rows():\n\u001b[0;32m--> 282\u001b[0m         \u001b[38;5;28;43mself\u001b[39;49m\u001b[38;5;241;43m.\u001b[39;49m\u001b[43mwriter\u001b[49m\u001b[38;5;241;43m.\u001b[39;49m\u001b[43mwriterow\u001b[49m\u001b[43m(\u001b[49m\u001b[43mrow\u001b[49m\u001b[43m)\u001b[49m\n",
      "\u001b[0;31mOSError\u001b[0m: [Errno 5] Input/output error"
     ]
    }
   ],
   "source": [
    "if (radio_input6.value=='Custom'):\n",
    "    predW=int(text3.value)\n",
    "else:\n",
    "    predW=int(radio_input6.value[0].strip())\n",
    "if (radio_input7.value=='Custom'):\n",
    "    bucket=int(text1.value)\n",
    "else:\n",
    "    bucket=int(radio_input7.value[0].strip())\n",
    "if (radio_input8.value=='Custom'):\n",
    "    include=int(text2.value)\n",
    "else:\n",
    "    include=int(radio_input8.value.split()[1])\n",
    "if (radio_impute.value=='forward fill and mean'):\n",
    "    impute='Mean'\n",
    "elif (radio_impute.value=='forward fill and median'):\n",
    "    impute='Median'\n",
    "else:\n",
    "    impute=False\n",
    "\n",
    "if data_icu:\n",
    "    gen=data_generation_icu.Generator(cohort_output,data_mort,data_admn,data_los,diag_flag,proc_flag,out_flag,chart_flag,med_flag,impute,include,bucket,predW)\n",
    "    #gen=data_generation_icu.Generator(cohort_output,data_mort,diag_flag,False,False,chart_flag,False,impute,include,bucket,predW)\n",
    "    #if chart_flag:\n",
    "    #    gen=data_generation_icu.Generator(cohort_output,data_mort,False,False,False,chart_flag,False,impute,include,bucket,predW)\n",
    "else:\n",
    "    gen=data_generation.Generator(cohort_output,data_mort,data_admn,data_los,diag_flag,lab_flag,proc_flag,med_flag,impute,include,bucket,predW)"
   ]
  },
  {
   "cell_type": "markdown",
   "id": "lined-reset",
   "metadata": {},
   "source": [
    "## 8. Machine Learning Models\n",
    "\n",
    "Below we provide options to select -\n",
    "- Type of machine learning model\n",
    "- Wheteher to concatenate or aggregate time-series features.\n",
    "    For example, if the EHR data has collected value for Blood Pressure for one year over 4 time windows of 3 months each then,\n",
    "    - **Conactenate** will concatenate all four values resulting in 4 different features for blood pressure,\n",
    "    - **Aggregate** will aggreagte(mean) over four tiem windows resulting in one feature for blood pressure."
   ]
  },
  {
   "cell_type": "code",
   "execution_count": 1,
   "id": "consolidated-former",
   "metadata": {},
   "outputs": [
    {
     "name": "stdout",
     "output_type": "stream",
     "text": [
      "=======Machine :earning Models=======\n"
     ]
    },
    {
     "ename": "NameError",
     "evalue": "name 'widgets' is not defined",
     "output_type": "error",
     "traceback": [
      "\u001b[0;31m---------------------------------------------------------------------------\u001b[0m",
      "\u001b[0;31mNameError\u001b[0m                                 Traceback (most recent call last)",
      "Cell \u001b[0;32mIn[1], line 2\u001b[0m\n\u001b[1;32m      1\u001b[0m \u001b[38;5;28mprint\u001b[39m(\u001b[38;5;124m\"\u001b[39m\u001b[38;5;124m=======Machine :earning Models=======\u001b[39m\u001b[38;5;124m\"\u001b[39m)\n\u001b[0;32m----> 2\u001b[0m radio_input5 \u001b[38;5;241m=\u001b[39m \u001b[43mwidgets\u001b[49m\u001b[38;5;241m.\u001b[39mRadioButtons(options\u001b[38;5;241m=\u001b[39m[\u001b[38;5;124m'\u001b[39m\u001b[38;5;124mLogistic Regression\u001b[39m\u001b[38;5;124m'\u001b[39m,\u001b[38;5;124m'\u001b[39m\u001b[38;5;124mRandom Forest\u001b[39m\u001b[38;5;124m'\u001b[39m,\u001b[38;5;124m'\u001b[39m\u001b[38;5;124mGradient Bossting\u001b[39m\u001b[38;5;124m'\u001b[39m,\u001b[38;5;124m'\u001b[39m\u001b[38;5;124mXgboost\u001b[39m\u001b[38;5;124m'\u001b[39m],value\u001b[38;5;241m=\u001b[39m\u001b[38;5;124m'\u001b[39m\u001b[38;5;124mGradient Bossting\u001b[39m\u001b[38;5;124m'\u001b[39m)\n\u001b[1;32m      3\u001b[0m display(radio_input5)\n\u001b[1;32m      4\u001b[0m \u001b[38;5;28mprint\u001b[39m(\u001b[38;5;124m\"\u001b[39m\u001b[38;5;124mDo you wnat to conactenate the time-series feature\u001b[39m\u001b[38;5;124m\"\u001b[39m)\n",
      "\u001b[0;31mNameError\u001b[0m: name 'widgets' is not defined"
     ]
    }
   ],
   "source": [
    "print(\"=======Machine :earning Models=======\")\n",
    "radio_input5 = widgets.RadioButtons(options=['Logistic Regression','Random Forest','Gradient Bossting','Xgboost'],value='Gradient Bossting')\n",
    "display(radio_input5)\n",
    "print(\"Do you wnat to conactenate the time-series feature\")\n",
    "radio_input6 = widgets.RadioButtons(options=['Conactenate','Aggregate'],value='Conactenate')\n",
    "display(radio_input6)\n",
    "print(\"Please select below option for cross-validation\")\n",
    "radio_input7 = widgets.RadioButtons(options=['No CV','5-fold CV','10-fold CV'],value='5-fold CV')\n",
    "display(radio_input7)\n",
    "print(\"Do you want to do oversampling for minority calss ?\")\n",
    "radio_input8 = widgets.RadioButtons(options=['True','False'],value='True')\n",
    "display(radio_input8)"
   ]
  },
  {
   "cell_type": "markdown",
   "id": "4d1e3bb8",
   "metadata": {},
   "source": [
    "### Check dataframe info"
   ]
  },
  {
   "cell_type": "code",
   "execution_count": 7,
   "id": "8041ee42",
   "metadata": {},
   "outputs": [
    {
     "data": {
      "text/plain": [
       "bool"
      ]
     },
     "execution_count": 7,
     "metadata": {},
     "output_type": "execute_result"
    }
   ],
   "source": [
    "type(data_icu)"
   ]
  },
  {
   "cell_type": "code",
   "execution_count": null,
   "id": "promising-miller",
   "metadata": {
    "scrolled": true
   },
   "outputs": [
    {
     "ename": "NameError",
     "evalue": "name 'data_icu' is not defined",
     "output_type": "error",
     "traceback": [
      "\u001b[0;31m---------------------------------------------------------------------------\u001b[0m",
      "\u001b[0;31mNameError\u001b[0m                                 Traceback (most recent call last)",
      "Cell \u001b[0;32mIn[6], line 7\u001b[0m\n\u001b[1;32m      5\u001b[0m \u001b[38;5;28;01melif\u001b[39;00m radio_input7\u001b[38;5;241m.\u001b[39mvalue\u001b[38;5;241m==\u001b[39m\u001b[38;5;124m'\u001b[39m\u001b[38;5;124m10-fold CV\u001b[39m\u001b[38;5;124m'\u001b[39m:\n\u001b[1;32m      6\u001b[0m     cv\u001b[38;5;241m=\u001b[39m\u001b[38;5;28mint\u001b[39m(\u001b[38;5;241m10\u001b[39m)\n\u001b[0;32m----> 7\u001b[0m ml\u001b[38;5;241m=\u001b[39mml_models\u001b[38;5;241m.\u001b[39mML_models(\u001b[43mdata_icu\u001b[49m,cv,radio_input5\u001b[38;5;241m.\u001b[39mvalue,concat\u001b[38;5;241m=\u001b[39mradio_input6\u001b[38;5;241m.\u001b[39mvalue\u001b[38;5;241m==\u001b[39m\u001b[38;5;124m'\u001b[39m\u001b[38;5;124mConactenate\u001b[39m\u001b[38;5;124m'\u001b[39m,oversampling\u001b[38;5;241m=\u001b[39mradio_input8\u001b[38;5;241m.\u001b[39mvalue\u001b[38;5;241m==\u001b[39m\u001b[38;5;124m'\u001b[39m\u001b[38;5;124mTrue\u001b[39m\u001b[38;5;124m'\u001b[39m)\n",
      "\u001b[0;31mNameError\u001b[0m: name 'data_icu' is not defined"
     ]
    }
   ],
   "source": [
    "if radio_input7.value=='No CV':\n",
    "    cv=0\n",
    "elif radio_input7.value=='5-fold CV':\n",
    "    cv=int(5)\n",
    "elif radio_input7.value=='10-fold CV':\n",
    "    cv=int(10)\n",
    "ml=ml_models.ML_models(True,cv,radio_input5.value,concat=radio_input6.value=='Conactenate',oversampling=radio_input8.value=='True')"
   ]
  },
  {
   "cell_type": "markdown",
   "id": "708c8698",
   "metadata": {},
   "source": [
    "```\n",
    "Total Samples 57734\n",
    "Positive Samples 23252\n",
    "=================== 0 FOLD=====================\n",
    "train_hids 46184\n",
    "Processing samples: 100%|██████████| 46184/46184 [55:00<00:00, 13.99it/s]  \n",
    "X_df (46184, 2220)\n",
    "y_df (46184,)\n",
    "(46184, 2220)\n",
    "(46184,)\n",
    "test_hids 11546\n",
    "Processing samples: 100%|██████████| 11546/11546 [10:23<00:00, 18.53it/s]\n",
    "X_df (11546, 2220)\n",
    "y_df (11546,)\n",
    "(11546, 2220)\n",
    "(11546,)\n",
    "===============MODEL TRAINING===============\n",
    "BCE Loss: 1.07\n",
    "AU-ROC: 0.82\n",
    "AU-PRC: 0.77\n",
    "AU-PRC Baaseline: 0.40\n",
    "Accuracy: 0.76\n",
    "Precision: 0.75\n",
    "Recall: 0.61\n",
    "Specificity: 0.86\n",
    "NPV: 0.77\n",
    "ECE: 0.02\n",
    "MCE: 0.03\n",
    "```"
   ]
  },
  {
   "cell_type": "code",
   "execution_count": 71,
   "id": "61659e5b",
   "metadata": {},
   "outputs": [
    {
     "data": {
      "text/html": [
       "<style type=\"text/css\">\n",
       "#T_a8134_row0_col0, #T_a8134_row0_col1, #T_a8134_row0_col2, #T_a8134_row0_col3, #T_a8134_row0_col4, #T_a8134_row0_col5, #T_a8134_row0_col6, #T_a8134_row0_col7, #T_a8134_row0_col8, #T_a8134_row0_col9, #T_a8134_row0_col10, #T_a8134_row0_col11, #T_a8134_row0_col12, #T_a8134_row1_col0, #T_a8134_row1_col1, #T_a8134_row1_col2, #T_a8134_row1_col3, #T_a8134_row1_col4, #T_a8134_row1_col5, #T_a8134_row1_col6, #T_a8134_row1_col7, #T_a8134_row1_col8, #T_a8134_row1_col9, #T_a8134_row1_col10, #T_a8134_row1_col11, #T_a8134_row1_col12, #T_a8134_row2_col0, #T_a8134_row2_col1, #T_a8134_row2_col2, #T_a8134_row2_col3, #T_a8134_row2_col4, #T_a8134_row2_col5, #T_a8134_row2_col6, #T_a8134_row2_col7, #T_a8134_row2_col8, #T_a8134_row2_col9, #T_a8134_row2_col10, #T_a8134_row2_col11, #T_a8134_row2_col12, #T_a8134_row3_col0, #T_a8134_row3_col1, #T_a8134_row3_col2, #T_a8134_row3_col3, #T_a8134_row3_col4, #T_a8134_row3_col5, #T_a8134_row3_col6, #T_a8134_row3_col7, #T_a8134_row3_col8, #T_a8134_row3_col9, #T_a8134_row3_col10, #T_a8134_row3_col11, #T_a8134_row3_col12, #T_a8134_row4_col0, #T_a8134_row4_col1, #T_a8134_row4_col2, #T_a8134_row4_col3, #T_a8134_row4_col4, #T_a8134_row4_col5, #T_a8134_row4_col6, #T_a8134_row4_col7, #T_a8134_row4_col8, #T_a8134_row4_col9, #T_a8134_row4_col10, #T_a8134_row4_col11, #T_a8134_row4_col12, #T_a8134_row5_col0, #T_a8134_row5_col1, #T_a8134_row5_col2, #T_a8134_row5_col3, #T_a8134_row5_col4, #T_a8134_row5_col5, #T_a8134_row5_col6, #T_a8134_row5_col7, #T_a8134_row5_col8, #T_a8134_row5_col9, #T_a8134_row5_col10, #T_a8134_row5_col11, #T_a8134_row5_col12, #T_a8134_row6_col0, #T_a8134_row6_col1, #T_a8134_row6_col2, #T_a8134_row6_col3, #T_a8134_row6_col4, #T_a8134_row6_col5, #T_a8134_row6_col6, #T_a8134_row6_col7, #T_a8134_row6_col8, #T_a8134_row6_col9, #T_a8134_row6_col10, #T_a8134_row6_col11, #T_a8134_row6_col12, #T_a8134_row7_col0, #T_a8134_row7_col1, #T_a8134_row7_col2, #T_a8134_row7_col3, #T_a8134_row7_col4, #T_a8134_row7_col5, #T_a8134_row7_col6, #T_a8134_row7_col7, #T_a8134_row7_col8, #T_a8134_row7_col9, #T_a8134_row7_col10, #T_a8134_row7_col11, #T_a8134_row7_col12, #T_a8134_row8_col0, #T_a8134_row8_col1, #T_a8134_row8_col2, #T_a8134_row8_col3, #T_a8134_row8_col4, #T_a8134_row8_col5, #T_a8134_row8_col6, #T_a8134_row8_col7, #T_a8134_row8_col8, #T_a8134_row8_col9, #T_a8134_row8_col10, #T_a8134_row8_col11, #T_a8134_row8_col12, #T_a8134_row9_col0, #T_a8134_row9_col1, #T_a8134_row9_col2, #T_a8134_row9_col3, #T_a8134_row9_col4, #T_a8134_row9_col5, #T_a8134_row9_col6, #T_a8134_row9_col7, #T_a8134_row9_col8, #T_a8134_row9_col9, #T_a8134_row9_col10, #T_a8134_row9_col11, #T_a8134_row9_col12, #T_a8134_row10_col0, #T_a8134_row10_col1, #T_a8134_row10_col2, #T_a8134_row10_col3, #T_a8134_row10_col4, #T_a8134_row10_col5, #T_a8134_row10_col6, #T_a8134_row10_col7, #T_a8134_row10_col8, #T_a8134_row10_col9, #T_a8134_row10_col10, #T_a8134_row10_col11, #T_a8134_row10_col12, #T_a8134_row11_col0, #T_a8134_row11_col1, #T_a8134_row11_col2, #T_a8134_row11_col3, #T_a8134_row11_col4, #T_a8134_row11_col5, #T_a8134_row11_col6, #T_a8134_row11_col7, #T_a8134_row11_col8, #T_a8134_row11_col9, #T_a8134_row11_col10, #T_a8134_row11_col11, #T_a8134_row11_col12, #T_a8134_row12_col0, #T_a8134_row12_col1, #T_a8134_row12_col2, #T_a8134_row12_col3, #T_a8134_row12_col4, #T_a8134_row12_col5, #T_a8134_row12_col6, #T_a8134_row12_col7, #T_a8134_row12_col8, #T_a8134_row12_col9, #T_a8134_row12_col10, #T_a8134_row12_col11, #T_a8134_row12_col12, #T_a8134_row13_col0, #T_a8134_row13_col1, #T_a8134_row13_col2, #T_a8134_row13_col3, #T_a8134_row13_col4, #T_a8134_row13_col5, #T_a8134_row13_col6, #T_a8134_row13_col7, #T_a8134_row13_col8, #T_a8134_row13_col9, #T_a8134_row13_col10, #T_a8134_row13_col11, #T_a8134_row13_col12, #T_a8134_row14_col0, #T_a8134_row14_col1, #T_a8134_row14_col2, #T_a8134_row14_col3, #T_a8134_row14_col4, #T_a8134_row14_col5, #T_a8134_row14_col6, #T_a8134_row14_col7, #T_a8134_row14_col8, #T_a8134_row14_col9, #T_a8134_row14_col10, #T_a8134_row14_col11, #T_a8134_row14_col12, #T_a8134_row15_col0, #T_a8134_row15_col1, #T_a8134_row15_col2, #T_a8134_row15_col3, #T_a8134_row15_col4, #T_a8134_row15_col5, #T_a8134_row15_col6, #T_a8134_row15_col7, #T_a8134_row15_col8, #T_a8134_row15_col9, #T_a8134_row15_col10, #T_a8134_row15_col11, #T_a8134_row15_col12, #T_a8134_row16_col0, #T_a8134_row16_col1, #T_a8134_row16_col2, #T_a8134_row16_col3, #T_a8134_row16_col4, #T_a8134_row16_col5, #T_a8134_row16_col6, #T_a8134_row16_col7, #T_a8134_row16_col8, #T_a8134_row16_col9, #T_a8134_row16_col10, #T_a8134_row16_col11, #T_a8134_row16_col12, #T_a8134_row17_col0, #T_a8134_row17_col1, #T_a8134_row17_col2, #T_a8134_row17_col3, #T_a8134_row17_col4, #T_a8134_row17_col5, #T_a8134_row17_col6, #T_a8134_row17_col7, #T_a8134_row17_col8, #T_a8134_row17_col9, #T_a8134_row17_col10, #T_a8134_row17_col11, #T_a8134_row17_col12, #T_a8134_row18_col0, #T_a8134_row18_col1, #T_a8134_row18_col2, #T_a8134_row18_col3, #T_a8134_row18_col4, #T_a8134_row18_col5, #T_a8134_row18_col6, #T_a8134_row18_col7, #T_a8134_row18_col8, #T_a8134_row18_col9, #T_a8134_row18_col10, #T_a8134_row18_col11, #T_a8134_row18_col12, #T_a8134_row19_col0, #T_a8134_row19_col1, #T_a8134_row19_col2, #T_a8134_row19_col3, #T_a8134_row19_col4, #T_a8134_row19_col5, #T_a8134_row19_col6, #T_a8134_row19_col7, #T_a8134_row19_col8, #T_a8134_row19_col9, #T_a8134_row19_col10, #T_a8134_row19_col11, #T_a8134_row19_col12, #T_a8134_row20_col0, #T_a8134_row20_col1, #T_a8134_row20_col2, #T_a8134_row20_col3, #T_a8134_row20_col4, #T_a8134_row20_col5, #T_a8134_row20_col6, #T_a8134_row20_col7, #T_a8134_row20_col8, #T_a8134_row20_col9, #T_a8134_row20_col10, #T_a8134_row20_col11, #T_a8134_row20_col12, #T_a8134_row21_col0, #T_a8134_row21_col1, #T_a8134_row21_col2, #T_a8134_row21_col3, #T_a8134_row21_col4, #T_a8134_row21_col5, #T_a8134_row21_col6, #T_a8134_row21_col7, #T_a8134_row21_col8, #T_a8134_row21_col9, #T_a8134_row21_col10, #T_a8134_row21_col11, #T_a8134_row21_col12, #T_a8134_row22_col0, #T_a8134_row22_col1, #T_a8134_row22_col2, #T_a8134_row22_col3, #T_a8134_row22_col4, #T_a8134_row22_col5, #T_a8134_row22_col6, #T_a8134_row22_col7, #T_a8134_row22_col8, #T_a8134_row22_col9, #T_a8134_row22_col10, #T_a8134_row22_col11, #T_a8134_row22_col12, #T_a8134_row23_col0, #T_a8134_row23_col1, #T_a8134_row23_col2, #T_a8134_row23_col3, #T_a8134_row23_col4, #T_a8134_row23_col5, #T_a8134_row23_col6, #T_a8134_row23_col7, #T_a8134_row23_col8, #T_a8134_row23_col9, #T_a8134_row23_col10, #T_a8134_row23_col11, #T_a8134_row23_col12, #T_a8134_row24_col0, #T_a8134_row24_col1, #T_a8134_row24_col2, #T_a8134_row24_col3, #T_a8134_row24_col4, #T_a8134_row24_col5, #T_a8134_row24_col6, #T_a8134_row24_col7, #T_a8134_row24_col8, #T_a8134_row24_col9, #T_a8134_row24_col10, #T_a8134_row24_col11, #T_a8134_row24_col12, #T_a8134_row25_col0, #T_a8134_row25_col1, #T_a8134_row25_col2, #T_a8134_row25_col3, #T_a8134_row25_col4, #T_a8134_row25_col5, #T_a8134_row25_col6, #T_a8134_row25_col7, #T_a8134_row25_col8, #T_a8134_row25_col9, #T_a8134_row25_col10, #T_a8134_row25_col11, #T_a8134_row25_col12, #T_a8134_row26_col0, #T_a8134_row26_col1, #T_a8134_row26_col2, #T_a8134_row26_col3, #T_a8134_row26_col4, #T_a8134_row26_col5, #T_a8134_row26_col6, #T_a8134_row26_col7, #T_a8134_row26_col8, #T_a8134_row26_col9, #T_a8134_row26_col10, #T_a8134_row26_col11, #T_a8134_row26_col12, #T_a8134_row27_col0, #T_a8134_row27_col1, #T_a8134_row27_col2, #T_a8134_row27_col3, #T_a8134_row27_col4, #T_a8134_row27_col5, #T_a8134_row27_col6, #T_a8134_row27_col7, #T_a8134_row27_col8, #T_a8134_row27_col9, #T_a8134_row27_col10, #T_a8134_row27_col11, #T_a8134_row27_col12, #T_a8134_row28_col0, #T_a8134_row28_col1, #T_a8134_row28_col2, #T_a8134_row28_col3, #T_a8134_row28_col4, #T_a8134_row28_col5, #T_a8134_row28_col6, #T_a8134_row28_col7, #T_a8134_row28_col8, #T_a8134_row28_col9, #T_a8134_row28_col10, #T_a8134_row28_col11, #T_a8134_row28_col12, #T_a8134_row29_col0, #T_a8134_row29_col1, #T_a8134_row29_col2, #T_a8134_row29_col3, #T_a8134_row29_col4, #T_a8134_row29_col5, #T_a8134_row29_col6, #T_a8134_row29_col7, #T_a8134_row29_col8, #T_a8134_row29_col9, #T_a8134_row29_col10, #T_a8134_row29_col11, #T_a8134_row29_col12, #T_a8134_row30_col0, #T_a8134_row30_col1, #T_a8134_row30_col2, #T_a8134_row30_col3, #T_a8134_row30_col4, #T_a8134_row30_col5, #T_a8134_row30_col6, #T_a8134_row30_col7, #T_a8134_row30_col8, #T_a8134_row30_col9, #T_a8134_row30_col10, #T_a8134_row30_col11, #T_a8134_row30_col12, #T_a8134_row31_col0, #T_a8134_row31_col1, #T_a8134_row31_col2, #T_a8134_row31_col3, #T_a8134_row31_col4, #T_a8134_row31_col5, #T_a8134_row31_col6, #T_a8134_row31_col7, #T_a8134_row31_col8, #T_a8134_row31_col9, #T_a8134_row31_col10, #T_a8134_row31_col11, #T_a8134_row31_col12, #T_a8134_row32_col0, #T_a8134_row32_col1, #T_a8134_row32_col2, #T_a8134_row32_col3, #T_a8134_row32_col4, #T_a8134_row32_col5, #T_a8134_row32_col6, #T_a8134_row32_col7, #T_a8134_row32_col8, #T_a8134_row32_col9, #T_a8134_row32_col10, #T_a8134_row32_col11, #T_a8134_row32_col12 {\n",
       "  background-color: yellow;\n",
       "}\n",
       "#T_a8134_row33_col0, #T_a8134_row33_col1, #T_a8134_row33_col2, #T_a8134_row33_col3, #T_a8134_row33_col4, #T_a8134_row33_col5, #T_a8134_row33_col6, #T_a8134_row33_col7, #T_a8134_row33_col8, #T_a8134_row33_col9, #T_a8134_row33_col10, #T_a8134_row33_col11, #T_a8134_row33_col12, #T_a8134_row34_col0, #T_a8134_row34_col1, #T_a8134_row34_col2, #T_a8134_row34_col3, #T_a8134_row34_col4, #T_a8134_row34_col5, #T_a8134_row34_col6, #T_a8134_row34_col7, #T_a8134_row34_col8, #T_a8134_row34_col9, #T_a8134_row34_col10, #T_a8134_row34_col11, #T_a8134_row34_col12 {\n",
       "  background-color: green;\n",
       "}\n",
       "#T_a8134_row35_col0, #T_a8134_row35_col1, #T_a8134_row35_col2, #T_a8134_row35_col3, #T_a8134_row35_col4, #T_a8134_row35_col5, #T_a8134_row35_col6, #T_a8134_row35_col7, #T_a8134_row35_col8, #T_a8134_row35_col9, #T_a8134_row35_col10, #T_a8134_row35_col11, #T_a8134_row35_col12, #T_a8134_row36_col0, #T_a8134_row36_col1, #T_a8134_row36_col2, #T_a8134_row36_col3, #T_a8134_row36_col4, #T_a8134_row36_col5, #T_a8134_row36_col6, #T_a8134_row36_col7, #T_a8134_row36_col8, #T_a8134_row36_col9, #T_a8134_row36_col10, #T_a8134_row36_col11, #T_a8134_row36_col12, #T_a8134_row37_col0, #T_a8134_row37_col1, #T_a8134_row37_col2, #T_a8134_row37_col3, #T_a8134_row37_col4, #T_a8134_row37_col5, #T_a8134_row37_col6, #T_a8134_row37_col7, #T_a8134_row37_col8, #T_a8134_row37_col9, #T_a8134_row37_col10, #T_a8134_row37_col11, #T_a8134_row37_col12, #T_a8134_row38_col0, #T_a8134_row38_col1, #T_a8134_row38_col2, #T_a8134_row38_col3, #T_a8134_row38_col4, #T_a8134_row38_col5, #T_a8134_row38_col6, #T_a8134_row38_col7, #T_a8134_row38_col8, #T_a8134_row38_col9, #T_a8134_row38_col10, #T_a8134_row38_col11, #T_a8134_row38_col12, #T_a8134_row39_col0, #T_a8134_row39_col1, #T_a8134_row39_col2, #T_a8134_row39_col3, #T_a8134_row39_col4, #T_a8134_row39_col5, #T_a8134_row39_col6, #T_a8134_row39_col7, #T_a8134_row39_col8, #T_a8134_row39_col9, #T_a8134_row39_col10, #T_a8134_row39_col11, #T_a8134_row39_col12, #T_a8134_row40_col0, #T_a8134_row40_col1, #T_a8134_row40_col2, #T_a8134_row40_col3, #T_a8134_row40_col4, #T_a8134_row40_col5, #T_a8134_row40_col6, #T_a8134_row40_col7, #T_a8134_row40_col8, #T_a8134_row40_col9, #T_a8134_row40_col10, #T_a8134_row40_col11, #T_a8134_row40_col12, #T_a8134_row41_col0, #T_a8134_row41_col1, #T_a8134_row41_col2, #T_a8134_row41_col3, #T_a8134_row41_col4, #T_a8134_row41_col5, #T_a8134_row41_col6, #T_a8134_row41_col7, #T_a8134_row41_col8, #T_a8134_row41_col9, #T_a8134_row41_col10, #T_a8134_row41_col11, #T_a8134_row41_col12, #T_a8134_row42_col0, #T_a8134_row42_col1, #T_a8134_row42_col2, #T_a8134_row42_col3, #T_a8134_row42_col4, #T_a8134_row42_col5, #T_a8134_row42_col6, #T_a8134_row42_col7, #T_a8134_row42_col8, #T_a8134_row42_col9, #T_a8134_row42_col10, #T_a8134_row42_col11, #T_a8134_row42_col12, #T_a8134_row43_col0, #T_a8134_row43_col1, #T_a8134_row43_col2, #T_a8134_row43_col3, #T_a8134_row43_col4, #T_a8134_row43_col5, #T_a8134_row43_col6, #T_a8134_row43_col7, #T_a8134_row43_col8, #T_a8134_row43_col9, #T_a8134_row43_col10, #T_a8134_row43_col11, #T_a8134_row43_col12 {\n",
       "  background-color: red;\n",
       "}\n",
       "</style>\n",
       "<table id=\"T_a8134\">\n",
       "  <thead>\n",
       "    <tr>\n",
       "      <th class=\"blank level0\" >&nbsp;</th>\n",
       "      <th id=\"T_a8134_level0_col0\" class=\"col_heading level0 col0\" >sensitive_attribute</th>\n",
       "      <th id=\"T_a8134_level0_col1\" class=\"col_heading level0 col1\" >group</th>\n",
       "      <th id=\"T_a8134_level0_col2\" class=\"col_heading level0 col2\" >tp</th>\n",
       "      <th id=\"T_a8134_level0_col3\" class=\"col_heading level0 col3\" >tn</th>\n",
       "      <th id=\"T_a8134_level0_col4\" class=\"col_heading level0 col4\" >fp</th>\n",
       "      <th id=\"T_a8134_level0_col5\" class=\"col_heading level0 col5\" >fn</th>\n",
       "      <th id=\"T_a8134_level0_col6\" class=\"col_heading level0 col6\" >tpr</th>\n",
       "      <th id=\"T_a8134_level0_col7\" class=\"col_heading level0 col7\" >tnr</th>\n",
       "      <th id=\"T_a8134_level0_col8\" class=\"col_heading level0 col8\" >fpr</th>\n",
       "      <th id=\"T_a8134_level0_col9\" class=\"col_heading level0 col9\" >fnr</th>\n",
       "      <th id=\"T_a8134_level0_col10\" class=\"col_heading level0 col10\" >pr</th>\n",
       "      <th id=\"T_a8134_level0_col11\" class=\"col_heading level0 col11\" >nr</th>\n",
       "      <th id=\"T_a8134_level0_col12\" class=\"col_heading level0 col12\" >accuracy</th>\n",
       "    </tr>\n",
       "  </thead>\n",
       "  <tbody>\n",
       "    <tr>\n",
       "      <th id=\"T_a8134_level0_row0\" class=\"row_heading level0 row0\" >0</th>\n",
       "      <td id=\"T_a8134_row0_col0\" class=\"data row0 col0\" >ethnicity</td>\n",
       "      <td id=\"T_a8134_row0_col1\" class=\"data row0 col1\" >AMERICAN INDIAN/ALASKA NATIVE</td>\n",
       "      <td id=\"T_a8134_row0_col2\" class=\"data row0 col2\" >6</td>\n",
       "      <td id=\"T_a8134_row0_col3\" class=\"data row0 col3\" >7</td>\n",
       "      <td id=\"T_a8134_row0_col4\" class=\"data row0 col4\" >2</td>\n",
       "      <td id=\"T_a8134_row0_col5\" class=\"data row0 col5\" >6</td>\n",
       "      <td id=\"T_a8134_row0_col6\" class=\"data row0 col6\" >0.500000</td>\n",
       "      <td id=\"T_a8134_row0_col7\" class=\"data row0 col7\" >0.777778</td>\n",
       "      <td id=\"T_a8134_row0_col8\" class=\"data row0 col8\" >0.222222</td>\n",
       "      <td id=\"T_a8134_row0_col9\" class=\"data row0 col9\" >0.500000</td>\n",
       "      <td id=\"T_a8134_row0_col10\" class=\"data row0 col10\" >0.380952</td>\n",
       "      <td id=\"T_a8134_row0_col11\" class=\"data row0 col11\" >0.619048</td>\n",
       "      <td id=\"T_a8134_row0_col12\" class=\"data row0 col12\" >0.619048</td>\n",
       "    </tr>\n",
       "    <tr>\n",
       "      <th id=\"T_a8134_level0_row1\" class=\"row_heading level0 row1\" >1</th>\n",
       "      <td id=\"T_a8134_row1_col0\" class=\"data row1 col0\" >ethnicity</td>\n",
       "      <td id=\"T_a8134_row1_col1\" class=\"data row1 col1\" >ASIAN</td>\n",
       "      <td id=\"T_a8134_row1_col2\" class=\"data row1 col2\" >32</td>\n",
       "      <td id=\"T_a8134_row1_col3\" class=\"data row1 col3\" >69</td>\n",
       "      <td id=\"T_a8134_row1_col4\" class=\"data row1 col4\" >18</td>\n",
       "      <td id=\"T_a8134_row1_col5\" class=\"data row1 col5\" >26</td>\n",
       "      <td id=\"T_a8134_row1_col6\" class=\"data row1 col6\" >0.551724</td>\n",
       "      <td id=\"T_a8134_row1_col7\" class=\"data row1 col7\" >0.793103</td>\n",
       "      <td id=\"T_a8134_row1_col8\" class=\"data row1 col8\" >0.206897</td>\n",
       "      <td id=\"T_a8134_row1_col9\" class=\"data row1 col9\" >0.448276</td>\n",
       "      <td id=\"T_a8134_row1_col10\" class=\"data row1 col10\" >0.344828</td>\n",
       "      <td id=\"T_a8134_row1_col11\" class=\"data row1 col11\" >0.655172</td>\n",
       "      <td id=\"T_a8134_row1_col12\" class=\"data row1 col12\" >0.696552</td>\n",
       "    </tr>\n",
       "    <tr>\n",
       "      <th id=\"T_a8134_level0_row2\" class=\"row_heading level0 row2\" >2</th>\n",
       "      <td id=\"T_a8134_row2_col0\" class=\"data row2 col0\" >ethnicity</td>\n",
       "      <td id=\"T_a8134_row2_col1\" class=\"data row2 col1\" >ASIAN - ASIAN INDIAN</td>\n",
       "      <td id=\"T_a8134_row2_col2\" class=\"data row2 col2\" >9</td>\n",
       "      <td id=\"T_a8134_row2_col3\" class=\"data row2 col3\" >15</td>\n",
       "      <td id=\"T_a8134_row2_col4\" class=\"data row2 col4\" >1</td>\n",
       "      <td id=\"T_a8134_row2_col5\" class=\"data row2 col5\" >4</td>\n",
       "      <td id=\"T_a8134_row2_col6\" class=\"data row2 col6\" >0.692308</td>\n",
       "      <td id=\"T_a8134_row2_col7\" class=\"data row2 col7\" >0.937500</td>\n",
       "      <td id=\"T_a8134_row2_col8\" class=\"data row2 col8\" >0.062500</td>\n",
       "      <td id=\"T_a8134_row2_col9\" class=\"data row2 col9\" >0.307692</td>\n",
       "      <td id=\"T_a8134_row2_col10\" class=\"data row2 col10\" >0.344828</td>\n",
       "      <td id=\"T_a8134_row2_col11\" class=\"data row2 col11\" >0.655172</td>\n",
       "      <td id=\"T_a8134_row2_col12\" class=\"data row2 col12\" >0.827586</td>\n",
       "    </tr>\n",
       "    <tr>\n",
       "      <th id=\"T_a8134_level0_row3\" class=\"row_heading level0 row3\" >3</th>\n",
       "      <td id=\"T_a8134_row3_col0\" class=\"data row3 col0\" >ethnicity</td>\n",
       "      <td id=\"T_a8134_row3_col1\" class=\"data row3 col1\" >ASIAN - CHINESE</td>\n",
       "      <td id=\"T_a8134_row3_col2\" class=\"data row3 col2\" >19</td>\n",
       "      <td id=\"T_a8134_row3_col3\" class=\"data row3 col3\" >49</td>\n",
       "      <td id=\"T_a8134_row3_col4\" class=\"data row3 col4\" >15</td>\n",
       "      <td id=\"T_a8134_row3_col5\" class=\"data row3 col5\" >16</td>\n",
       "      <td id=\"T_a8134_row3_col6\" class=\"data row3 col6\" >0.542857</td>\n",
       "      <td id=\"T_a8134_row3_col7\" class=\"data row3 col7\" >0.765625</td>\n",
       "      <td id=\"T_a8134_row3_col8\" class=\"data row3 col8\" >0.234375</td>\n",
       "      <td id=\"T_a8134_row3_col9\" class=\"data row3 col9\" >0.457143</td>\n",
       "      <td id=\"T_a8134_row3_col10\" class=\"data row3 col10\" >0.343434</td>\n",
       "      <td id=\"T_a8134_row3_col11\" class=\"data row3 col11\" >0.656566</td>\n",
       "      <td id=\"T_a8134_row3_col12\" class=\"data row3 col12\" >0.686869</td>\n",
       "    </tr>\n",
       "    <tr>\n",
       "      <th id=\"T_a8134_level0_row4\" class=\"row_heading level0 row4\" >4</th>\n",
       "      <td id=\"T_a8134_row4_col0\" class=\"data row4 col0\" >ethnicity</td>\n",
       "      <td id=\"T_a8134_row4_col1\" class=\"data row4 col1\" >ASIAN - KOREAN</td>\n",
       "      <td id=\"T_a8134_row4_col2\" class=\"data row4 col2\" >5</td>\n",
       "      <td id=\"T_a8134_row4_col3\" class=\"data row4 col3\" >2</td>\n",
       "      <td id=\"T_a8134_row4_col4\" class=\"data row4 col4\" >2</td>\n",
       "      <td id=\"T_a8134_row4_col5\" class=\"data row4 col5\" >3</td>\n",
       "      <td id=\"T_a8134_row4_col6\" class=\"data row4 col6\" >0.625000</td>\n",
       "      <td id=\"T_a8134_row4_col7\" class=\"data row4 col7\" >0.500000</td>\n",
       "      <td id=\"T_a8134_row4_col8\" class=\"data row4 col8\" >0.500000</td>\n",
       "      <td id=\"T_a8134_row4_col9\" class=\"data row4 col9\" >0.375000</td>\n",
       "      <td id=\"T_a8134_row4_col10\" class=\"data row4 col10\" >0.583333</td>\n",
       "      <td id=\"T_a8134_row4_col11\" class=\"data row4 col11\" >0.416667</td>\n",
       "      <td id=\"T_a8134_row4_col12\" class=\"data row4 col12\" >0.583333</td>\n",
       "    </tr>\n",
       "    <tr>\n",
       "      <th id=\"T_a8134_level0_row5\" class=\"row_heading level0 row5\" >5</th>\n",
       "      <td id=\"T_a8134_row5_col0\" class=\"data row5 col0\" >ethnicity</td>\n",
       "      <td id=\"T_a8134_row5_col1\" class=\"data row5 col1\" >ASIAN - SOUTH EAST ASIAN</td>\n",
       "      <td id=\"T_a8134_row5_col2\" class=\"data row5 col2\" >7</td>\n",
       "      <td id=\"T_a8134_row5_col3\" class=\"data row5 col3\" >30</td>\n",
       "      <td id=\"T_a8134_row5_col4\" class=\"data row5 col4\" >3</td>\n",
       "      <td id=\"T_a8134_row5_col5\" class=\"data row5 col5\" >8</td>\n",
       "      <td id=\"T_a8134_row5_col6\" class=\"data row5 col6\" >0.466667</td>\n",
       "      <td id=\"T_a8134_row5_col7\" class=\"data row5 col7\" >0.909091</td>\n",
       "      <td id=\"T_a8134_row5_col8\" class=\"data row5 col8\" >0.090909</td>\n",
       "      <td id=\"T_a8134_row5_col9\" class=\"data row5 col9\" >0.533333</td>\n",
       "      <td id=\"T_a8134_row5_col10\" class=\"data row5 col10\" >0.208333</td>\n",
       "      <td id=\"T_a8134_row5_col11\" class=\"data row5 col11\" >0.791667</td>\n",
       "      <td id=\"T_a8134_row5_col12\" class=\"data row5 col12\" >0.770833</td>\n",
       "    </tr>\n",
       "    <tr>\n",
       "      <th id=\"T_a8134_level0_row6\" class=\"row_heading level0 row6\" >6</th>\n",
       "      <td id=\"T_a8134_row6_col0\" class=\"data row6 col0\" >ethnicity</td>\n",
       "      <td id=\"T_a8134_row6_col1\" class=\"data row6 col1\" >BLACK/AFRICAN</td>\n",
       "      <td id=\"T_a8134_row6_col2\" class=\"data row6 col2\" >14</td>\n",
       "      <td id=\"T_a8134_row6_col3\" class=\"data row6 col3\" >27</td>\n",
       "      <td id=\"T_a8134_row6_col4\" class=\"data row6 col4\" >4</td>\n",
       "      <td id=\"T_a8134_row6_col5\" class=\"data row6 col5\" >5</td>\n",
       "      <td id=\"T_a8134_row6_col6\" class=\"data row6 col6\" >0.736842</td>\n",
       "      <td id=\"T_a8134_row6_col7\" class=\"data row6 col7\" >0.870968</td>\n",
       "      <td id=\"T_a8134_row6_col8\" class=\"data row6 col8\" >0.129032</td>\n",
       "      <td id=\"T_a8134_row6_col9\" class=\"data row6 col9\" >0.263158</td>\n",
       "      <td id=\"T_a8134_row6_col10\" class=\"data row6 col10\" >0.360000</td>\n",
       "      <td id=\"T_a8134_row6_col11\" class=\"data row6 col11\" >0.640000</td>\n",
       "      <td id=\"T_a8134_row6_col12\" class=\"data row6 col12\" >0.820000</td>\n",
       "    </tr>\n",
       "    <tr>\n",
       "      <th id=\"T_a8134_level0_row7\" class=\"row_heading level0 row7\" >7</th>\n",
       "      <td id=\"T_a8134_row7_col0\" class=\"data row7 col0\" >ethnicity</td>\n",
       "      <td id=\"T_a8134_row7_col1\" class=\"data row7 col1\" >BLACK/AFRICAN AMERICAN</td>\n",
       "      <td id=\"T_a8134_row7_col2\" class=\"data row7 col2\" >242</td>\n",
       "      <td id=\"T_a8134_row7_col3\" class=\"data row7 col3\" >572</td>\n",
       "      <td id=\"T_a8134_row7_col4\" class=\"data row7 col4\" >79</td>\n",
       "      <td id=\"T_a8134_row7_col5\" class=\"data row7 col5\" >149</td>\n",
       "      <td id=\"T_a8134_row7_col6\" class=\"data row7 col6\" >0.618926</td>\n",
       "      <td id=\"T_a8134_row7_col7\" class=\"data row7 col7\" >0.878648</td>\n",
       "      <td id=\"T_a8134_row7_col8\" class=\"data row7 col8\" >0.121352</td>\n",
       "      <td id=\"T_a8134_row7_col9\" class=\"data row7 col9\" >0.381074</td>\n",
       "      <td id=\"T_a8134_row7_col10\" class=\"data row7 col10\" >0.308061</td>\n",
       "      <td id=\"T_a8134_row7_col11\" class=\"data row7 col11\" >0.691939</td>\n",
       "      <td id=\"T_a8134_row7_col12\" class=\"data row7 col12\" >0.781190</td>\n",
       "    </tr>\n",
       "    <tr>\n",
       "      <th id=\"T_a8134_level0_row8\" class=\"row_heading level0 row8\" >8</th>\n",
       "      <td id=\"T_a8134_row8_col0\" class=\"data row8 col0\" >ethnicity</td>\n",
       "      <td id=\"T_a8134_row8_col1\" class=\"data row8 col1\" >BLACK/CAPE VERDEAN</td>\n",
       "      <td id=\"T_a8134_row8_col2\" class=\"data row8 col2\" >26</td>\n",
       "      <td id=\"T_a8134_row8_col3\" class=\"data row8 col3\" >38</td>\n",
       "      <td id=\"T_a8134_row8_col4\" class=\"data row8 col4\" >9</td>\n",
       "      <td id=\"T_a8134_row8_col5\" class=\"data row8 col5\" >7</td>\n",
       "      <td id=\"T_a8134_row8_col6\" class=\"data row8 col6\" >0.787879</td>\n",
       "      <td id=\"T_a8134_row8_col7\" class=\"data row8 col7\" >0.808511</td>\n",
       "      <td id=\"T_a8134_row8_col8\" class=\"data row8 col8\" >0.191489</td>\n",
       "      <td id=\"T_a8134_row8_col9\" class=\"data row8 col9\" >0.212121</td>\n",
       "      <td id=\"T_a8134_row8_col10\" class=\"data row8 col10\" >0.437500</td>\n",
       "      <td id=\"T_a8134_row8_col11\" class=\"data row8 col11\" >0.562500</td>\n",
       "      <td id=\"T_a8134_row8_col12\" class=\"data row8 col12\" >0.800000</td>\n",
       "    </tr>\n",
       "    <tr>\n",
       "      <th id=\"T_a8134_level0_row9\" class=\"row_heading level0 row9\" >9</th>\n",
       "      <td id=\"T_a8134_row9_col0\" class=\"data row9 col0\" >ethnicity</td>\n",
       "      <td id=\"T_a8134_row9_col1\" class=\"data row9 col1\" >BLACK/CARIBBEAN ISLAND</td>\n",
       "      <td id=\"T_a8134_row9_col2\" class=\"data row9 col2\" >20</td>\n",
       "      <td id=\"T_a8134_row9_col3\" class=\"data row9 col3\" >26</td>\n",
       "      <td id=\"T_a8134_row9_col4\" class=\"data row9 col4\" >4</td>\n",
       "      <td id=\"T_a8134_row9_col5\" class=\"data row9 col5\" >9</td>\n",
       "      <td id=\"T_a8134_row9_col6\" class=\"data row9 col6\" >0.689655</td>\n",
       "      <td id=\"T_a8134_row9_col7\" class=\"data row9 col7\" >0.866667</td>\n",
       "      <td id=\"T_a8134_row9_col8\" class=\"data row9 col8\" >0.133333</td>\n",
       "      <td id=\"T_a8134_row9_col9\" class=\"data row9 col9\" >0.310345</td>\n",
       "      <td id=\"T_a8134_row9_col10\" class=\"data row9 col10\" >0.406780</td>\n",
       "      <td id=\"T_a8134_row9_col11\" class=\"data row9 col11\" >0.593220</td>\n",
       "      <td id=\"T_a8134_row9_col12\" class=\"data row9 col12\" >0.779661</td>\n",
       "    </tr>\n",
       "    <tr>\n",
       "      <th id=\"T_a8134_level0_row10\" class=\"row_heading level0 row10\" >10</th>\n",
       "      <td id=\"T_a8134_row10_col0\" class=\"data row10 col0\" >ethnicity</td>\n",
       "      <td id=\"T_a8134_row10_col1\" class=\"data row10 col1\" >HISPANIC OR LATINO</td>\n",
       "      <td id=\"T_a8134_row10_col2\" class=\"data row10 col2\" >23</td>\n",
       "      <td id=\"T_a8134_row10_col3\" class=\"data row10 col3\" >48</td>\n",
       "      <td id=\"T_a8134_row10_col4\" class=\"data row10 col4\" >7</td>\n",
       "      <td id=\"T_a8134_row10_col5\" class=\"data row10 col5\" >8</td>\n",
       "      <td id=\"T_a8134_row10_col6\" class=\"data row10 col6\" >0.741935</td>\n",
       "      <td id=\"T_a8134_row10_col7\" class=\"data row10 col7\" >0.872727</td>\n",
       "      <td id=\"T_a8134_row10_col8\" class=\"data row10 col8\" >0.127273</td>\n",
       "      <td id=\"T_a8134_row10_col9\" class=\"data row10 col9\" >0.258065</td>\n",
       "      <td id=\"T_a8134_row10_col10\" class=\"data row10 col10\" >0.348837</td>\n",
       "      <td id=\"T_a8134_row10_col11\" class=\"data row10 col11\" >0.651163</td>\n",
       "      <td id=\"T_a8134_row10_col12\" class=\"data row10 col12\" >0.825581</td>\n",
       "    </tr>\n",
       "    <tr>\n",
       "      <th id=\"T_a8134_level0_row11\" class=\"row_heading level0 row11\" >11</th>\n",
       "      <td id=\"T_a8134_row11_col0\" class=\"data row11 col0\" >ethnicity</td>\n",
       "      <td id=\"T_a8134_row11_col1\" class=\"data row11 col1\" >HISPANIC/LATINO - CENTRAL AMERICAN</td>\n",
       "      <td id=\"T_a8134_row11_col2\" class=\"data row11 col2\" >0</td>\n",
       "      <td id=\"T_a8134_row11_col3\" class=\"data row11 col3\" >4</td>\n",
       "      <td id=\"T_a8134_row11_col4\" class=\"data row11 col4\" >0</td>\n",
       "      <td id=\"T_a8134_row11_col5\" class=\"data row11 col5\" >3</td>\n",
       "      <td id=\"T_a8134_row11_col6\" class=\"data row11 col6\" >0.000000</td>\n",
       "      <td id=\"T_a8134_row11_col7\" class=\"data row11 col7\" >1.000000</td>\n",
       "      <td id=\"T_a8134_row11_col8\" class=\"data row11 col8\" >0.000000</td>\n",
       "      <td id=\"T_a8134_row11_col9\" class=\"data row11 col9\" >1.000000</td>\n",
       "      <td id=\"T_a8134_row11_col10\" class=\"data row11 col10\" >0.000000</td>\n",
       "      <td id=\"T_a8134_row11_col11\" class=\"data row11 col11\" >1.000000</td>\n",
       "      <td id=\"T_a8134_row11_col12\" class=\"data row11 col12\" >0.571429</td>\n",
       "    </tr>\n",
       "    <tr>\n",
       "      <th id=\"T_a8134_level0_row12\" class=\"row_heading level0 row12\" >12</th>\n",
       "      <td id=\"T_a8134_row12_col0\" class=\"data row12 col0\" >ethnicity</td>\n",
       "      <td id=\"T_a8134_row12_col1\" class=\"data row12 col1\" >HISPANIC/LATINO - COLUMBIAN</td>\n",
       "      <td id=\"T_a8134_row12_col2\" class=\"data row12 col2\" >4</td>\n",
       "      <td id=\"T_a8134_row12_col3\" class=\"data row12 col3\" >6</td>\n",
       "      <td id=\"T_a8134_row12_col4\" class=\"data row12 col4\" >0</td>\n",
       "      <td id=\"T_a8134_row12_col5\" class=\"data row12 col5\" >0</td>\n",
       "      <td id=\"T_a8134_row12_col6\" class=\"data row12 col6\" >1.000000</td>\n",
       "      <td id=\"T_a8134_row12_col7\" class=\"data row12 col7\" >1.000000</td>\n",
       "      <td id=\"T_a8134_row12_col8\" class=\"data row12 col8\" >0.000000</td>\n",
       "      <td id=\"T_a8134_row12_col9\" class=\"data row12 col9\" >0.000000</td>\n",
       "      <td id=\"T_a8134_row12_col10\" class=\"data row12 col10\" >0.400000</td>\n",
       "      <td id=\"T_a8134_row12_col11\" class=\"data row12 col11\" >0.600000</td>\n",
       "      <td id=\"T_a8134_row12_col12\" class=\"data row12 col12\" >1.000000</td>\n",
       "    </tr>\n",
       "    <tr>\n",
       "      <th id=\"T_a8134_level0_row13\" class=\"row_heading level0 row13\" >13</th>\n",
       "      <td id=\"T_a8134_row13_col0\" class=\"data row13 col0\" >ethnicity</td>\n",
       "      <td id=\"T_a8134_row13_col1\" class=\"data row13 col1\" >HISPANIC/LATINO - CUBAN</td>\n",
       "      <td id=\"T_a8134_row13_col2\" class=\"data row13 col2\" >3</td>\n",
       "      <td id=\"T_a8134_row13_col3\" class=\"data row13 col3\" >5</td>\n",
       "      <td id=\"T_a8134_row13_col4\" class=\"data row13 col4\" >1</td>\n",
       "      <td id=\"T_a8134_row13_col5\" class=\"data row13 col5\" >0</td>\n",
       "      <td id=\"T_a8134_row13_col6\" class=\"data row13 col6\" >1.000000</td>\n",
       "      <td id=\"T_a8134_row13_col7\" class=\"data row13 col7\" >0.833333</td>\n",
       "      <td id=\"T_a8134_row13_col8\" class=\"data row13 col8\" >0.166667</td>\n",
       "      <td id=\"T_a8134_row13_col9\" class=\"data row13 col9\" >0.000000</td>\n",
       "      <td id=\"T_a8134_row13_col10\" class=\"data row13 col10\" >0.444444</td>\n",
       "      <td id=\"T_a8134_row13_col11\" class=\"data row13 col11\" >0.555556</td>\n",
       "      <td id=\"T_a8134_row13_col12\" class=\"data row13 col12\" >0.888889</td>\n",
       "    </tr>\n",
       "    <tr>\n",
       "      <th id=\"T_a8134_level0_row14\" class=\"row_heading level0 row14\" >14</th>\n",
       "      <td id=\"T_a8134_row14_col0\" class=\"data row14 col0\" >ethnicity</td>\n",
       "      <td id=\"T_a8134_row14_col1\" class=\"data row14 col1\" >HISPANIC/LATINO - DOMINICAN</td>\n",
       "      <td id=\"T_a8134_row14_col2\" class=\"data row14 col2\" >27</td>\n",
       "      <td id=\"T_a8134_row14_col3\" class=\"data row14 col3\" >47</td>\n",
       "      <td id=\"T_a8134_row14_col4\" class=\"data row14 col4\" >7</td>\n",
       "      <td id=\"T_a8134_row14_col5\" class=\"data row14 col5\" >6</td>\n",
       "      <td id=\"T_a8134_row14_col6\" class=\"data row14 col6\" >0.818182</td>\n",
       "      <td id=\"T_a8134_row14_col7\" class=\"data row14 col7\" >0.870370</td>\n",
       "      <td id=\"T_a8134_row14_col8\" class=\"data row14 col8\" >0.129630</td>\n",
       "      <td id=\"T_a8134_row14_col9\" class=\"data row14 col9\" >0.181818</td>\n",
       "      <td id=\"T_a8134_row14_col10\" class=\"data row14 col10\" >0.390805</td>\n",
       "      <td id=\"T_a8134_row14_col11\" class=\"data row14 col11\" >0.609195</td>\n",
       "      <td id=\"T_a8134_row14_col12\" class=\"data row14 col12\" >0.850575</td>\n",
       "    </tr>\n",
       "    <tr>\n",
       "      <th id=\"T_a8134_level0_row15\" class=\"row_heading level0 row15\" >15</th>\n",
       "      <td id=\"T_a8134_row15_col0\" class=\"data row15 col0\" >ethnicity</td>\n",
       "      <td id=\"T_a8134_row15_col1\" class=\"data row15 col1\" >HISPANIC/LATINO - GUATEMALAN</td>\n",
       "      <td id=\"T_a8134_row15_col2\" class=\"data row15 col2\" >0</td>\n",
       "      <td id=\"T_a8134_row15_col3\" class=\"data row15 col3\" >19</td>\n",
       "      <td id=\"T_a8134_row15_col4\" class=\"data row15 col4\" >5</td>\n",
       "      <td id=\"T_a8134_row15_col5\" class=\"data row15 col5\" >5</td>\n",
       "      <td id=\"T_a8134_row15_col6\" class=\"data row15 col6\" >0.000000</td>\n",
       "      <td id=\"T_a8134_row15_col7\" class=\"data row15 col7\" >0.791667</td>\n",
       "      <td id=\"T_a8134_row15_col8\" class=\"data row15 col8\" >0.208333</td>\n",
       "      <td id=\"T_a8134_row15_col9\" class=\"data row15 col9\" >1.000000</td>\n",
       "      <td id=\"T_a8134_row15_col10\" class=\"data row15 col10\" >0.172414</td>\n",
       "      <td id=\"T_a8134_row15_col11\" class=\"data row15 col11\" >0.827586</td>\n",
       "      <td id=\"T_a8134_row15_col12\" class=\"data row15 col12\" >0.655172</td>\n",
       "    </tr>\n",
       "    <tr>\n",
       "      <th id=\"T_a8134_level0_row16\" class=\"row_heading level0 row16\" >16</th>\n",
       "      <td id=\"T_a8134_row16_col0\" class=\"data row16 col0\" >ethnicity</td>\n",
       "      <td id=\"T_a8134_row16_col1\" class=\"data row16 col1\" >HISPANIC/LATINO - HONDURAN</td>\n",
       "      <td id=\"T_a8134_row16_col2\" class=\"data row16 col2\" >1</td>\n",
       "      <td id=\"T_a8134_row16_col3\" class=\"data row16 col3\" >5</td>\n",
       "      <td id=\"T_a8134_row16_col4\" class=\"data row16 col4\" >0</td>\n",
       "      <td id=\"T_a8134_row16_col5\" class=\"data row16 col5\" >0</td>\n",
       "      <td id=\"T_a8134_row16_col6\" class=\"data row16 col6\" >1.000000</td>\n",
       "      <td id=\"T_a8134_row16_col7\" class=\"data row16 col7\" >1.000000</td>\n",
       "      <td id=\"T_a8134_row16_col8\" class=\"data row16 col8\" >0.000000</td>\n",
       "      <td id=\"T_a8134_row16_col9\" class=\"data row16 col9\" >0.000000</td>\n",
       "      <td id=\"T_a8134_row16_col10\" class=\"data row16 col10\" >0.166667</td>\n",
       "      <td id=\"T_a8134_row16_col11\" class=\"data row16 col11\" >0.833333</td>\n",
       "      <td id=\"T_a8134_row16_col12\" class=\"data row16 col12\" >1.000000</td>\n",
       "    </tr>\n",
       "    <tr>\n",
       "      <th id=\"T_a8134_level0_row17\" class=\"row_heading level0 row17\" >17</th>\n",
       "      <td id=\"T_a8134_row17_col0\" class=\"data row17 col0\" >ethnicity</td>\n",
       "      <td id=\"T_a8134_row17_col1\" class=\"data row17 col1\" >HISPANIC/LATINO - MEXICAN</td>\n",
       "      <td id=\"T_a8134_row17_col2\" class=\"data row17 col2\" >4</td>\n",
       "      <td id=\"T_a8134_row17_col3\" class=\"data row17 col3\" >5</td>\n",
       "      <td id=\"T_a8134_row17_col4\" class=\"data row17 col4\" >1</td>\n",
       "      <td id=\"T_a8134_row17_col5\" class=\"data row17 col5\" >2</td>\n",
       "      <td id=\"T_a8134_row17_col6\" class=\"data row17 col6\" >0.666667</td>\n",
       "      <td id=\"T_a8134_row17_col7\" class=\"data row17 col7\" >0.833333</td>\n",
       "      <td id=\"T_a8134_row17_col8\" class=\"data row17 col8\" >0.166667</td>\n",
       "      <td id=\"T_a8134_row17_col9\" class=\"data row17 col9\" >0.333333</td>\n",
       "      <td id=\"T_a8134_row17_col10\" class=\"data row17 col10\" >0.416667</td>\n",
       "      <td id=\"T_a8134_row17_col11\" class=\"data row17 col11\" >0.583333</td>\n",
       "      <td id=\"T_a8134_row17_col12\" class=\"data row17 col12\" >0.750000</td>\n",
       "    </tr>\n",
       "    <tr>\n",
       "      <th id=\"T_a8134_level0_row18\" class=\"row_heading level0 row18\" >18</th>\n",
       "      <td id=\"T_a8134_row18_col0\" class=\"data row18 col0\" >ethnicity</td>\n",
       "      <td id=\"T_a8134_row18_col1\" class=\"data row18 col1\" >HISPANIC/LATINO - PUERTO RICAN</td>\n",
       "      <td id=\"T_a8134_row18_col2\" class=\"data row18 col2\" >44</td>\n",
       "      <td id=\"T_a8134_row18_col3\" class=\"data row18 col3\" >75</td>\n",
       "      <td id=\"T_a8134_row18_col4\" class=\"data row18 col4\" >15</td>\n",
       "      <td id=\"T_a8134_row18_col5\" class=\"data row18 col5\" >17</td>\n",
       "      <td id=\"T_a8134_row18_col6\" class=\"data row18 col6\" >0.721311</td>\n",
       "      <td id=\"T_a8134_row18_col7\" class=\"data row18 col7\" >0.833333</td>\n",
       "      <td id=\"T_a8134_row18_col8\" class=\"data row18 col8\" >0.166667</td>\n",
       "      <td id=\"T_a8134_row18_col9\" class=\"data row18 col9\" >0.278689</td>\n",
       "      <td id=\"T_a8134_row18_col10\" class=\"data row18 col10\" >0.390728</td>\n",
       "      <td id=\"T_a8134_row18_col11\" class=\"data row18 col11\" >0.609272</td>\n",
       "      <td id=\"T_a8134_row18_col12\" class=\"data row18 col12\" >0.788079</td>\n",
       "    </tr>\n",
       "    <tr>\n",
       "      <th id=\"T_a8134_level0_row19\" class=\"row_heading level0 row19\" >19</th>\n",
       "      <td id=\"T_a8134_row19_col0\" class=\"data row19 col0\" >ethnicity</td>\n",
       "      <td id=\"T_a8134_row19_col1\" class=\"data row19 col1\" >HISPANIC/LATINO - SALVADORAN</td>\n",
       "      <td id=\"T_a8134_row19_col2\" class=\"data row19 col2\" >3</td>\n",
       "      <td id=\"T_a8134_row19_col3\" class=\"data row19 col3\" >7</td>\n",
       "      <td id=\"T_a8134_row19_col4\" class=\"data row19 col4\" >0</td>\n",
       "      <td id=\"T_a8134_row19_col5\" class=\"data row19 col5\" >6</td>\n",
       "      <td id=\"T_a8134_row19_col6\" class=\"data row19 col6\" >0.333333</td>\n",
       "      <td id=\"T_a8134_row19_col7\" class=\"data row19 col7\" >1.000000</td>\n",
       "      <td id=\"T_a8134_row19_col8\" class=\"data row19 col8\" >0.000000</td>\n",
       "      <td id=\"T_a8134_row19_col9\" class=\"data row19 col9\" >0.666667</td>\n",
       "      <td id=\"T_a8134_row19_col10\" class=\"data row19 col10\" >0.187500</td>\n",
       "      <td id=\"T_a8134_row19_col11\" class=\"data row19 col11\" >0.812500</td>\n",
       "      <td id=\"T_a8134_row19_col12\" class=\"data row19 col12\" >0.625000</td>\n",
       "    </tr>\n",
       "    <tr>\n",
       "      <th id=\"T_a8134_level0_row20\" class=\"row_heading level0 row20\" >20</th>\n",
       "      <td id=\"T_a8134_row20_col0\" class=\"data row20 col0\" >ethnicity</td>\n",
       "      <td id=\"T_a8134_row20_col1\" class=\"data row20 col1\" >MULTIPLE RACE/ETHNICITY</td>\n",
       "      <td id=\"T_a8134_row20_col2\" class=\"data row20 col2\" >3</td>\n",
       "      <td id=\"T_a8134_row20_col3\" class=\"data row20 col3\" >3</td>\n",
       "      <td id=\"T_a8134_row20_col4\" class=\"data row20 col4\" >0</td>\n",
       "      <td id=\"T_a8134_row20_col5\" class=\"data row20 col5\" >2</td>\n",
       "      <td id=\"T_a8134_row20_col6\" class=\"data row20 col6\" >0.600000</td>\n",
       "      <td id=\"T_a8134_row20_col7\" class=\"data row20 col7\" >1.000000</td>\n",
       "      <td id=\"T_a8134_row20_col8\" class=\"data row20 col8\" >0.000000</td>\n",
       "      <td id=\"T_a8134_row20_col9\" class=\"data row20 col9\" >0.400000</td>\n",
       "      <td id=\"T_a8134_row20_col10\" class=\"data row20 col10\" >0.375000</td>\n",
       "      <td id=\"T_a8134_row20_col11\" class=\"data row20 col11\" >0.625000</td>\n",
       "      <td id=\"T_a8134_row20_col12\" class=\"data row20 col12\" >0.750000</td>\n",
       "    </tr>\n",
       "    <tr>\n",
       "      <th id=\"T_a8134_level0_row21\" class=\"row_heading level0 row21\" >21</th>\n",
       "      <td id=\"T_a8134_row21_col0\" class=\"data row21 col0\" >ethnicity</td>\n",
       "      <td id=\"T_a8134_row21_col1\" class=\"data row21 col1\" >NATIVE HAWAIIAN OR OTHER PACIFIC ISLANDER</td>\n",
       "      <td id=\"T_a8134_row21_col2\" class=\"data row21 col2\" >2</td>\n",
       "      <td id=\"T_a8134_row21_col3\" class=\"data row21 col3\" >11</td>\n",
       "      <td id=\"T_a8134_row21_col4\" class=\"data row21 col4\" >3</td>\n",
       "      <td id=\"T_a8134_row21_col5\" class=\"data row21 col5\" >3</td>\n",
       "      <td id=\"T_a8134_row21_col6\" class=\"data row21 col6\" >0.400000</td>\n",
       "      <td id=\"T_a8134_row21_col7\" class=\"data row21 col7\" >0.785714</td>\n",
       "      <td id=\"T_a8134_row21_col8\" class=\"data row21 col8\" >0.214286</td>\n",
       "      <td id=\"T_a8134_row21_col9\" class=\"data row21 col9\" >0.600000</td>\n",
       "      <td id=\"T_a8134_row21_col10\" class=\"data row21 col10\" >0.263158</td>\n",
       "      <td id=\"T_a8134_row21_col11\" class=\"data row21 col11\" >0.736842</td>\n",
       "      <td id=\"T_a8134_row21_col12\" class=\"data row21 col12\" >0.684211</td>\n",
       "    </tr>\n",
       "    <tr>\n",
       "      <th id=\"T_a8134_level0_row22\" class=\"row_heading level0 row22\" >22</th>\n",
       "      <td id=\"T_a8134_row22_col0\" class=\"data row22 col0\" >ethnicity</td>\n",
       "      <td id=\"T_a8134_row22_col1\" class=\"data row22 col1\" >OTHER</td>\n",
       "      <td id=\"T_a8134_row22_col2\" class=\"data row22 col2\" >77</td>\n",
       "      <td id=\"T_a8134_row22_col3\" class=\"data row22 col3\" >191</td>\n",
       "      <td id=\"T_a8134_row22_col4\" class=\"data row22 col4\" >33</td>\n",
       "      <td id=\"T_a8134_row22_col5\" class=\"data row22 col5\" >67</td>\n",
       "      <td id=\"T_a8134_row22_col6\" class=\"data row22 col6\" >0.534722</td>\n",
       "      <td id=\"T_a8134_row22_col7\" class=\"data row22 col7\" >0.852679</td>\n",
       "      <td id=\"T_a8134_row22_col8\" class=\"data row22 col8\" >0.147321</td>\n",
       "      <td id=\"T_a8134_row22_col9\" class=\"data row22 col9\" >0.465278</td>\n",
       "      <td id=\"T_a8134_row22_col10\" class=\"data row22 col10\" >0.298913</td>\n",
       "      <td id=\"T_a8134_row22_col11\" class=\"data row22 col11\" >0.701087</td>\n",
       "      <td id=\"T_a8134_row22_col12\" class=\"data row22 col12\" >0.728261</td>\n",
       "    </tr>\n",
       "    <tr>\n",
       "      <th id=\"T_a8134_level0_row23\" class=\"row_heading level0 row23\" >23</th>\n",
       "      <td id=\"T_a8134_row23_col0\" class=\"data row23 col0\" >ethnicity</td>\n",
       "      <td id=\"T_a8134_row23_col1\" class=\"data row23 col1\" >PATIENT DECLINED TO ANSWER</td>\n",
       "      <td id=\"T_a8134_row23_col2\" class=\"data row23 col2\" >8</td>\n",
       "      <td id=\"T_a8134_row23_col3\" class=\"data row23 col3\" >32</td>\n",
       "      <td id=\"T_a8134_row23_col4\" class=\"data row23 col4\" >2</td>\n",
       "      <td id=\"T_a8134_row23_col5\" class=\"data row23 col5\" >3</td>\n",
       "      <td id=\"T_a8134_row23_col6\" class=\"data row23 col6\" >0.727273</td>\n",
       "      <td id=\"T_a8134_row23_col7\" class=\"data row23 col7\" >0.941176</td>\n",
       "      <td id=\"T_a8134_row23_col8\" class=\"data row23 col8\" >0.058824</td>\n",
       "      <td id=\"T_a8134_row23_col9\" class=\"data row23 col9\" >0.272727</td>\n",
       "      <td id=\"T_a8134_row23_col10\" class=\"data row23 col10\" >0.222222</td>\n",
       "      <td id=\"T_a8134_row23_col11\" class=\"data row23 col11\" >0.777778</td>\n",
       "      <td id=\"T_a8134_row23_col12\" class=\"data row23 col12\" >0.888889</td>\n",
       "    </tr>\n",
       "    <tr>\n",
       "      <th id=\"T_a8134_level0_row24\" class=\"row_heading level0 row24\" >24</th>\n",
       "      <td id=\"T_a8134_row24_col0\" class=\"data row24 col0\" >ethnicity</td>\n",
       "      <td id=\"T_a8134_row24_col1\" class=\"data row24 col1\" >PORTUGUESE</td>\n",
       "      <td id=\"T_a8134_row24_col2\" class=\"data row24 col2\" >15</td>\n",
       "      <td id=\"T_a8134_row24_col3\" class=\"data row24 col3\" >23</td>\n",
       "      <td id=\"T_a8134_row24_col4\" class=\"data row24 col4\" >4</td>\n",
       "      <td id=\"T_a8134_row24_col5\" class=\"data row24 col5\" >10</td>\n",
       "      <td id=\"T_a8134_row24_col6\" class=\"data row24 col6\" >0.600000</td>\n",
       "      <td id=\"T_a8134_row24_col7\" class=\"data row24 col7\" >0.851852</td>\n",
       "      <td id=\"T_a8134_row24_col8\" class=\"data row24 col8\" >0.148148</td>\n",
       "      <td id=\"T_a8134_row24_col9\" class=\"data row24 col9\" >0.400000</td>\n",
       "      <td id=\"T_a8134_row24_col10\" class=\"data row24 col10\" >0.365385</td>\n",
       "      <td id=\"T_a8134_row24_col11\" class=\"data row24 col11\" >0.634615</td>\n",
       "      <td id=\"T_a8134_row24_col12\" class=\"data row24 col12\" >0.730769</td>\n",
       "    </tr>\n",
       "    <tr>\n",
       "      <th id=\"T_a8134_level0_row25\" class=\"row_heading level0 row25\" >25</th>\n",
       "      <td id=\"T_a8134_row25_col0\" class=\"data row25 col0\" >ethnicity</td>\n",
       "      <td id=\"T_a8134_row25_col1\" class=\"data row25 col1\" >SOUTH AMERICAN</td>\n",
       "      <td id=\"T_a8134_row25_col2\" class=\"data row25 col2\" >1</td>\n",
       "      <td id=\"T_a8134_row25_col3\" class=\"data row25 col3\" >3</td>\n",
       "      <td id=\"T_a8134_row25_col4\" class=\"data row25 col4\" >2</td>\n",
       "      <td id=\"T_a8134_row25_col5\" class=\"data row25 col5\" >3</td>\n",
       "      <td id=\"T_a8134_row25_col6\" class=\"data row25 col6\" >0.250000</td>\n",
       "      <td id=\"T_a8134_row25_col7\" class=\"data row25 col7\" >0.600000</td>\n",
       "      <td id=\"T_a8134_row25_col8\" class=\"data row25 col8\" >0.400000</td>\n",
       "      <td id=\"T_a8134_row25_col9\" class=\"data row25 col9\" >0.750000</td>\n",
       "      <td id=\"T_a8134_row25_col10\" class=\"data row25 col10\" >0.333333</td>\n",
       "      <td id=\"T_a8134_row25_col11\" class=\"data row25 col11\" >0.666667</td>\n",
       "      <td id=\"T_a8134_row25_col12\" class=\"data row25 col12\" >0.444444</td>\n",
       "    </tr>\n",
       "    <tr>\n",
       "      <th id=\"T_a8134_level0_row26\" class=\"row_heading level0 row26\" >26</th>\n",
       "      <td id=\"T_a8134_row26_col0\" class=\"data row26 col0\" >ethnicity</td>\n",
       "      <td id=\"T_a8134_row26_col1\" class=\"data row26 col1\" >UNABLE TO OBTAIN</td>\n",
       "      <td id=\"T_a8134_row26_col2\" class=\"data row26 col2\" >43</td>\n",
       "      <td id=\"T_a8134_row26_col3\" class=\"data row26 col3\" >76</td>\n",
       "      <td id=\"T_a8134_row26_col4\" class=\"data row26 col4\" >10</td>\n",
       "      <td id=\"T_a8134_row26_col5\" class=\"data row26 col5\" >29</td>\n",
       "      <td id=\"T_a8134_row26_col6\" class=\"data row26 col6\" >0.597222</td>\n",
       "      <td id=\"T_a8134_row26_col7\" class=\"data row26 col7\" >0.883721</td>\n",
       "      <td id=\"T_a8134_row26_col8\" class=\"data row26 col8\" >0.116279</td>\n",
       "      <td id=\"T_a8134_row26_col9\" class=\"data row26 col9\" >0.402778</td>\n",
       "      <td id=\"T_a8134_row26_col10\" class=\"data row26 col10\" >0.335443</td>\n",
       "      <td id=\"T_a8134_row26_col11\" class=\"data row26 col11\" >0.664557</td>\n",
       "      <td id=\"T_a8134_row26_col12\" class=\"data row26 col12\" >0.753165</td>\n",
       "    </tr>\n",
       "    <tr>\n",
       "      <th id=\"T_a8134_level0_row27\" class=\"row_heading level0 row27\" >27</th>\n",
       "      <td id=\"T_a8134_row27_col0\" class=\"data row27 col0\" >ethnicity</td>\n",
       "      <td id=\"T_a8134_row27_col1\" class=\"data row27 col1\" >UNKNOWN</td>\n",
       "      <td id=\"T_a8134_row27_col2\" class=\"data row27 col2\" >354</td>\n",
       "      <td id=\"T_a8134_row27_col3\" class=\"data row27 col3\" >424</td>\n",
       "      <td id=\"T_a8134_row27_col4\" class=\"data row27 col4\" >102</td>\n",
       "      <td id=\"T_a8134_row27_col5\" class=\"data row27 col5\" >138</td>\n",
       "      <td id=\"T_a8134_row27_col6\" class=\"data row27 col6\" >0.719512</td>\n",
       "      <td id=\"T_a8134_row27_col7\" class=\"data row27 col7\" >0.806084</td>\n",
       "      <td id=\"T_a8134_row27_col8\" class=\"data row27 col8\" >0.193916</td>\n",
       "      <td id=\"T_a8134_row27_col9\" class=\"data row27 col9\" >0.280488</td>\n",
       "      <td id=\"T_a8134_row27_col10\" class=\"data row27 col10\" >0.447937</td>\n",
       "      <td id=\"T_a8134_row27_col11\" class=\"data row27 col11\" >0.552063</td>\n",
       "      <td id=\"T_a8134_row27_col12\" class=\"data row27 col12\" >0.764244</td>\n",
       "    </tr>\n",
       "    <tr>\n",
       "      <th id=\"T_a8134_level0_row28\" class=\"row_heading level0 row28\" >28</th>\n",
       "      <td id=\"T_a8134_row28_col0\" class=\"data row28 col0\" >ethnicity</td>\n",
       "      <td id=\"T_a8134_row28_col1\" class=\"data row28 col1\" >WHITE</td>\n",
       "      <td id=\"T_a8134_row28_col2\" class=\"data row28 col2\" >1785</td>\n",
       "      <td id=\"T_a8134_row28_col3\" class=\"data row28 col3\" >3903</td>\n",
       "      <td id=\"T_a8134_row28_col4\" class=\"data row28 col4\" >654</td>\n",
       "      <td id=\"T_a8134_row28_col5\" class=\"data row28 col5\" >1195</td>\n",
       "      <td id=\"T_a8134_row28_col6\" class=\"data row28 col6\" >0.598993</td>\n",
       "      <td id=\"T_a8134_row28_col7\" class=\"data row28 col7\" >0.856485</td>\n",
       "      <td id=\"T_a8134_row28_col8\" class=\"data row28 col8\" >0.143515</td>\n",
       "      <td id=\"T_a8134_row28_col9\" class=\"data row28 col9\" >0.401007</td>\n",
       "      <td id=\"T_a8134_row28_col10\" class=\"data row28 col10\" >0.323604</td>\n",
       "      <td id=\"T_a8134_row28_col11\" class=\"data row28 col11\" >0.676396</td>\n",
       "      <td id=\"T_a8134_row28_col12\" class=\"data row28 col12\" >0.754677</td>\n",
       "    </tr>\n",
       "    <tr>\n",
       "      <th id=\"T_a8134_level0_row29\" class=\"row_heading level0 row29\" >29</th>\n",
       "      <td id=\"T_a8134_row29_col0\" class=\"data row29 col0\" >ethnicity</td>\n",
       "      <td id=\"T_a8134_row29_col1\" class=\"data row29 col1\" >WHITE - BRAZILIAN</td>\n",
       "      <td id=\"T_a8134_row29_col2\" class=\"data row29 col2\" >3</td>\n",
       "      <td id=\"T_a8134_row29_col3\" class=\"data row29 col3\" >8</td>\n",
       "      <td id=\"T_a8134_row29_col4\" class=\"data row29 col4\" >1</td>\n",
       "      <td id=\"T_a8134_row29_col5\" class=\"data row29 col5\" >4</td>\n",
       "      <td id=\"T_a8134_row29_col6\" class=\"data row29 col6\" >0.428571</td>\n",
       "      <td id=\"T_a8134_row29_col7\" class=\"data row29 col7\" >0.888889</td>\n",
       "      <td id=\"T_a8134_row29_col8\" class=\"data row29 col8\" >0.111111</td>\n",
       "      <td id=\"T_a8134_row29_col9\" class=\"data row29 col9\" >0.571429</td>\n",
       "      <td id=\"T_a8134_row29_col10\" class=\"data row29 col10\" >0.250000</td>\n",
       "      <td id=\"T_a8134_row29_col11\" class=\"data row29 col11\" >0.750000</td>\n",
       "      <td id=\"T_a8134_row29_col12\" class=\"data row29 col12\" >0.687500</td>\n",
       "    </tr>\n",
       "    <tr>\n",
       "      <th id=\"T_a8134_level0_row30\" class=\"row_heading level0 row30\" >30</th>\n",
       "      <td id=\"T_a8134_row30_col0\" class=\"data row30 col0\" >ethnicity</td>\n",
       "      <td id=\"T_a8134_row30_col1\" class=\"data row30 col1\" >WHITE - EASTERN EUROPEAN</td>\n",
       "      <td id=\"T_a8134_row30_col2\" class=\"data row30 col2\" >5</td>\n",
       "      <td id=\"T_a8134_row30_col3\" class=\"data row30 col3\" >16</td>\n",
       "      <td id=\"T_a8134_row30_col4\" class=\"data row30 col4\" >3</td>\n",
       "      <td id=\"T_a8134_row30_col5\" class=\"data row30 col5\" >3</td>\n",
       "      <td id=\"T_a8134_row30_col6\" class=\"data row30 col6\" >0.625000</td>\n",
       "      <td id=\"T_a8134_row30_col7\" class=\"data row30 col7\" >0.842105</td>\n",
       "      <td id=\"T_a8134_row30_col8\" class=\"data row30 col8\" >0.157895</td>\n",
       "      <td id=\"T_a8134_row30_col9\" class=\"data row30 col9\" >0.375000</td>\n",
       "      <td id=\"T_a8134_row30_col10\" class=\"data row30 col10\" >0.296296</td>\n",
       "      <td id=\"T_a8134_row30_col11\" class=\"data row30 col11\" >0.703704</td>\n",
       "      <td id=\"T_a8134_row30_col12\" class=\"data row30 col12\" >0.777778</td>\n",
       "    </tr>\n",
       "    <tr>\n",
       "      <th id=\"T_a8134_level0_row31\" class=\"row_heading level0 row31\" >31</th>\n",
       "      <td id=\"T_a8134_row31_col0\" class=\"data row31 col0\" >ethnicity</td>\n",
       "      <td id=\"T_a8134_row31_col1\" class=\"data row31 col1\" >WHITE - OTHER EUROPEAN</td>\n",
       "      <td id=\"T_a8134_row31_col2\" class=\"data row31 col2\" >37</td>\n",
       "      <td id=\"T_a8134_row31_col3\" class=\"data row31 col3\" >96</td>\n",
       "      <td id=\"T_a8134_row31_col4\" class=\"data row31 col4\" >18</td>\n",
       "      <td id=\"T_a8134_row31_col5\" class=\"data row31 col5\" >28</td>\n",
       "      <td id=\"T_a8134_row31_col6\" class=\"data row31 col6\" >0.569231</td>\n",
       "      <td id=\"T_a8134_row31_col7\" class=\"data row31 col7\" >0.842105</td>\n",
       "      <td id=\"T_a8134_row31_col8\" class=\"data row31 col8\" >0.157895</td>\n",
       "      <td id=\"T_a8134_row31_col9\" class=\"data row31 col9\" >0.430769</td>\n",
       "      <td id=\"T_a8134_row31_col10\" class=\"data row31 col10\" >0.307263</td>\n",
       "      <td id=\"T_a8134_row31_col11\" class=\"data row31 col11\" >0.692737</td>\n",
       "      <td id=\"T_a8134_row31_col12\" class=\"data row31 col12\" >0.743017</td>\n",
       "    </tr>\n",
       "    <tr>\n",
       "      <th id=\"T_a8134_level0_row32\" class=\"row_heading level0 row32\" >32</th>\n",
       "      <td id=\"T_a8134_row32_col0\" class=\"data row32 col0\" >ethnicity</td>\n",
       "      <td id=\"T_a8134_row32_col1\" class=\"data row32 col1\" >WHITE - RUSSIAN</td>\n",
       "      <td id=\"T_a8134_row32_col2\" class=\"data row32 col2\" >22</td>\n",
       "      <td id=\"T_a8134_row32_col3\" class=\"data row32 col3\" >59</td>\n",
       "      <td id=\"T_a8134_row32_col4\" class=\"data row32 col4\" >13</td>\n",
       "      <td id=\"T_a8134_row32_col5\" class=\"data row32 col5\" >18</td>\n",
       "      <td id=\"T_a8134_row32_col6\" class=\"data row32 col6\" >0.550000</td>\n",
       "      <td id=\"T_a8134_row32_col7\" class=\"data row32 col7\" >0.819444</td>\n",
       "      <td id=\"T_a8134_row32_col8\" class=\"data row32 col8\" >0.180556</td>\n",
       "      <td id=\"T_a8134_row32_col9\" class=\"data row32 col9\" >0.450000</td>\n",
       "      <td id=\"T_a8134_row32_col10\" class=\"data row32 col10\" >0.312500</td>\n",
       "      <td id=\"T_a8134_row32_col11\" class=\"data row32 col11\" >0.687500</td>\n",
       "      <td id=\"T_a8134_row32_col12\" class=\"data row32 col12\" >0.723214</td>\n",
       "    </tr>\n",
       "    <tr>\n",
       "      <th id=\"T_a8134_level0_row33\" class=\"row_heading level0 row33\" >33</th>\n",
       "      <td id=\"T_a8134_row33_col0\" class=\"data row33 col0\" >gender</td>\n",
       "      <td id=\"T_a8134_row33_col1\" class=\"data row33 col1\" >F</td>\n",
       "      <td id=\"T_a8134_row33_col2\" class=\"data row33 col2\" >1186</td>\n",
       "      <td id=\"T_a8134_row33_col3\" class=\"data row33 col3\" >2594</td>\n",
       "      <td id=\"T_a8134_row33_col4\" class=\"data row33 col4\" >472</td>\n",
       "      <td id=\"T_a8134_row33_col5\" class=\"data row33 col5\" >793</td>\n",
       "      <td id=\"T_a8134_row33_col6\" class=\"data row33 col6\" >0.599293</td>\n",
       "      <td id=\"T_a8134_row33_col7\" class=\"data row33 col7\" >0.846053</td>\n",
       "      <td id=\"T_a8134_row33_col8\" class=\"data row33 col8\" >0.153947</td>\n",
       "      <td id=\"T_a8134_row33_col9\" class=\"data row33 col9\" >0.400707</td>\n",
       "      <td id=\"T_a8134_row33_col10\" class=\"data row33 col10\" >0.328642</td>\n",
       "      <td id=\"T_a8134_row33_col11\" class=\"data row33 col11\" >0.671358</td>\n",
       "      <td id=\"T_a8134_row33_col12\" class=\"data row33 col12\" >0.749257</td>\n",
       "    </tr>\n",
       "    <tr>\n",
       "      <th id=\"T_a8134_level0_row34\" class=\"row_heading level0 row34\" >34</th>\n",
       "      <td id=\"T_a8134_row34_col0\" class=\"data row34 col0\" >gender</td>\n",
       "      <td id=\"T_a8134_row34_col1\" class=\"data row34 col1\" >M</td>\n",
       "      <td id=\"T_a8134_row34_col2\" class=\"data row34 col2\" >1658</td>\n",
       "      <td id=\"T_a8134_row34_col3\" class=\"data row34 col3\" >3307</td>\n",
       "      <td id=\"T_a8134_row34_col4\" class=\"data row34 col4\" >546</td>\n",
       "      <td id=\"T_a8134_row34_col5\" class=\"data row34 col5\" >990</td>\n",
       "      <td id=\"T_a8134_row34_col6\" class=\"data row34 col6\" >0.626133</td>\n",
       "      <td id=\"T_a8134_row34_col7\" class=\"data row34 col7\" >0.858292</td>\n",
       "      <td id=\"T_a8134_row34_col8\" class=\"data row34 col8\" >0.141708</td>\n",
       "      <td id=\"T_a8134_row34_col9\" class=\"data row34 col9\" >0.373867</td>\n",
       "      <td id=\"T_a8134_row34_col10\" class=\"data row34 col10\" >0.339025</td>\n",
       "      <td id=\"T_a8134_row34_col11\" class=\"data row34 col11\" >0.660975</td>\n",
       "      <td id=\"T_a8134_row34_col12\" class=\"data row34 col12\" >0.763729</td>\n",
       "    </tr>\n",
       "    <tr>\n",
       "      <th id=\"T_a8134_level0_row35\" class=\"row_heading level0 row35\" >35</th>\n",
       "      <td id=\"T_a8134_row35_col0\" class=\"data row35 col0\" >age_binned</td>\n",
       "      <td id=\"T_a8134_row35_col1\" class=\"data row35 col1\" >10-20</td>\n",
       "      <td id=\"T_a8134_row35_col2\" class=\"data row35 col2\" >4</td>\n",
       "      <td id=\"T_a8134_row35_col3\" class=\"data row35 col3\" >18</td>\n",
       "      <td id=\"T_a8134_row35_col4\" class=\"data row35 col4\" >2</td>\n",
       "      <td id=\"T_a8134_row35_col5\" class=\"data row35 col5\" >5</td>\n",
       "      <td id=\"T_a8134_row35_col6\" class=\"data row35 col6\" >0.444444</td>\n",
       "      <td id=\"T_a8134_row35_col7\" class=\"data row35 col7\" >0.900000</td>\n",
       "      <td id=\"T_a8134_row35_col8\" class=\"data row35 col8\" >0.100000</td>\n",
       "      <td id=\"T_a8134_row35_col9\" class=\"data row35 col9\" >0.555556</td>\n",
       "      <td id=\"T_a8134_row35_col10\" class=\"data row35 col10\" >0.206897</td>\n",
       "      <td id=\"T_a8134_row35_col11\" class=\"data row35 col11\" >0.793103</td>\n",
       "      <td id=\"T_a8134_row35_col12\" class=\"data row35 col12\" >0.758621</td>\n",
       "    </tr>\n",
       "    <tr>\n",
       "      <th id=\"T_a8134_level0_row36\" class=\"row_heading level0 row36\" >36</th>\n",
       "      <td id=\"T_a8134_row36_col0\" class=\"data row36 col0\" >age_binned</td>\n",
       "      <td id=\"T_a8134_row36_col1\" class=\"data row36 col1\" >20-30</td>\n",
       "      <td id=\"T_a8134_row36_col2\" class=\"data row36 col2\" >99</td>\n",
       "      <td id=\"T_a8134_row36_col3\" class=\"data row36 col3\" >238</td>\n",
       "      <td id=\"T_a8134_row36_col4\" class=\"data row36 col4\" >33</td>\n",
       "      <td id=\"T_a8134_row36_col5\" class=\"data row36 col5\" >70</td>\n",
       "      <td id=\"T_a8134_row36_col6\" class=\"data row36 col6\" >0.585799</td>\n",
       "      <td id=\"T_a8134_row36_col7\" class=\"data row36 col7\" >0.878229</td>\n",
       "      <td id=\"T_a8134_row36_col8\" class=\"data row36 col8\" >0.121771</td>\n",
       "      <td id=\"T_a8134_row36_col9\" class=\"data row36 col9\" >0.414201</td>\n",
       "      <td id=\"T_a8134_row36_col10\" class=\"data row36 col10\" >0.300000</td>\n",
       "      <td id=\"T_a8134_row36_col11\" class=\"data row36 col11\" >0.700000</td>\n",
       "      <td id=\"T_a8134_row36_col12\" class=\"data row36 col12\" >0.765909</td>\n",
       "    </tr>\n",
       "    <tr>\n",
       "      <th id=\"T_a8134_level0_row37\" class=\"row_heading level0 row37\" >37</th>\n",
       "      <td id=\"T_a8134_row37_col0\" class=\"data row37 col0\" >age_binned</td>\n",
       "      <td id=\"T_a8134_row37_col1\" class=\"data row37 col1\" >30-40</td>\n",
       "      <td id=\"T_a8134_row37_col2\" class=\"data row37 col2\" >141</td>\n",
       "      <td id=\"T_a8134_row37_col3\" class=\"data row37 col3\" >322</td>\n",
       "      <td id=\"T_a8134_row37_col4\" class=\"data row37 col4\" >46</td>\n",
       "      <td id=\"T_a8134_row37_col5\" class=\"data row37 col5\" >90</td>\n",
       "      <td id=\"T_a8134_row37_col6\" class=\"data row37 col6\" >0.610390</td>\n",
       "      <td id=\"T_a8134_row37_col7\" class=\"data row37 col7\" >0.875000</td>\n",
       "      <td id=\"T_a8134_row37_col8\" class=\"data row37 col8\" >0.125000</td>\n",
       "      <td id=\"T_a8134_row37_col9\" class=\"data row37 col9\" >0.389610</td>\n",
       "      <td id=\"T_a8134_row37_col10\" class=\"data row37 col10\" >0.312187</td>\n",
       "      <td id=\"T_a8134_row37_col11\" class=\"data row37 col11\" >0.687813</td>\n",
       "      <td id=\"T_a8134_row37_col12\" class=\"data row37 col12\" >0.772955</td>\n",
       "    </tr>\n",
       "    <tr>\n",
       "      <th id=\"T_a8134_level0_row38\" class=\"row_heading level0 row38\" >38</th>\n",
       "      <td id=\"T_a8134_row38_col0\" class=\"data row38 col0\" >age_binned</td>\n",
       "      <td id=\"T_a8134_row38_col1\" class=\"data row38 col1\" >40-50</td>\n",
       "      <td id=\"T_a8134_row38_col2\" class=\"data row38 col2\" >232</td>\n",
       "      <td id=\"T_a8134_row38_col3\" class=\"data row38 col3\" >569</td>\n",
       "      <td id=\"T_a8134_row38_col4\" class=\"data row38 col4\" >71</td>\n",
       "      <td id=\"T_a8134_row38_col5\" class=\"data row38 col5\" >153</td>\n",
       "      <td id=\"T_a8134_row38_col6\" class=\"data row38 col6\" >0.602597</td>\n",
       "      <td id=\"T_a8134_row38_col7\" class=\"data row38 col7\" >0.889062</td>\n",
       "      <td id=\"T_a8134_row38_col8\" class=\"data row38 col8\" >0.110937</td>\n",
       "      <td id=\"T_a8134_row38_col9\" class=\"data row38 col9\" >0.397403</td>\n",
       "      <td id=\"T_a8134_row38_col10\" class=\"data row38 col10\" >0.295610</td>\n",
       "      <td id=\"T_a8134_row38_col11\" class=\"data row38 col11\" >0.704390</td>\n",
       "      <td id=\"T_a8134_row38_col12\" class=\"data row38 col12\" >0.781463</td>\n",
       "    </tr>\n",
       "    <tr>\n",
       "      <th id=\"T_a8134_level0_row39\" class=\"row_heading level0 row39\" >39</th>\n",
       "      <td id=\"T_a8134_row39_col0\" class=\"data row39 col0\" >age_binned</td>\n",
       "      <td id=\"T_a8134_row39_col1\" class=\"data row39 col1\" >50-60</td>\n",
       "      <td id=\"T_a8134_row39_col2\" class=\"data row39 col2\" >528</td>\n",
       "      <td id=\"T_a8134_row39_col3\" class=\"data row39 col3\" >1117</td>\n",
       "      <td id=\"T_a8134_row39_col4\" class=\"data row39 col4\" >171</td>\n",
       "      <td id=\"T_a8134_row39_col5\" class=\"data row39 col5\" >307</td>\n",
       "      <td id=\"T_a8134_row39_col6\" class=\"data row39 col6\" >0.632335</td>\n",
       "      <td id=\"T_a8134_row39_col7\" class=\"data row39 col7\" >0.867236</td>\n",
       "      <td id=\"T_a8134_row39_col8\" class=\"data row39 col8\" >0.132764</td>\n",
       "      <td id=\"T_a8134_row39_col9\" class=\"data row39 col9\" >0.367665</td>\n",
       "      <td id=\"T_a8134_row39_col10\" class=\"data row39 col10\" >0.329251</td>\n",
       "      <td id=\"T_a8134_row39_col11\" class=\"data row39 col11\" >0.670749</td>\n",
       "      <td id=\"T_a8134_row39_col12\" class=\"data row39 col12\" >0.774847</td>\n",
       "    </tr>\n",
       "    <tr>\n",
       "      <th id=\"T_a8134_level0_row40\" class=\"row_heading level0 row40\" >40</th>\n",
       "      <td id=\"T_a8134_row40_col0\" class=\"data row40 col0\" >age_binned</td>\n",
       "      <td id=\"T_a8134_row40_col1\" class=\"data row40 col1\" >60-70</td>\n",
       "      <td id=\"T_a8134_row40_col2\" class=\"data row40 col2\" >716</td>\n",
       "      <td id=\"T_a8134_row40_col3\" class=\"data row40 col3\" >1377</td>\n",
       "      <td id=\"T_a8134_row40_col4\" class=\"data row40 col4\" >236</td>\n",
       "      <td id=\"T_a8134_row40_col5\" class=\"data row40 col5\" >457</td>\n",
       "      <td id=\"T_a8134_row40_col6\" class=\"data row40 col6\" >0.610401</td>\n",
       "      <td id=\"T_a8134_row40_col7\" class=\"data row40 col7\" >0.853689</td>\n",
       "      <td id=\"T_a8134_row40_col8\" class=\"data row40 col8\" >0.146311</td>\n",
       "      <td id=\"T_a8134_row40_col9\" class=\"data row40 col9\" >0.389599</td>\n",
       "      <td id=\"T_a8134_row40_col10\" class=\"data row40 col10\" >0.341709</td>\n",
       "      <td id=\"T_a8134_row40_col11\" class=\"data row40 col11\" >0.658291</td>\n",
       "      <td id=\"T_a8134_row40_col12\" class=\"data row40 col12\" >0.751256</td>\n",
       "    </tr>\n",
       "    <tr>\n",
       "      <th id=\"T_a8134_level0_row41\" class=\"row_heading level0 row41\" >41</th>\n",
       "      <td id=\"T_a8134_row41_col0\" class=\"data row41 col0\" >age_binned</td>\n",
       "      <td id=\"T_a8134_row41_col1\" class=\"data row41 col1\" >70-80</td>\n",
       "      <td id=\"T_a8134_row41_col2\" class=\"data row41 col2\" >655</td>\n",
       "      <td id=\"T_a8134_row41_col3\" class=\"data row41 col3\" >1205</td>\n",
       "      <td id=\"T_a8134_row41_col4\" class=\"data row41 col4\" >228</td>\n",
       "      <td id=\"T_a8134_row41_col5\" class=\"data row41 col5\" >378</td>\n",
       "      <td id=\"T_a8134_row41_col6\" class=\"data row41 col6\" >0.634076</td>\n",
       "      <td id=\"T_a8134_row41_col7\" class=\"data row41 col7\" >0.840893</td>\n",
       "      <td id=\"T_a8134_row41_col8\" class=\"data row41 col8\" >0.159107</td>\n",
       "      <td id=\"T_a8134_row41_col9\" class=\"data row41 col9\" >0.365924</td>\n",
       "      <td id=\"T_a8134_row41_col10\" class=\"data row41 col10\" >0.358070</td>\n",
       "      <td id=\"T_a8134_row41_col11\" class=\"data row41 col11\" >0.641930</td>\n",
       "      <td id=\"T_a8134_row41_col12\" class=\"data row41 col12\" >0.754258</td>\n",
       "    </tr>\n",
       "    <tr>\n",
       "      <th id=\"T_a8134_level0_row42\" class=\"row_heading level0 row42\" >42</th>\n",
       "      <td id=\"T_a8134_row42_col0\" class=\"data row42 col0\" >age_binned</td>\n",
       "      <td id=\"T_a8134_row42_col1\" class=\"data row42 col1\" >80-90</td>\n",
       "      <td id=\"T_a8134_row42_col2\" class=\"data row42 col2\" >388</td>\n",
       "      <td id=\"T_a8134_row42_col3\" class=\"data row42 col3\" >829</td>\n",
       "      <td id=\"T_a8134_row42_col4\" class=\"data row42 col4\" >180</td>\n",
       "      <td id=\"T_a8134_row42_col5\" class=\"data row42 col5\" >272</td>\n",
       "      <td id=\"T_a8134_row42_col6\" class=\"data row42 col6\" >0.587879</td>\n",
       "      <td id=\"T_a8134_row42_col7\" class=\"data row42 col7\" >0.821606</td>\n",
       "      <td id=\"T_a8134_row42_col8\" class=\"data row42 col8\" >0.178394</td>\n",
       "      <td id=\"T_a8134_row42_col9\" class=\"data row42 col9\" >0.412121</td>\n",
       "      <td id=\"T_a8134_row42_col10\" class=\"data row42 col10\" >0.340324</td>\n",
       "      <td id=\"T_a8134_row42_col11\" class=\"data row42 col11\" >0.659676</td>\n",
       "      <td id=\"T_a8134_row42_col12\" class=\"data row42 col12\" >0.729179</td>\n",
       "    </tr>\n",
       "    <tr>\n",
       "      <th id=\"T_a8134_level0_row43\" class=\"row_heading level0 row43\" >43</th>\n",
       "      <td id=\"T_a8134_row43_col0\" class=\"data row43 col0\" >age_binned</td>\n",
       "      <td id=\"T_a8134_row43_col1\" class=\"data row43 col1\" >90-100</td>\n",
       "      <td id=\"T_a8134_row43_col2\" class=\"data row43 col2\" >81</td>\n",
       "      <td id=\"T_a8134_row43_col3\" class=\"data row43 col3\" >226</td>\n",
       "      <td id=\"T_a8134_row43_col4\" class=\"data row43 col4\" >51</td>\n",
       "      <td id=\"T_a8134_row43_col5\" class=\"data row43 col5\" >51</td>\n",
       "      <td id=\"T_a8134_row43_col6\" class=\"data row43 col6\" >0.613636</td>\n",
       "      <td id=\"T_a8134_row43_col7\" class=\"data row43 col7\" >0.815884</td>\n",
       "      <td id=\"T_a8134_row43_col8\" class=\"data row43 col8\" >0.184116</td>\n",
       "      <td id=\"T_a8134_row43_col9\" class=\"data row43 col9\" >0.386364</td>\n",
       "      <td id=\"T_a8134_row43_col10\" class=\"data row43 col10\" >0.322738</td>\n",
       "      <td id=\"T_a8134_row43_col11\" class=\"data row43 col11\" >0.677262</td>\n",
       "      <td id=\"T_a8134_row43_col12\" class=\"data row43 col12\" >0.750611</td>\n",
       "    </tr>\n",
       "  </tbody>\n",
       "</table>\n"
      ],
      "text/plain": [
       "<pandas.io.formats.style.Styler at 0x7fdd866756c0>"
      ]
     },
     "metadata": {},
     "output_type": "display_data"
    }
   ],
   "source": [
    "fairness.fairness_evaluation(inputFile='outputDict',outputFile='fairnessReport')"
   ]
  },
  {
   "cell_type": "markdown",
   "id": "ordinary-chancellor",
   "metadata": {},
   "source": [
    "## 9. Deep Learning Models\n",
    "- Time-series LSTM and Time-series CNN which will only use time-series events like medications, charts, labs, output events to train model.\n",
    "\n",
    "- Hybrid LSTM and Hybrid CNN will use static data - diagnosis, demographic data aong with other time-series data to train model.\n",
    "\n",
    "- LSTM with Attention model will use attention layer to rank the important features and learn to predict output. It will use both static and time-series data.\n",
    "\n",
    "**Go to ./model/parameter.py and define all variables needed for model building and training**\n",
    "\n",
    "**Please run below cell to select which model to use**"
   ]
  },
  {
   "cell_type": "code",
   "execution_count": 104,
   "id": "operational-pride",
   "metadata": {},
   "outputs": [
    {
     "data": {
      "application/vnd.jupyter.widget-view+json": {
       "model_id": "8e3acb19d4164aca98de7d8b44505a43",
       "version_major": 2,
       "version_minor": 0
      },
      "text/plain": [
       "RadioButtons(options=('Time-series LSTM', 'Time-series CNN', 'Hybrid LSTM', 'Hybrid CNN', 'GNN'), value='Time-…"
      ]
     },
     "metadata": {},
     "output_type": "display_data"
    },
    {
     "name": "stdout",
     "output_type": "stream",
     "text": [
      "Please select below option for cross-validation\n"
     ]
    },
    {
     "data": {
      "application/vnd.jupyter.widget-view+json": {
       "model_id": "0e5973c6f8fc4ab582e7b0c4fd697426",
       "version_major": 2,
       "version_minor": 0
      },
      "text/plain": [
       "RadioButtons(index=1, options=('No CV', '5-fold CV', '10-fold CV'), value='5-fold CV')"
      ]
     },
     "metadata": {},
     "output_type": "display_data"
    },
    {
     "name": "stdout",
     "output_type": "stream",
     "text": [
      "Do you want to do oversampling for minority calss ?\n"
     ]
    },
    {
     "data": {
      "application/vnd.jupyter.widget-view+json": {
       "model_id": "dc321978ab46478da4c840f7fb7691cc",
       "version_major": 2,
       "version_minor": 0
      },
      "text/plain": [
       "RadioButtons(options=('True', 'False'), value='True')"
      ]
     },
     "metadata": {},
     "output_type": "display_data"
    }
   ],
   "source": [
    "radio_input6=widgets.RadioButtons(options=['Time-series LSTM','Time-series CNN','Hybrid LSTM','Hybrid CNN', 'GNN'],value='Time-series LSTM')\n",
    "display(radio_input6)\n",
    "print(\"Please select below option for cross-validation\")\n",
    "radio_input7 = widgets.RadioButtons(options=['No CV','5-fold CV','10-fold CV'],value='5-fold CV')\n",
    "display(radio_input7)\n",
    "print(\"Do you want to do oversampling for minority calss ?\")\n",
    "radio_input8 = widgets.RadioButtons(options=['True','False'],value='True')\n",
    "display(radio_input8)"
   ]
  },
  {
   "cell_type": "code",
   "execution_count": 114,
   "id": "162efa44",
   "metadata": {},
   "outputs": [],
   "source": [
    "importlib.reload(dl_train)\n",
    "import dl_train\n",
    "from dl_train import *"
   ]
  },
  {
   "cell_type": "code",
   "execution_count": 95,
   "id": "4dcb384c",
   "metadata": {},
   "outputs": [
    {
     "name": "stdout",
     "output_type": "stream",
     "text": [
      "env: CUDA_LAUNCH_BLOCKING=1\n"
     ]
    }
   ],
   "source": [
    "%env CUDA_LAUNCH_BLOCKING=1"
   ]
  },
  {
   "cell_type": "code",
   "execution_count": 96,
   "id": "bc4d03d0",
   "metadata": {},
   "outputs": [
    {
     "name": "stdout",
     "output_type": "stream",
     "text": [
      "0 hours 0 False attn_icu_read True\n"
     ]
    }
   ],
   "source": [
    "print(radio_input6.value,cv,radio_input8.value=='True','attn_icu_read',True)"
   ]
  },
  {
   "cell_type": "code",
   "execution_count": 115,
   "id": "golden-stewart",
   "metadata": {
    "scrolled": true
   },
   "outputs": [
    {
     "name": "stdout",
     "output_type": "stream",
     "text": [
      "===============MODEL TRAINING===============\n",
      "Gender Vocab:  {'<PAD>': 0, 'M': 1, 'F': 2}\n",
      "Lab Vocab size:  19\n",
      "Total Samples 57734\n",
      "Positive Samples 23252\n",
      "Experimental Device Type:  cuda:0\n",
      "Latent size:  152\n",
      "RNN Layers:  2\n",
      "BUILDDDDD:  0\n",
      "[!] SELF.COND StatEmbed(\n",
      "  (codeEmbed): Embedding(152, 52)\n",
      "  (fc): Linear(in_features=7904, out_features=152, bias=True)\n",
      ")\n",
      "[ MODEL CREATED ]\n",
      "LSTMBase(\n",
      "  (med): ValEmbed(\n",
      "    (codeEmbed): BatchNorm1d(19, eps=1e-05, momentum=0.1, affine=True, track_running_stats=True)\n",
      "    (fc): Linear(in_features=19, out_features=152, bias=True)\n",
      "  )\n",
      "  (proc): CodeEmbed(\n",
      "    (codeEmbed): Embedding(15, 52)\n",
      "    (fc): Linear(in_features=780, out_features=152, bias=True)\n",
      "  )\n",
      "  (out): CodeEmbed(\n",
      "    (codeEmbed): Embedding(7, 52)\n",
      "    (fc): Linear(in_features=364, out_features=152, bias=True)\n",
      "  )\n",
      "  (chart): ValEmbed(\n",
      "    (codeEmbed): BatchNorm1d(45, eps=1e-05, momentum=0.1, affine=True, track_running_stats=True)\n",
      "    (fc): Linear(in_features=45, out_features=152, bias=True)\n",
      "  )\n",
      "  (cond): StatEmbed(\n",
      "    (codeEmbed): Embedding(152, 52)\n",
      "    (fc): Linear(in_features=7904, out_features=152, bias=True)\n",
      "  )\n",
      "  (ethEmbed): Embedding(34, 152, padding_idx=0)\n",
      "  (genderEmbed): Embedding(3, 152, padding_idx=0)\n",
      "  (ageEmbed): Embedding(74, 152, padding_idx=0)\n",
      "  (insEmbed): Embedding(4, 152, padding_idx=0)\n",
      "  (embedfc): Linear(in_features=1368, out_features=152, bias=True)\n",
      "  (rnn): LSTM(152, 256, num_layers=2, batch_first=True)\n",
      "  (fc1): Linear(in_features=256, out_features=128, bias=True)\n",
      "  (fc2): Linear(in_features=128, out_features=1, bias=True)\n",
      ")\n",
      "=================== 0 FOLD=====================\n",
      "Training HIDs: 41566\n",
      "Validation HIDs: 4618\n",
      "Train Dataset Length: 41566\n",
      "Validation Dataset Length: 4618\n",
      "Total epochs: 20\n",
      "======= EPOCH 1 =======\n"
     ]
    },
    {
     "name": "stderr",
     "output_type": "stream",
     "text": [
      "Epoch 1/20:   1%|          | 1/163 [00:27<1:13:58, 27.40s/batch]"
     ]
    },
    {
     "name": "stdout",
     "output_type": "stream",
     "text": [
      "[IN] Conds shape:  torch.Size([256, 152])\n",
      "[!] Shapes:  torch.Size([256, 152, 1]) torch.Size([256, 152, 52])\n"
     ]
    },
    {
     "name": "stderr",
     "output_type": "stream",
     "text": [
      "Epoch 1/20:   1%|          | 2/163 [00:56<1:15:45, 28.23s/batch]"
     ]
    },
    {
     "name": "stdout",
     "output_type": "stream",
     "text": [
      "[IN] Conds shape:  torch.Size([256, 152])\n",
      "[!] Shapes:  torch.Size([256, 152, 1]) torch.Size([256, 152, 52])\n",
      "[IN] Conds shape:  torch.Size([256, 152])\n",
      "[!] Shapes:  torch.Size([256, 152, 1]) torch.Size([256, 152, 52])\n"
     ]
    },
    {
     "name": "stderr",
     "output_type": "stream",
     "text": [
      "Epoch 1/20:   2%|▏         | 3/163 [01:24<1:15:29, 28.31s/batch]"
     ]
    },
    {
     "name": "stdout",
     "output_type": "stream",
     "text": [
      "[IN] Conds shape:  torch.Size([256, 152])\n",
      "[!] Shapes:  torch.Size([256, 152, 1]) torch.Size([256, 152, 52])\n"
     ]
    },
    {
     "name": "stderr",
     "output_type": "stream",
     "text": [
      "Epoch 1/20:   2%|▏         | 4/163 [02:18<1:31:53, 34.67s/batch]\n"
     ]
    },
    {
     "ename": "KeyboardInterrupt",
     "evalue": "",
     "output_type": "error",
     "traceback": [
      "\u001b[0;31m---------------------------------------------------------------------------\u001b[0m",
      "\u001b[0;31mKeyboardInterrupt\u001b[0m                         Traceback (most recent call last)",
      "Cell \u001b[0;32mIn[115], line 9\u001b[0m\n\u001b[1;32m      6\u001b[0m     cv\u001b[38;5;241m=\u001b[39m\u001b[38;5;28mint\u001b[39m(\u001b[38;5;241m10\u001b[39m)\n\u001b[1;32m      8\u001b[0m \u001b[38;5;28;01mif\u001b[39;00m data_icu:\n\u001b[0;32m----> 9\u001b[0m     model\u001b[38;5;241m=\u001b[39m\u001b[43mdl_train\u001b[49m\u001b[38;5;241;43m.\u001b[39;49m\u001b[43mDL_models\u001b[49m\u001b[43m(\u001b[49m\u001b[43mdata_icu\u001b[49m\u001b[43m,\u001b[49m\u001b[43mdiag_flag\u001b[49m\u001b[43m,\u001b[49m\u001b[43mproc_flag\u001b[49m\u001b[43m,\u001b[49m\u001b[43mout_flag\u001b[49m\u001b[43m,\u001b[49m\u001b[43mchart_flag\u001b[49m\u001b[43m,\u001b[49m\u001b[43mmed_flag\u001b[49m\u001b[43m,\u001b[49m\u001b[38;5;28;43;01mFalse\u001b[39;49;00m\u001b[43m,\u001b[49m\u001b[43mradio_input6\u001b[49m\u001b[38;5;241;43m.\u001b[39;49m\u001b[43mvalue\u001b[49m\u001b[43m,\u001b[49m\u001b[43mcv\u001b[49m\u001b[43m,\u001b[49m\u001b[43moversampling\u001b[49m\u001b[38;5;241;43m=\u001b[39;49m\u001b[43mradio_input8\u001b[49m\u001b[38;5;241;43m.\u001b[39;49m\u001b[43mvalue\u001b[49m\u001b[38;5;241;43m==\u001b[39;49m\u001b[38;5;124;43m'\u001b[39;49m\u001b[38;5;124;43mTrue\u001b[39;49m\u001b[38;5;124;43m'\u001b[39;49m\u001b[43m,\u001b[49m\u001b[43mmodel_name\u001b[49m\u001b[38;5;241;43m=\u001b[39;49m\u001b[38;5;124;43m'\u001b[39;49m\u001b[38;5;124;43mattn_icu_read\u001b[39;49m\u001b[38;5;124;43m'\u001b[39;49m\u001b[43m,\u001b[49m\u001b[43mtrain\u001b[49m\u001b[38;5;241;43m=\u001b[39;49m\u001b[38;5;28;43;01mTrue\u001b[39;49;00m\u001b[43m)\u001b[49m\n\u001b[1;32m     10\u001b[0m \u001b[38;5;28;01melse\u001b[39;00m:\n\u001b[1;32m     11\u001b[0m     model\u001b[38;5;241m=\u001b[39mdl_train\u001b[38;5;241m.\u001b[39mDL_models(data_icu,diag_flag,proc_flag,\u001b[38;5;28;01mFalse\u001b[39;00m,\u001b[38;5;28;01mFalse\u001b[39;00m,med_flag,lab_flag,radio_input6\u001b[38;5;241m.\u001b[39mvalue,cv,oversampling\u001b[38;5;241m=\u001b[39mradio_input8\u001b[38;5;241m.\u001b[39mvalue\u001b[38;5;241m==\u001b[39m\u001b[38;5;124m'\u001b[39m\u001b[38;5;124mTrue\u001b[39m\u001b[38;5;124m'\u001b[39m,model_name\u001b[38;5;241m=\u001b[39m\u001b[38;5;124m'\u001b[39m\u001b[38;5;124mattn_icu_read\u001b[39m\u001b[38;5;124m'\u001b[39m,train\u001b[38;5;241m=\u001b[39m\u001b[38;5;28;01mTrue\u001b[39;00m)\n",
      "File \u001b[0;32m/mnt/d/MIMIC-IV/MIMIC-IV-Data-Pipeline/model/dl_train.py:128\u001b[0m, in \u001b[0;36mDL_models.__init__\u001b[0;34m(self, data_icu, diag_flag, proc_flag, out_flag, chart_flag, med_flag, lab_flag, model_type, k_fold, oversampling, model_name, train)\u001b[0m\n\u001b[1;32m    126\u001b[0m     \u001b[38;5;28mprint\u001b[39m(\u001b[38;5;124m\"\u001b[39m\u001b[38;5;124mLab Vocab size: \u001b[39m\u001b[38;5;124m\"\u001b[39m, \u001b[38;5;28mself\u001b[39m\u001b[38;5;241m.\u001b[39mmed_vocab_size)\n\u001b[1;32m    127\u001b[0m     \u001b[38;5;66;03m#self.dl_train_new()\u001b[39;00m\n\u001b[0;32m--> 128\u001b[0m     \u001b[38;5;28;43mself\u001b[39;49m\u001b[38;5;241;43m.\u001b[39;49m\u001b[43mdl_train_optimized\u001b[49m\u001b[43m(\u001b[49m\u001b[43m)\u001b[49m\n\u001b[1;32m    130\u001b[0m \u001b[38;5;28;01melse\u001b[39;00m:\n\u001b[1;32m    131\u001b[0m     \u001b[38;5;28mself\u001b[39m\u001b[38;5;241m.\u001b[39mnet\u001b[38;5;241m=\u001b[39mtorch\u001b[38;5;241m.\u001b[39mload(\u001b[38;5;28mself\u001b[39m\u001b[38;5;241m.\u001b[39msave_path)\n",
      "File \u001b[0;32m/mnt/d/MIMIC-IV/MIMIC-IV-Data-Pipeline/model/dl_train.py:401\u001b[0m, in \u001b[0;36mDL_models.dl_train_optimized\u001b[0;34m(self)\u001b[0m\n\u001b[1;32m    399\u001b[0m \u001b[38;5;66;03m# Training loop using DataLoader with tqdm for progress\u001b[39;00m\n\u001b[1;32m    400\u001b[0m tqdm_batch \u001b[38;5;241m=\u001b[39m tqdm(train_loader, desc\u001b[38;5;241m=\u001b[39m\u001b[38;5;124mf\u001b[39m\u001b[38;5;124m\"\u001b[39m\u001b[38;5;124mEpoch \u001b[39m\u001b[38;5;132;01m{\u001b[39;00mepoch\u001b[38;5;241m+\u001b[39m\u001b[38;5;241m1\u001b[39m\u001b[38;5;132;01m}\u001b[39;00m\u001b[38;5;124m/\u001b[39m\u001b[38;5;132;01m{\u001b[39;00margs\u001b[38;5;241m.\u001b[39mnum_epochs\u001b[38;5;132;01m}\u001b[39;00m\u001b[38;5;124m\"\u001b[39m, unit\u001b[38;5;241m=\u001b[39m\u001b[38;5;124m\"\u001b[39m\u001b[38;5;124mbatch\u001b[39m\u001b[38;5;124m\"\u001b[39m)\n\u001b[0;32m--> 401\u001b[0m \u001b[38;5;28;01mfor\u001b[39;00m batch \u001b[38;5;129;01min\u001b[39;00m tqdm_batch:\n\u001b[1;32m    402\u001b[0m     \u001b[38;5;66;03m# Unpack the batch data\u001b[39;00m\n\u001b[1;32m    403\u001b[0m     meds, chart, out, proc, lab, stat_train, demo_train, Y_train \u001b[38;5;241m=\u001b[39m batch\n\u001b[1;32m    404\u001b[0m     \u001b[38;5;66;03m# Handling inconsistancies on lab data\u001b[39;00m\n",
      "File \u001b[0;32m~/hospAItal_env/lib/python3.10/site-packages/tqdm/std.py:1181\u001b[0m, in \u001b[0;36mtqdm.__iter__\u001b[0;34m(self)\u001b[0m\n\u001b[1;32m   1178\u001b[0m time \u001b[38;5;241m=\u001b[39m \u001b[38;5;28mself\u001b[39m\u001b[38;5;241m.\u001b[39m_time\n\u001b[1;32m   1180\u001b[0m \u001b[38;5;28;01mtry\u001b[39;00m:\n\u001b[0;32m-> 1181\u001b[0m     \u001b[38;5;28;01mfor\u001b[39;00m obj \u001b[38;5;129;01min\u001b[39;00m iterable:\n\u001b[1;32m   1182\u001b[0m         \u001b[38;5;28;01myield\u001b[39;00m obj\n\u001b[1;32m   1183\u001b[0m         \u001b[38;5;66;03m# Update and possibly print the progressbar.\u001b[39;00m\n\u001b[1;32m   1184\u001b[0m         \u001b[38;5;66;03m# Note: does not call self.update(1) for speed optimisation.\u001b[39;00m\n",
      "File \u001b[0;32m~/hospAItal_env/lib/python3.10/site-packages/torch/utils/data/dataloader.py:701\u001b[0m, in \u001b[0;36m_BaseDataLoaderIter.__next__\u001b[0;34m(self)\u001b[0m\n\u001b[1;32m    698\u001b[0m \u001b[38;5;28;01mif\u001b[39;00m \u001b[38;5;28mself\u001b[39m\u001b[38;5;241m.\u001b[39m_sampler_iter \u001b[38;5;129;01mis\u001b[39;00m \u001b[38;5;28;01mNone\u001b[39;00m:\n\u001b[1;32m    699\u001b[0m     \u001b[38;5;66;03m# TODO(https://github.com/pytorch/pytorch/issues/76750)\u001b[39;00m\n\u001b[1;32m    700\u001b[0m     \u001b[38;5;28mself\u001b[39m\u001b[38;5;241m.\u001b[39m_reset()  \u001b[38;5;66;03m# type: ignore[call-arg]\u001b[39;00m\n\u001b[0;32m--> 701\u001b[0m data \u001b[38;5;241m=\u001b[39m \u001b[38;5;28;43mself\u001b[39;49m\u001b[38;5;241;43m.\u001b[39;49m\u001b[43m_next_data\u001b[49m\u001b[43m(\u001b[49m\u001b[43m)\u001b[49m\n\u001b[1;32m    702\u001b[0m \u001b[38;5;28mself\u001b[39m\u001b[38;5;241m.\u001b[39m_num_yielded \u001b[38;5;241m+\u001b[39m\u001b[38;5;241m=\u001b[39m \u001b[38;5;241m1\u001b[39m\n\u001b[1;32m    703\u001b[0m \u001b[38;5;28;01mif\u001b[39;00m (\n\u001b[1;32m    704\u001b[0m     \u001b[38;5;28mself\u001b[39m\u001b[38;5;241m.\u001b[39m_dataset_kind \u001b[38;5;241m==\u001b[39m _DatasetKind\u001b[38;5;241m.\u001b[39mIterable\n\u001b[1;32m    705\u001b[0m     \u001b[38;5;129;01mand\u001b[39;00m \u001b[38;5;28mself\u001b[39m\u001b[38;5;241m.\u001b[39m_IterableDataset_len_called \u001b[38;5;129;01mis\u001b[39;00m \u001b[38;5;129;01mnot\u001b[39;00m \u001b[38;5;28;01mNone\u001b[39;00m\n\u001b[1;32m    706\u001b[0m     \u001b[38;5;129;01mand\u001b[39;00m \u001b[38;5;28mself\u001b[39m\u001b[38;5;241m.\u001b[39m_num_yielded \u001b[38;5;241m>\u001b[39m \u001b[38;5;28mself\u001b[39m\u001b[38;5;241m.\u001b[39m_IterableDataset_len_called\n\u001b[1;32m    707\u001b[0m ):\n",
      "File \u001b[0;32m~/hospAItal_env/lib/python3.10/site-packages/torch/utils/data/dataloader.py:757\u001b[0m, in \u001b[0;36m_SingleProcessDataLoaderIter._next_data\u001b[0;34m(self)\u001b[0m\n\u001b[1;32m    755\u001b[0m \u001b[38;5;28;01mdef\u001b[39;00m \u001b[38;5;21m_next_data\u001b[39m(\u001b[38;5;28mself\u001b[39m):\n\u001b[1;32m    756\u001b[0m     index \u001b[38;5;241m=\u001b[39m \u001b[38;5;28mself\u001b[39m\u001b[38;5;241m.\u001b[39m_next_index()  \u001b[38;5;66;03m# may raise StopIteration\u001b[39;00m\n\u001b[0;32m--> 757\u001b[0m     data \u001b[38;5;241m=\u001b[39m \u001b[38;5;28;43mself\u001b[39;49m\u001b[38;5;241;43m.\u001b[39;49m\u001b[43m_dataset_fetcher\u001b[49m\u001b[38;5;241;43m.\u001b[39;49m\u001b[43mfetch\u001b[49m\u001b[43m(\u001b[49m\u001b[43mindex\u001b[49m\u001b[43m)\u001b[49m  \u001b[38;5;66;03m# may raise StopIteration\u001b[39;00m\n\u001b[1;32m    758\u001b[0m     \u001b[38;5;28;01mif\u001b[39;00m \u001b[38;5;28mself\u001b[39m\u001b[38;5;241m.\u001b[39m_pin_memory:\n\u001b[1;32m    759\u001b[0m         data \u001b[38;5;241m=\u001b[39m _utils\u001b[38;5;241m.\u001b[39mpin_memory\u001b[38;5;241m.\u001b[39mpin_memory(data, \u001b[38;5;28mself\u001b[39m\u001b[38;5;241m.\u001b[39m_pin_memory_device)\n",
      "File \u001b[0;32m~/hospAItal_env/lib/python3.10/site-packages/torch/utils/data/_utils/fetch.py:52\u001b[0m, in \u001b[0;36m_MapDatasetFetcher.fetch\u001b[0;34m(self, possibly_batched_index)\u001b[0m\n\u001b[1;32m     50\u001b[0m         data \u001b[38;5;241m=\u001b[39m \u001b[38;5;28mself\u001b[39m\u001b[38;5;241m.\u001b[39mdataset\u001b[38;5;241m.\u001b[39m__getitems__(possibly_batched_index)\n\u001b[1;32m     51\u001b[0m     \u001b[38;5;28;01melse\u001b[39;00m:\n\u001b[0;32m---> 52\u001b[0m         data \u001b[38;5;241m=\u001b[39m [\u001b[38;5;28mself\u001b[39m\u001b[38;5;241m.\u001b[39mdataset[idx] \u001b[38;5;28;01mfor\u001b[39;00m idx \u001b[38;5;129;01min\u001b[39;00m possibly_batched_index]\n\u001b[1;32m     53\u001b[0m \u001b[38;5;28;01melse\u001b[39;00m:\n\u001b[1;32m     54\u001b[0m     data \u001b[38;5;241m=\u001b[39m \u001b[38;5;28mself\u001b[39m\u001b[38;5;241m.\u001b[39mdataset[possibly_batched_index]\n",
      "File \u001b[0;32m~/hospAItal_env/lib/python3.10/site-packages/torch/utils/data/_utils/fetch.py:52\u001b[0m, in \u001b[0;36m<listcomp>\u001b[0;34m(.0)\u001b[0m\n\u001b[1;32m     50\u001b[0m         data \u001b[38;5;241m=\u001b[39m \u001b[38;5;28mself\u001b[39m\u001b[38;5;241m.\u001b[39mdataset\u001b[38;5;241m.\u001b[39m__getitems__(possibly_batched_index)\n\u001b[1;32m     51\u001b[0m     \u001b[38;5;28;01melse\u001b[39;00m:\n\u001b[0;32m---> 52\u001b[0m         data \u001b[38;5;241m=\u001b[39m [\u001b[38;5;28;43mself\u001b[39;49m\u001b[38;5;241;43m.\u001b[39;49m\u001b[43mdataset\u001b[49m\u001b[43m[\u001b[49m\u001b[43midx\u001b[49m\u001b[43m]\u001b[49m \u001b[38;5;28;01mfor\u001b[39;00m idx \u001b[38;5;129;01min\u001b[39;00m possibly_batched_index]\n\u001b[1;32m     53\u001b[0m \u001b[38;5;28;01melse\u001b[39;00m:\n\u001b[1;32m     54\u001b[0m     data \u001b[38;5;241m=\u001b[39m \u001b[38;5;28mself\u001b[39m\u001b[38;5;241m.\u001b[39mdataset[possibly_batched_index]\n",
      "File \u001b[0;32m/mnt/d/MIMIC-IV/MIMIC-IV-Data-Pipeline/model/dl_train.py:88\u001b[0m, in \u001b[0;36mCustomDataset.__getitem__\u001b[0;34m(self, idx)\u001b[0m\n\u001b[1;32m     85\u001b[0m hid \u001b[38;5;241m=\u001b[39m \u001b[38;5;28mself\u001b[39m\u001b[38;5;241m.\u001b[39mhids[idx]\n\u001b[1;32m     87\u001b[0m \u001b[38;5;66;03m# Retrieve data\u001b[39;00m\n\u001b[0;32m---> 88\u001b[0m meds, chart, out, proc, lab, stat_train, demo_train, Y_train \u001b[38;5;241m=\u001b[39m \u001b[38;5;28;43mself\u001b[39;49m\u001b[38;5;241;43m.\u001b[39;49m\u001b[43mgetXY_func\u001b[49m\u001b[43m(\u001b[49m\u001b[43m[\u001b[49m\u001b[43mhid\u001b[49m\u001b[43m]\u001b[49m\u001b[43m,\u001b[49m\u001b[43m \u001b[49m\u001b[38;5;28;43mself\u001b[39;49m\u001b[38;5;241;43m.\u001b[39;49m\u001b[43mlabels\u001b[49m\u001b[43m)\u001b[49m\n\u001b[1;32m     90\u001b[0m \u001b[38;5;66;03m# If necessary, use squeeze to remove singleton dimensions\u001b[39;00m\n\u001b[1;32m     91\u001b[0m meds \u001b[38;5;241m=\u001b[39m meds\u001b[38;5;241m.\u001b[39msqueeze()  \u001b[38;5;66;03m# Removes all singleton dimensions\u001b[39;00m\n",
      "File \u001b[0;32m/mnt/d/MIMIC-IV/MIMIC-IV-Data-Pipeline/model/dl_train.py:588\u001b[0m, in \u001b[0;36mDL_models.getXY\u001b[0;34m(self, ids, labels)\u001b[0m\n\u001b[1;32m    584\u001b[0m                     dyn_df[key]\u001b[38;5;241m=\u001b[39mdyn_temp\n\u001b[1;32m    586\u001b[0m \u001b[38;5;66;03m#                 print(dyn_df[key].shape)        \u001b[39;00m\n\u001b[0;32m--> 588\u001b[0m             stat\u001b[38;5;241m=\u001b[39m\u001b[43mpd\u001b[49m\u001b[38;5;241;43m.\u001b[39;49m\u001b[43mread_csv\u001b[49m\u001b[43m(\u001b[49m\u001b[38;5;124;43m'\u001b[39;49m\u001b[38;5;124;43m./data/csv/\u001b[39;49m\u001b[38;5;124;43m'\u001b[39;49m\u001b[38;5;241;43m+\u001b[39;49m\u001b[38;5;28;43mstr\u001b[39;49m\u001b[43m(\u001b[49m\u001b[43msample\u001b[49m\u001b[43m)\u001b[49m\u001b[38;5;241;43m+\u001b[39;49m\u001b[38;5;124;43m'\u001b[39;49m\u001b[38;5;124;43m/static.csv\u001b[39;49m\u001b[38;5;124;43m'\u001b[39;49m\u001b[43m,\u001b[49m\u001b[43mheader\u001b[49m\u001b[38;5;241;43m=\u001b[39;49m\u001b[43m[\u001b[49m\u001b[38;5;241;43m0\u001b[39;49m\u001b[43m,\u001b[49m\u001b[38;5;241;43m1\u001b[39;49m\u001b[43m]\u001b[49m\u001b[43m)\u001b[49m\n\u001b[1;32m    589\u001b[0m             stat\u001b[38;5;241m=\u001b[39mstat[\u001b[38;5;124m'\u001b[39m\u001b[38;5;124mCOND\u001b[39m\u001b[38;5;124m'\u001b[39m]\n\u001b[1;32m    590\u001b[0m             stat\u001b[38;5;241m=\u001b[39mstat\u001b[38;5;241m.\u001b[39mto_numpy()\n",
      "File \u001b[0;32m~/hospAItal_env/lib/python3.10/site-packages/pandas/io/parsers/readers.py:1026\u001b[0m, in \u001b[0;36mread_csv\u001b[0;34m(filepath_or_buffer, sep, delimiter, header, names, index_col, usecols, dtype, engine, converters, true_values, false_values, skipinitialspace, skiprows, skipfooter, nrows, na_values, keep_default_na, na_filter, verbose, skip_blank_lines, parse_dates, infer_datetime_format, keep_date_col, date_parser, date_format, dayfirst, cache_dates, iterator, chunksize, compression, thousands, decimal, lineterminator, quotechar, quoting, doublequote, escapechar, comment, encoding, encoding_errors, dialect, on_bad_lines, delim_whitespace, low_memory, memory_map, float_precision, storage_options, dtype_backend)\u001b[0m\n\u001b[1;32m   1013\u001b[0m kwds_defaults \u001b[38;5;241m=\u001b[39m _refine_defaults_read(\n\u001b[1;32m   1014\u001b[0m     dialect,\n\u001b[1;32m   1015\u001b[0m     delimiter,\n\u001b[0;32m   (...)\u001b[0m\n\u001b[1;32m   1022\u001b[0m     dtype_backend\u001b[38;5;241m=\u001b[39mdtype_backend,\n\u001b[1;32m   1023\u001b[0m )\n\u001b[1;32m   1024\u001b[0m kwds\u001b[38;5;241m.\u001b[39mupdate(kwds_defaults)\n\u001b[0;32m-> 1026\u001b[0m \u001b[38;5;28;01mreturn\u001b[39;00m \u001b[43m_read\u001b[49m\u001b[43m(\u001b[49m\u001b[43mfilepath_or_buffer\u001b[49m\u001b[43m,\u001b[49m\u001b[43m \u001b[49m\u001b[43mkwds\u001b[49m\u001b[43m)\u001b[49m\n",
      "File \u001b[0;32m~/hospAItal_env/lib/python3.10/site-packages/pandas/io/parsers/readers.py:620\u001b[0m, in \u001b[0;36m_read\u001b[0;34m(filepath_or_buffer, kwds)\u001b[0m\n\u001b[1;32m    617\u001b[0m _validate_names(kwds\u001b[38;5;241m.\u001b[39mget(\u001b[38;5;124m\"\u001b[39m\u001b[38;5;124mnames\u001b[39m\u001b[38;5;124m\"\u001b[39m, \u001b[38;5;28;01mNone\u001b[39;00m))\n\u001b[1;32m    619\u001b[0m \u001b[38;5;66;03m# Create the parser.\u001b[39;00m\n\u001b[0;32m--> 620\u001b[0m parser \u001b[38;5;241m=\u001b[39m \u001b[43mTextFileReader\u001b[49m\u001b[43m(\u001b[49m\u001b[43mfilepath_or_buffer\u001b[49m\u001b[43m,\u001b[49m\u001b[43m \u001b[49m\u001b[38;5;241;43m*\u001b[39;49m\u001b[38;5;241;43m*\u001b[39;49m\u001b[43mkwds\u001b[49m\u001b[43m)\u001b[49m\n\u001b[1;32m    622\u001b[0m \u001b[38;5;28;01mif\u001b[39;00m chunksize \u001b[38;5;129;01mor\u001b[39;00m iterator:\n\u001b[1;32m    623\u001b[0m     \u001b[38;5;28;01mreturn\u001b[39;00m parser\n",
      "File \u001b[0;32m~/hospAItal_env/lib/python3.10/site-packages/pandas/io/parsers/readers.py:1620\u001b[0m, in \u001b[0;36mTextFileReader.__init__\u001b[0;34m(self, f, engine, **kwds)\u001b[0m\n\u001b[1;32m   1617\u001b[0m     \u001b[38;5;28mself\u001b[39m\u001b[38;5;241m.\u001b[39moptions[\u001b[38;5;124m\"\u001b[39m\u001b[38;5;124mhas_index_names\u001b[39m\u001b[38;5;124m\"\u001b[39m] \u001b[38;5;241m=\u001b[39m kwds[\u001b[38;5;124m\"\u001b[39m\u001b[38;5;124mhas_index_names\u001b[39m\u001b[38;5;124m\"\u001b[39m]\n\u001b[1;32m   1619\u001b[0m \u001b[38;5;28mself\u001b[39m\u001b[38;5;241m.\u001b[39mhandles: IOHandles \u001b[38;5;241m|\u001b[39m \u001b[38;5;28;01mNone\u001b[39;00m \u001b[38;5;241m=\u001b[39m \u001b[38;5;28;01mNone\u001b[39;00m\n\u001b[0;32m-> 1620\u001b[0m \u001b[38;5;28mself\u001b[39m\u001b[38;5;241m.\u001b[39m_engine \u001b[38;5;241m=\u001b[39m \u001b[38;5;28;43mself\u001b[39;49m\u001b[38;5;241;43m.\u001b[39;49m\u001b[43m_make_engine\u001b[49m\u001b[43m(\u001b[49m\u001b[43mf\u001b[49m\u001b[43m,\u001b[49m\u001b[43m \u001b[49m\u001b[38;5;28;43mself\u001b[39;49m\u001b[38;5;241;43m.\u001b[39;49m\u001b[43mengine\u001b[49m\u001b[43m)\u001b[49m\n",
      "File \u001b[0;32m~/hospAItal_env/lib/python3.10/site-packages/pandas/io/parsers/readers.py:1880\u001b[0m, in \u001b[0;36mTextFileReader._make_engine\u001b[0;34m(self, f, engine)\u001b[0m\n\u001b[1;32m   1878\u001b[0m     \u001b[38;5;28;01mif\u001b[39;00m \u001b[38;5;124m\"\u001b[39m\u001b[38;5;124mb\u001b[39m\u001b[38;5;124m\"\u001b[39m \u001b[38;5;129;01mnot\u001b[39;00m \u001b[38;5;129;01min\u001b[39;00m mode:\n\u001b[1;32m   1879\u001b[0m         mode \u001b[38;5;241m+\u001b[39m\u001b[38;5;241m=\u001b[39m \u001b[38;5;124m\"\u001b[39m\u001b[38;5;124mb\u001b[39m\u001b[38;5;124m\"\u001b[39m\n\u001b[0;32m-> 1880\u001b[0m \u001b[38;5;28mself\u001b[39m\u001b[38;5;241m.\u001b[39mhandles \u001b[38;5;241m=\u001b[39m \u001b[43mget_handle\u001b[49m\u001b[43m(\u001b[49m\n\u001b[1;32m   1881\u001b[0m \u001b[43m    \u001b[49m\u001b[43mf\u001b[49m\u001b[43m,\u001b[49m\n\u001b[1;32m   1882\u001b[0m \u001b[43m    \u001b[49m\u001b[43mmode\u001b[49m\u001b[43m,\u001b[49m\n\u001b[1;32m   1883\u001b[0m \u001b[43m    \u001b[49m\u001b[43mencoding\u001b[49m\u001b[38;5;241;43m=\u001b[39;49m\u001b[38;5;28;43mself\u001b[39;49m\u001b[38;5;241;43m.\u001b[39;49m\u001b[43moptions\u001b[49m\u001b[38;5;241;43m.\u001b[39;49m\u001b[43mget\u001b[49m\u001b[43m(\u001b[49m\u001b[38;5;124;43m\"\u001b[39;49m\u001b[38;5;124;43mencoding\u001b[39;49m\u001b[38;5;124;43m\"\u001b[39;49m\u001b[43m,\u001b[49m\u001b[43m \u001b[49m\u001b[38;5;28;43;01mNone\u001b[39;49;00m\u001b[43m)\u001b[49m\u001b[43m,\u001b[49m\n\u001b[1;32m   1884\u001b[0m \u001b[43m    \u001b[49m\u001b[43mcompression\u001b[49m\u001b[38;5;241;43m=\u001b[39;49m\u001b[38;5;28;43mself\u001b[39;49m\u001b[38;5;241;43m.\u001b[39;49m\u001b[43moptions\u001b[49m\u001b[38;5;241;43m.\u001b[39;49m\u001b[43mget\u001b[49m\u001b[43m(\u001b[49m\u001b[38;5;124;43m\"\u001b[39;49m\u001b[38;5;124;43mcompression\u001b[39;49m\u001b[38;5;124;43m\"\u001b[39;49m\u001b[43m,\u001b[49m\u001b[43m \u001b[49m\u001b[38;5;28;43;01mNone\u001b[39;49;00m\u001b[43m)\u001b[49m\u001b[43m,\u001b[49m\n\u001b[1;32m   1885\u001b[0m \u001b[43m    \u001b[49m\u001b[43mmemory_map\u001b[49m\u001b[38;5;241;43m=\u001b[39;49m\u001b[38;5;28;43mself\u001b[39;49m\u001b[38;5;241;43m.\u001b[39;49m\u001b[43moptions\u001b[49m\u001b[38;5;241;43m.\u001b[39;49m\u001b[43mget\u001b[49m\u001b[43m(\u001b[49m\u001b[38;5;124;43m\"\u001b[39;49m\u001b[38;5;124;43mmemory_map\u001b[39;49m\u001b[38;5;124;43m\"\u001b[39;49m\u001b[43m,\u001b[49m\u001b[43m \u001b[49m\u001b[38;5;28;43;01mFalse\u001b[39;49;00m\u001b[43m)\u001b[49m\u001b[43m,\u001b[49m\n\u001b[1;32m   1886\u001b[0m \u001b[43m    \u001b[49m\u001b[43mis_text\u001b[49m\u001b[38;5;241;43m=\u001b[39;49m\u001b[43mis_text\u001b[49m\u001b[43m,\u001b[49m\n\u001b[1;32m   1887\u001b[0m \u001b[43m    \u001b[49m\u001b[43merrors\u001b[49m\u001b[38;5;241;43m=\u001b[39;49m\u001b[38;5;28;43mself\u001b[39;49m\u001b[38;5;241;43m.\u001b[39;49m\u001b[43moptions\u001b[49m\u001b[38;5;241;43m.\u001b[39;49m\u001b[43mget\u001b[49m\u001b[43m(\u001b[49m\u001b[38;5;124;43m\"\u001b[39;49m\u001b[38;5;124;43mencoding_errors\u001b[39;49m\u001b[38;5;124;43m\"\u001b[39;49m\u001b[43m,\u001b[49m\u001b[43m \u001b[49m\u001b[38;5;124;43m\"\u001b[39;49m\u001b[38;5;124;43mstrict\u001b[39;49m\u001b[38;5;124;43m\"\u001b[39;49m\u001b[43m)\u001b[49m\u001b[43m,\u001b[49m\n\u001b[1;32m   1888\u001b[0m \u001b[43m    \u001b[49m\u001b[43mstorage_options\u001b[49m\u001b[38;5;241;43m=\u001b[39;49m\u001b[38;5;28;43mself\u001b[39;49m\u001b[38;5;241;43m.\u001b[39;49m\u001b[43moptions\u001b[49m\u001b[38;5;241;43m.\u001b[39;49m\u001b[43mget\u001b[49m\u001b[43m(\u001b[49m\u001b[38;5;124;43m\"\u001b[39;49m\u001b[38;5;124;43mstorage_options\u001b[39;49m\u001b[38;5;124;43m\"\u001b[39;49m\u001b[43m,\u001b[49m\u001b[43m \u001b[49m\u001b[38;5;28;43;01mNone\u001b[39;49;00m\u001b[43m)\u001b[49m\u001b[43m,\u001b[49m\n\u001b[1;32m   1889\u001b[0m \u001b[43m\u001b[49m\u001b[43m)\u001b[49m\n\u001b[1;32m   1890\u001b[0m \u001b[38;5;28;01massert\u001b[39;00m \u001b[38;5;28mself\u001b[39m\u001b[38;5;241m.\u001b[39mhandles \u001b[38;5;129;01mis\u001b[39;00m \u001b[38;5;129;01mnot\u001b[39;00m \u001b[38;5;28;01mNone\u001b[39;00m\n\u001b[1;32m   1891\u001b[0m f \u001b[38;5;241m=\u001b[39m \u001b[38;5;28mself\u001b[39m\u001b[38;5;241m.\u001b[39mhandles\u001b[38;5;241m.\u001b[39mhandle\n",
      "File \u001b[0;32m~/hospAItal_env/lib/python3.10/site-packages/pandas/io/common.py:873\u001b[0m, in \u001b[0;36mget_handle\u001b[0;34m(path_or_buf, mode, encoding, compression, memory_map, is_text, errors, storage_options)\u001b[0m\n\u001b[1;32m    868\u001b[0m \u001b[38;5;28;01melif\u001b[39;00m \u001b[38;5;28misinstance\u001b[39m(handle, \u001b[38;5;28mstr\u001b[39m):\n\u001b[1;32m    869\u001b[0m     \u001b[38;5;66;03m# Check whether the filename is to be opened in binary mode.\u001b[39;00m\n\u001b[1;32m    870\u001b[0m     \u001b[38;5;66;03m# Binary mode does not support 'encoding' and 'newline'.\u001b[39;00m\n\u001b[1;32m    871\u001b[0m     \u001b[38;5;28;01mif\u001b[39;00m ioargs\u001b[38;5;241m.\u001b[39mencoding \u001b[38;5;129;01mand\u001b[39;00m \u001b[38;5;124m\"\u001b[39m\u001b[38;5;124mb\u001b[39m\u001b[38;5;124m\"\u001b[39m \u001b[38;5;129;01mnot\u001b[39;00m \u001b[38;5;129;01min\u001b[39;00m ioargs\u001b[38;5;241m.\u001b[39mmode:\n\u001b[1;32m    872\u001b[0m         \u001b[38;5;66;03m# Encoding\u001b[39;00m\n\u001b[0;32m--> 873\u001b[0m         handle \u001b[38;5;241m=\u001b[39m \u001b[38;5;28;43mopen\u001b[39;49m\u001b[43m(\u001b[49m\n\u001b[1;32m    874\u001b[0m \u001b[43m            \u001b[49m\u001b[43mhandle\u001b[49m\u001b[43m,\u001b[49m\n\u001b[1;32m    875\u001b[0m \u001b[43m            \u001b[49m\u001b[43mioargs\u001b[49m\u001b[38;5;241;43m.\u001b[39;49m\u001b[43mmode\u001b[49m\u001b[43m,\u001b[49m\n\u001b[1;32m    876\u001b[0m \u001b[43m            \u001b[49m\u001b[43mencoding\u001b[49m\u001b[38;5;241;43m=\u001b[39;49m\u001b[43mioargs\u001b[49m\u001b[38;5;241;43m.\u001b[39;49m\u001b[43mencoding\u001b[49m\u001b[43m,\u001b[49m\n\u001b[1;32m    877\u001b[0m \u001b[43m            \u001b[49m\u001b[43merrors\u001b[49m\u001b[38;5;241;43m=\u001b[39;49m\u001b[43merrors\u001b[49m\u001b[43m,\u001b[49m\n\u001b[1;32m    878\u001b[0m \u001b[43m            \u001b[49m\u001b[43mnewline\u001b[49m\u001b[38;5;241;43m=\u001b[39;49m\u001b[38;5;124;43m\"\u001b[39;49m\u001b[38;5;124;43m\"\u001b[39;49m\u001b[43m,\u001b[49m\n\u001b[1;32m    879\u001b[0m \u001b[43m        \u001b[49m\u001b[43m)\u001b[49m\n\u001b[1;32m    880\u001b[0m     \u001b[38;5;28;01melse\u001b[39;00m:\n\u001b[1;32m    881\u001b[0m         \u001b[38;5;66;03m# Binary mode\u001b[39;00m\n\u001b[1;32m    882\u001b[0m         handle \u001b[38;5;241m=\u001b[39m \u001b[38;5;28mopen\u001b[39m(handle, ioargs\u001b[38;5;241m.\u001b[39mmode)\n",
      "File \u001b[0;32m/usr/lib/python3.10/codecs.py:309\u001b[0m, in \u001b[0;36mBufferedIncrementalDecoder.__init__\u001b[0;34m(self, errors)\u001b[0m\n\u001b[1;32m    303\u001b[0m \u001b[38;5;28;01mclass\u001b[39;00m \u001b[38;5;21;01mBufferedIncrementalDecoder\u001b[39;00m(IncrementalDecoder):\n\u001b[1;32m    304\u001b[0m \u001b[38;5;250m    \u001b[39m\u001b[38;5;124;03m\"\"\"\u001b[39;00m\n\u001b[1;32m    305\u001b[0m \u001b[38;5;124;03m    This subclass of IncrementalDecoder can be used as the baseclass for an\u001b[39;00m\n\u001b[1;32m    306\u001b[0m \u001b[38;5;124;03m    incremental decoder if the decoder must be able to handle incomplete\u001b[39;00m\n\u001b[1;32m    307\u001b[0m \u001b[38;5;124;03m    byte sequences.\u001b[39;00m\n\u001b[1;32m    308\u001b[0m \u001b[38;5;124;03m    \"\"\"\u001b[39;00m\n\u001b[0;32m--> 309\u001b[0m     \u001b[38;5;28;01mdef\u001b[39;00m \u001b[38;5;21m__init__\u001b[39m(\u001b[38;5;28mself\u001b[39m, errors\u001b[38;5;241m=\u001b[39m\u001b[38;5;124m'\u001b[39m\u001b[38;5;124mstrict\u001b[39m\u001b[38;5;124m'\u001b[39m):\n\u001b[1;32m    310\u001b[0m         IncrementalDecoder\u001b[38;5;241m.\u001b[39m\u001b[38;5;21m__init__\u001b[39m(\u001b[38;5;28mself\u001b[39m, errors)\n\u001b[1;32m    311\u001b[0m         \u001b[38;5;66;03m# undecoded input that is kept between calls to decode()\u001b[39;00m\n",
      "\u001b[0;31mKeyboardInterrupt\u001b[0m: "
     ]
    }
   ],
   "source": [
    "if radio_input7.value=='No CV':\n",
    "    cv=0\n",
    "elif radio_input7.value=='5-fold CV':\n",
    "    cv=int(5)\n",
    "elif radio_input7.value=='10-fold CV':\n",
    "    cv=int(10)\n",
    "    \n",
    "if data_icu:\n",
    "    model=dl_train.DL_models(data_icu,diag_flag,proc_flag,out_flag,chart_flag,med_flag,False,radio_input6.value,cv,oversampling=radio_input8.value=='True',model_name='attn_icu_read',train=True)\n",
    "else:\n",
    "    model=dl_train.DL_models(data_icu,diag_flag,proc_flag,False,False,med_flag,lab_flag,radio_input6.value,cv,oversampling=radio_input8.value=='True',model_name='attn_icu_read',train=True)"
   ]
  },
  {
   "cell_type": "markdown",
   "id": "driven-factor",
   "metadata": {},
   "source": [
    "## 10. Running BEHRT\n",
    "Below we integrate the implementation of BEHRT in our pipeline.\n",
    "We perform pre-procesing needed to run BEHRT model. https://github.com/deepmedicine/BEHRT\n",
    "\n",
    "Few things to note before running BEHRT -\n",
    "- The numerical values are binned into quantiles.\n",
    "- BEHRT has recommended maximum number of events per sample to be 512. \n",
    "    So feature selection is important so that number of events per sample does not exceed 512.\n",
    "- The model is quite computationally heavy so it requires a GPU.\n",
    "\n",
    "The output files for BEHRT will be saved in ./data/behrt/ folder\n",
    "\n",
    "**Please run below cell to to pre-process and run BEHRT on the selected cohort**"
   ]
  },
  {
   "cell_type": "code",
   "execution_count": null,
   "id": "aggressive-break",
   "metadata": {},
   "outputs": [],
   "source": [
    "if data_icu:\n",
    "    token=tokenization.BEHRT_models(data_icu,diag_flag,proc_flag,out_flag,chart_flag,med_flag,False)\n",
    "    tokenized_src, tokenized_age, tokenized_gender, tokenized_ethni, tokenized_ins, tokenized_labels=token.tokenize()\n",
    "else:\n",
    "    token=tokenization.BEHRT_models(data_icu,diag_flag,proc_flag,False,False,med_flag,lab_flag)\n",
    "    tokenized_src, tokenized_age, tokenized_gender, tokenized_ethni, tokenized_ins, tokenized_labels=token.tokenize()\n",
    "    \n",
    "behrt_train.train_behrt(tokenized_src, tokenized_age, tokenized_gender, tokenized_ethni, tokenized_ins, tokenized_labels)"
   ]
  },
  {
   "cell_type": "markdown",
   "id": "reserved-objective",
   "metadata": {},
   "source": [
    "### EVALUATION AS STANDALONE MODULE\n",
    "Below cell shows an exaple of how evaluation module can be used as a standalone module.\n",
    "\n",
    "evaluation.Loss class can be instantiated and model output and ground truth can be passed to it to obtain results.\n",
    "\n",
    "In the example below we captured model output and ground truth in a file and used that file to read the data.\n",
    "\n",
    "In function definition ***loss(prob,truth,logits,False)***\n",
    "\n",
    "prob -> List of Output predicted probabilities of case being positive\n",
    "\n",
    "truth -> List of ground truth labels\n",
    "\n",
    "logits -> List of logits obtained from last fully connected layer before applying softmax.sigmoid function in the model."
   ]
  },
  {
   "cell_type": "code",
   "execution_count": 101,
   "id": "streaming-integration",
   "metadata": {},
   "outputs": [
    {
     "name": "stdout",
     "output_type": "stream",
     "text": [
      "======= TESTING ========\n",
      "BCE Loss: 1.17\n",
      "AU-ROC: 0.77\n",
      "AU-PRC: 0.77\n",
      "AU-PRC Baaseline: 0.50\n",
      "Accuracy: 0.71\n",
      "Precision: 0.72\n",
      "Recall: 0.70\n",
      "Specificity: 0.72\n",
      "NPV: 0.70\n",
      "ECE: 0.05\n",
      "MCE: 0.11\n"
     ]
    },
    {
     "data": {
      "image/png": "[encoded data removed]",
      "text/plain": [
       "<Figure size 800x600 with 1 Axes>"
      ]
     },
     "metadata": {},
     "output_type": "display_data"
    },
    {
     "data": {
      "image/png": "[encoded data removed]",
      "text/plain": [
       "<Figure size 800x800 with 1 Axes>"
      ]
     },
     "metadata": {},
     "output_type": "display_data"
    }
   ],
   "source": [
    "if torch.cuda.is_available():\n",
    "    device='cuda:0'\n",
    "#device='cpu'\n",
    "loss=evaluation.Loss(device,acc=True,ppv=True,sensi=True,tnr=True,npv=True,auroc=True,aurocPlot=True,auprc=True,auprcPlot=True,callb=True,callbPlot=True)\n",
    "with open(\"./data/output/outputDict\", 'rb') as fp:\n",
    "    outputDict=pickle.load(fp)\n",
    "prob=list(outputDict['Prob'])\n",
    "truth=list(outputDict['Labels'])\n",
    "logits=list(outputDict['Logits'])\n",
    "#print(torch.tensor(prob))\n",
    "print(\"======= TESTING ========\")\n",
    "loss(prob,truth,logits,train=False,standalone=True)\n"
   ]
  },
  {
   "cell_type": "markdown",
   "id": "designing-works",
   "metadata": {},
   "source": [
    "### 11. FAIRNESS EVALUATION\n",
    "In train and testing step we save output files in **./data/output/** folder.\n",
    "\n",
    "This file conatins list of demographic variables included in training and testing of the model.\n",
    "\n",
    "It also contains the ground truth labels and predicted probability for each sample.\n",
    "\n",
    "We use the above saved data to perform fairness evaluation of the results obtained from model testing.\n",
    "\n",
    "This module can be used as stand-alone module also.\n",
    "\n",
    "Please create a file that contains predicted probabilites form the last sigmoid layer in column named **Prob** and\n",
    "ground truth labels for each sample in column named **Labels**."
   ]
  },
  {
   "cell_type": "code",
   "execution_count": 102,
   "id": "civilian-direction",
   "metadata": {},
   "outputs": [
    {
     "data": {
      "text/html": [
       "<style type=\"text/css\">\n",
       "#T_5f611_row0_col0, #T_5f611_row0_col1, #T_5f611_row0_col2, #T_5f611_row0_col3, #T_5f611_row0_col4, #T_5f611_row0_col5, #T_5f611_row0_col6, #T_5f611_row0_col7, #T_5f611_row0_col8, #T_5f611_row0_col9, #T_5f611_row0_col10, #T_5f611_row0_col11, #T_5f611_row0_col12, #T_5f611_row1_col0, #T_5f611_row1_col1, #T_5f611_row1_col2, #T_5f611_row1_col3, #T_5f611_row1_col4, #T_5f611_row1_col5, #T_5f611_row1_col6, #T_5f611_row1_col7, #T_5f611_row1_col8, #T_5f611_row1_col9, #T_5f611_row1_col10, #T_5f611_row1_col11, #T_5f611_row1_col12, #T_5f611_row2_col0, #T_5f611_row2_col1, #T_5f611_row2_col2, #T_5f611_row2_col3, #T_5f611_row2_col4, #T_5f611_row2_col5, #T_5f611_row2_col6, #T_5f611_row2_col7, #T_5f611_row2_col8, #T_5f611_row2_col9, #T_5f611_row2_col10, #T_5f611_row2_col11, #T_5f611_row2_col12, #T_5f611_row3_col0, #T_5f611_row3_col1, #T_5f611_row3_col2, #T_5f611_row3_col3, #T_5f611_row3_col4, #T_5f611_row3_col5, #T_5f611_row3_col6, #T_5f611_row3_col7, #T_5f611_row3_col8, #T_5f611_row3_col9, #T_5f611_row3_col10, #T_5f611_row3_col11, #T_5f611_row3_col12, #T_5f611_row4_col0, #T_5f611_row4_col1, #T_5f611_row4_col2, #T_5f611_row4_col3, #T_5f611_row4_col4, #T_5f611_row4_col5, #T_5f611_row4_col6, #T_5f611_row4_col7, #T_5f611_row4_col8, #T_5f611_row4_col9, #T_5f611_row4_col10, #T_5f611_row4_col11, #T_5f611_row4_col12, #T_5f611_row5_col0, #T_5f611_row5_col1, #T_5f611_row5_col2, #T_5f611_row5_col3, #T_5f611_row5_col4, #T_5f611_row5_col5, #T_5f611_row5_col6, #T_5f611_row5_col7, #T_5f611_row5_col8, #T_5f611_row5_col9, #T_5f611_row5_col10, #T_5f611_row5_col11, #T_5f611_row5_col12, #T_5f611_row6_col0, #T_5f611_row6_col1, #T_5f611_row6_col2, #T_5f611_row6_col3, #T_5f611_row6_col4, #T_5f611_row6_col5, #T_5f611_row6_col6, #T_5f611_row6_col7, #T_5f611_row6_col8, #T_5f611_row6_col9, #T_5f611_row6_col10, #T_5f611_row6_col11, #T_5f611_row6_col12, #T_5f611_row7_col0, #T_5f611_row7_col1, #T_5f611_row7_col2, #T_5f611_row7_col3, #T_5f611_row7_col4, #T_5f611_row7_col5, #T_5f611_row7_col6, #T_5f611_row7_col7, #T_5f611_row7_col8, #T_5f611_row7_col9, #T_5f611_row7_col10, #T_5f611_row7_col11, #T_5f611_row7_col12, #T_5f611_row8_col0, #T_5f611_row8_col1, #T_5f611_row8_col2, #T_5f611_row8_col3, #T_5f611_row8_col4, #T_5f611_row8_col5, #T_5f611_row8_col6, #T_5f611_row8_col7, #T_5f611_row8_col8, #T_5f611_row8_col9, #T_5f611_row8_col10, #T_5f611_row8_col11, #T_5f611_row8_col12, #T_5f611_row9_col0, #T_5f611_row9_col1, #T_5f611_row9_col2, #T_5f611_row9_col3, #T_5f611_row9_col4, #T_5f611_row9_col5, #T_5f611_row9_col6, #T_5f611_row9_col7, #T_5f611_row9_col8, #T_5f611_row9_col9, #T_5f611_row9_col10, #T_5f611_row9_col11, #T_5f611_row9_col12, #T_5f611_row10_col0, #T_5f611_row10_col1, #T_5f611_row10_col2, #T_5f611_row10_col3, #T_5f611_row10_col4, #T_5f611_row10_col5, #T_5f611_row10_col6, #T_5f611_row10_col7, #T_5f611_row10_col8, #T_5f611_row10_col9, #T_5f611_row10_col10, #T_5f611_row10_col11, #T_5f611_row10_col12, #T_5f611_row11_col0, #T_5f611_row11_col1, #T_5f611_row11_col2, #T_5f611_row11_col3, #T_5f611_row11_col4, #T_5f611_row11_col5, #T_5f611_row11_col6, #T_5f611_row11_col7, #T_5f611_row11_col8, #T_5f611_row11_col9, #T_5f611_row11_col10, #T_5f611_row11_col11, #T_5f611_row11_col12, #T_5f611_row12_col0, #T_5f611_row12_col1, #T_5f611_row12_col2, #T_5f611_row12_col3, #T_5f611_row12_col4, #T_5f611_row12_col5, #T_5f611_row12_col6, #T_5f611_row12_col7, #T_5f611_row12_col8, #T_5f611_row12_col9, #T_5f611_row12_col10, #T_5f611_row12_col11, #T_5f611_row12_col12, #T_5f611_row13_col0, #T_5f611_row13_col1, #T_5f611_row13_col2, #T_5f611_row13_col3, #T_5f611_row13_col4, #T_5f611_row13_col5, #T_5f611_row13_col6, #T_5f611_row13_col7, #T_5f611_row13_col8, #T_5f611_row13_col9, #T_5f611_row13_col10, #T_5f611_row13_col11, #T_5f611_row13_col12, #T_5f611_row14_col0, #T_5f611_row14_col1, #T_5f611_row14_col2, #T_5f611_row14_col3, #T_5f611_row14_col4, #T_5f611_row14_col5, #T_5f611_row14_col6, #T_5f611_row14_col7, #T_5f611_row14_col8, #T_5f611_row14_col9, #T_5f611_row14_col10, #T_5f611_row14_col11, #T_5f611_row14_col12, #T_5f611_row15_col0, #T_5f611_row15_col1, #T_5f611_row15_col2, #T_5f611_row15_col3, #T_5f611_row15_col4, #T_5f611_row15_col5, #T_5f611_row15_col6, #T_5f611_row15_col7, #T_5f611_row15_col8, #T_5f611_row15_col9, #T_5f611_row15_col10, #T_5f611_row15_col11, #T_5f611_row15_col12, #T_5f611_row16_col0, #T_5f611_row16_col1, #T_5f611_row16_col2, #T_5f611_row16_col3, #T_5f611_row16_col4, #T_5f611_row16_col5, #T_5f611_row16_col6, #T_5f611_row16_col7, #T_5f611_row16_col8, #T_5f611_row16_col9, #T_5f611_row16_col10, #T_5f611_row16_col11, #T_5f611_row16_col12, #T_5f611_row17_col0, #T_5f611_row17_col1, #T_5f611_row17_col2, #T_5f611_row17_col3, #T_5f611_row17_col4, #T_5f611_row17_col5, #T_5f611_row17_col6, #T_5f611_row17_col7, #T_5f611_row17_col8, #T_5f611_row17_col9, #T_5f611_row17_col10, #T_5f611_row17_col11, #T_5f611_row17_col12, #T_5f611_row18_col0, #T_5f611_row18_col1, #T_5f611_row18_col2, #T_5f611_row18_col3, #T_5f611_row18_col4, #T_5f611_row18_col5, #T_5f611_row18_col6, #T_5f611_row18_col7, #T_5f611_row18_col8, #T_5f611_row18_col9, #T_5f611_row18_col10, #T_5f611_row18_col11, #T_5f611_row18_col12, #T_5f611_row19_col0, #T_5f611_row19_col1, #T_5f611_row19_col2, #T_5f611_row19_col3, #T_5f611_row19_col4, #T_5f611_row19_col5, #T_5f611_row19_col6, #T_5f611_row19_col7, #T_5f611_row19_col8, #T_5f611_row19_col9, #T_5f611_row19_col10, #T_5f611_row19_col11, #T_5f611_row19_col12, #T_5f611_row20_col0, #T_5f611_row20_col1, #T_5f611_row20_col2, #T_5f611_row20_col3, #T_5f611_row20_col4, #T_5f611_row20_col5, #T_5f611_row20_col6, #T_5f611_row20_col7, #T_5f611_row20_col8, #T_5f611_row20_col9, #T_5f611_row20_col10, #T_5f611_row20_col11, #T_5f611_row20_col12, #T_5f611_row21_col0, #T_5f611_row21_col1, #T_5f611_row21_col2, #T_5f611_row21_col3, #T_5f611_row21_col4, #T_5f611_row21_col5, #T_5f611_row21_col6, #T_5f611_row21_col7, #T_5f611_row21_col8, #T_5f611_row21_col9, #T_5f611_row21_col10, #T_5f611_row21_col11, #T_5f611_row21_col12, #T_5f611_row22_col0, #T_5f611_row22_col1, #T_5f611_row22_col2, #T_5f611_row22_col3, #T_5f611_row22_col4, #T_5f611_row22_col5, #T_5f611_row22_col6, #T_5f611_row22_col7, #T_5f611_row22_col8, #T_5f611_row22_col9, #T_5f611_row22_col10, #T_5f611_row22_col11, #T_5f611_row22_col12, #T_5f611_row23_col0, #T_5f611_row23_col1, #T_5f611_row23_col2, #T_5f611_row23_col3, #T_5f611_row23_col4, #T_5f611_row23_col5, #T_5f611_row23_col6, #T_5f611_row23_col7, #T_5f611_row23_col8, #T_5f611_row23_col9, #T_5f611_row23_col10, #T_5f611_row23_col11, #T_5f611_row23_col12, #T_5f611_row24_col0, #T_5f611_row24_col1, #T_5f611_row24_col2, #T_5f611_row24_col3, #T_5f611_row24_col4, #T_5f611_row24_col5, #T_5f611_row24_col6, #T_5f611_row24_col7, #T_5f611_row24_col8, #T_5f611_row24_col9, #T_5f611_row24_col10, #T_5f611_row24_col11, #T_5f611_row24_col12, #T_5f611_row25_col0, #T_5f611_row25_col1, #T_5f611_row25_col2, #T_5f611_row25_col3, #T_5f611_row25_col4, #T_5f611_row25_col5, #T_5f611_row25_col6, #T_5f611_row25_col7, #T_5f611_row25_col8, #T_5f611_row25_col9, #T_5f611_row25_col10, #T_5f611_row25_col11, #T_5f611_row25_col12, #T_5f611_row26_col0, #T_5f611_row26_col1, #T_5f611_row26_col2, #T_5f611_row26_col3, #T_5f611_row26_col4, #T_5f611_row26_col5, #T_5f611_row26_col6, #T_5f611_row26_col7, #T_5f611_row26_col8, #T_5f611_row26_col9, #T_5f611_row26_col10, #T_5f611_row26_col11, #T_5f611_row26_col12, #T_5f611_row27_col0, #T_5f611_row27_col1, #T_5f611_row27_col2, #T_5f611_row27_col3, #T_5f611_row27_col4, #T_5f611_row27_col5, #T_5f611_row27_col6, #T_5f611_row27_col7, #T_5f611_row27_col8, #T_5f611_row27_col9, #T_5f611_row27_col10, #T_5f611_row27_col11, #T_5f611_row27_col12, #T_5f611_row28_col0, #T_5f611_row28_col1, #T_5f611_row28_col2, #T_5f611_row28_col3, #T_5f611_row28_col4, #T_5f611_row28_col5, #T_5f611_row28_col6, #T_5f611_row28_col7, #T_5f611_row28_col8, #T_5f611_row28_col9, #T_5f611_row28_col10, #T_5f611_row28_col11, #T_5f611_row28_col12, #T_5f611_row29_col0, #T_5f611_row29_col1, #T_5f611_row29_col2, #T_5f611_row29_col3, #T_5f611_row29_col4, #T_5f611_row29_col5, #T_5f611_row29_col6, #T_5f611_row29_col7, #T_5f611_row29_col8, #T_5f611_row29_col9, #T_5f611_row29_col10, #T_5f611_row29_col11, #T_5f611_row29_col12, #T_5f611_row30_col0, #T_5f611_row30_col1, #T_5f611_row30_col2, #T_5f611_row30_col3, #T_5f611_row30_col4, #T_5f611_row30_col5, #T_5f611_row30_col6, #T_5f611_row30_col7, #T_5f611_row30_col8, #T_5f611_row30_col9, #T_5f611_row30_col10, #T_5f611_row30_col11, #T_5f611_row30_col12, #T_5f611_row31_col0, #T_5f611_row31_col1, #T_5f611_row31_col2, #T_5f611_row31_col3, #T_5f611_row31_col4, #T_5f611_row31_col5, #T_5f611_row31_col6, #T_5f611_row31_col7, #T_5f611_row31_col8, #T_5f611_row31_col9, #T_5f611_row31_col10, #T_5f611_row31_col11, #T_5f611_row31_col12, #T_5f611_row32_col0, #T_5f611_row32_col1, #T_5f611_row32_col2, #T_5f611_row32_col3, #T_5f611_row32_col4, #T_5f611_row32_col5, #T_5f611_row32_col6, #T_5f611_row32_col7, #T_5f611_row32_col8, #T_5f611_row32_col9, #T_5f611_row32_col10, #T_5f611_row32_col11, #T_5f611_row32_col12 {\n",
       "  background-color: yellow;\n",
       "}\n",
       "#T_5f611_row33_col0, #T_5f611_row33_col1, #T_5f611_row33_col2, #T_5f611_row33_col3, #T_5f611_row33_col4, #T_5f611_row33_col5, #T_5f611_row33_col6, #T_5f611_row33_col7, #T_5f611_row33_col8, #T_5f611_row33_col9, #T_5f611_row33_col10, #T_5f611_row33_col11, #T_5f611_row33_col12, #T_5f611_row34_col0, #T_5f611_row34_col1, #T_5f611_row34_col2, #T_5f611_row34_col3, #T_5f611_row34_col4, #T_5f611_row34_col5, #T_5f611_row34_col6, #T_5f611_row34_col7, #T_5f611_row34_col8, #T_5f611_row34_col9, #T_5f611_row34_col10, #T_5f611_row34_col11, #T_5f611_row34_col12 {\n",
       "  background-color: green;\n",
       "}\n",
       "#T_5f611_row35_col0, #T_5f611_row35_col1, #T_5f611_row35_col2, #T_5f611_row35_col3, #T_5f611_row35_col4, #T_5f611_row35_col5, #T_5f611_row35_col6, #T_5f611_row35_col7, #T_5f611_row35_col8, #T_5f611_row35_col9, #T_5f611_row35_col10, #T_5f611_row35_col11, #T_5f611_row35_col12, #T_5f611_row36_col0, #T_5f611_row36_col1, #T_5f611_row36_col2, #T_5f611_row36_col3, #T_5f611_row36_col4, #T_5f611_row36_col5, #T_5f611_row36_col6, #T_5f611_row36_col7, #T_5f611_row36_col8, #T_5f611_row36_col9, #T_5f611_row36_col10, #T_5f611_row36_col11, #T_5f611_row36_col12, #T_5f611_row37_col0, #T_5f611_row37_col1, #T_5f611_row37_col2, #T_5f611_row37_col3, #T_5f611_row37_col4, #T_5f611_row37_col5, #T_5f611_row37_col6, #T_5f611_row37_col7, #T_5f611_row37_col8, #T_5f611_row37_col9, #T_5f611_row37_col10, #T_5f611_row37_col11, #T_5f611_row37_col12, #T_5f611_row38_col0, #T_5f611_row38_col1, #T_5f611_row38_col2, #T_5f611_row38_col3, #T_5f611_row38_col4, #T_5f611_row38_col5, #T_5f611_row38_col6, #T_5f611_row38_col7, #T_5f611_row38_col8, #T_5f611_row38_col9, #T_5f611_row38_col10, #T_5f611_row38_col11, #T_5f611_row38_col12, #T_5f611_row39_col0, #T_5f611_row39_col1, #T_5f611_row39_col2, #T_5f611_row39_col3, #T_5f611_row39_col4, #T_5f611_row39_col5, #T_5f611_row39_col6, #T_5f611_row39_col7, #T_5f611_row39_col8, #T_5f611_row39_col9, #T_5f611_row39_col10, #T_5f611_row39_col11, #T_5f611_row39_col12, #T_5f611_row40_col0, #T_5f611_row40_col1, #T_5f611_row40_col2, #T_5f611_row40_col3, #T_5f611_row40_col4, #T_5f611_row40_col5, #T_5f611_row40_col6, #T_5f611_row40_col7, #T_5f611_row40_col8, #T_5f611_row40_col9, #T_5f611_row40_col10, #T_5f611_row40_col11, #T_5f611_row40_col12, #T_5f611_row41_col0, #T_5f611_row41_col1, #T_5f611_row41_col2, #T_5f611_row41_col3, #T_5f611_row41_col4, #T_5f611_row41_col5, #T_5f611_row41_col6, #T_5f611_row41_col7, #T_5f611_row41_col8, #T_5f611_row41_col9, #T_5f611_row41_col10, #T_5f611_row41_col11, #T_5f611_row41_col12, #T_5f611_row42_col0, #T_5f611_row42_col1, #T_5f611_row42_col2, #T_5f611_row42_col3, #T_5f611_row42_col4, #T_5f611_row42_col5, #T_5f611_row42_col6, #T_5f611_row42_col7, #T_5f611_row42_col8, #T_5f611_row42_col9, #T_5f611_row42_col10, #T_5f611_row42_col11, #T_5f611_row42_col12, #T_5f611_row43_col0, #T_5f611_row43_col1, #T_5f611_row43_col2, #T_5f611_row43_col3, #T_5f611_row43_col4, #T_5f611_row43_col5, #T_5f611_row43_col6, #T_5f611_row43_col7, #T_5f611_row43_col8, #T_5f611_row43_col9, #T_5f611_row43_col10, #T_5f611_row43_col11, #T_5f611_row43_col12 {\n",
       "  background-color: red;\n",
       "}\n",
       "</style>\n",
       "<table id=\"T_5f611\">\n",
       "  <thead>\n",
       "    <tr>\n",
       "      <th class=\"blank level0\" >&nbsp;</th>\n",
       "      <th id=\"T_5f611_level0_col0\" class=\"col_heading level0 col0\" >sensitive_attribute</th>\n",
       "      <th id=\"T_5f611_level0_col1\" class=\"col_heading level0 col1\" >group</th>\n",
       "      <th id=\"T_5f611_level0_col2\" class=\"col_heading level0 col2\" >tp</th>\n",
       "      <th id=\"T_5f611_level0_col3\" class=\"col_heading level0 col3\" >tn</th>\n",
       "      <th id=\"T_5f611_level0_col4\" class=\"col_heading level0 col4\" >fp</th>\n",
       "      <th id=\"T_5f611_level0_col5\" class=\"col_heading level0 col5\" >fn</th>\n",
       "      <th id=\"T_5f611_level0_col6\" class=\"col_heading level0 col6\" >tpr</th>\n",
       "      <th id=\"T_5f611_level0_col7\" class=\"col_heading level0 col7\" >tnr</th>\n",
       "      <th id=\"T_5f611_level0_col8\" class=\"col_heading level0 col8\" >fpr</th>\n",
       "      <th id=\"T_5f611_level0_col9\" class=\"col_heading level0 col9\" >fnr</th>\n",
       "      <th id=\"T_5f611_level0_col10\" class=\"col_heading level0 col10\" >pr</th>\n",
       "      <th id=\"T_5f611_level0_col11\" class=\"col_heading level0 col11\" >nr</th>\n",
       "      <th id=\"T_5f611_level0_col12\" class=\"col_heading level0 col12\" >accuracy</th>\n",
       "    </tr>\n",
       "  </thead>\n",
       "  <tbody>\n",
       "    <tr>\n",
       "      <th id=\"T_5f611_level0_row0\" class=\"row_heading level0 row0\" >0</th>\n",
       "      <td id=\"T_5f611_row0_col0\" class=\"data row0 col0\" >ethnicity</td>\n",
       "      <td id=\"T_5f611_row0_col1\" class=\"data row0 col1\" >AMERICAN INDIAN/ALASKA NATIVE</td>\n",
       "      <td id=\"T_5f611_row0_col2\" class=\"data row0 col2\" >15</td>\n",
       "      <td id=\"T_5f611_row0_col3\" class=\"data row0 col3\" >6</td>\n",
       "      <td id=\"T_5f611_row0_col4\" class=\"data row0 col4\" >4</td>\n",
       "      <td id=\"T_5f611_row0_col5\" class=\"data row0 col5\" >4</td>\n",
       "      <td id=\"T_5f611_row0_col6\" class=\"data row0 col6\" >0.789474</td>\n",
       "      <td id=\"T_5f611_row0_col7\" class=\"data row0 col7\" >0.600000</td>\n",
       "      <td id=\"T_5f611_row0_col8\" class=\"data row0 col8\" >0.400000</td>\n",
       "      <td id=\"T_5f611_row0_col9\" class=\"data row0 col9\" >0.210526</td>\n",
       "      <td id=\"T_5f611_row0_col10\" class=\"data row0 col10\" >0.655172</td>\n",
       "      <td id=\"T_5f611_row0_col11\" class=\"data row0 col11\" >0.344828</td>\n",
       "      <td id=\"T_5f611_row0_col12\" class=\"data row0 col12\" >0.724138</td>\n",
       "    </tr>\n",
       "    <tr>\n",
       "      <th id=\"T_5f611_level0_row1\" class=\"row_heading level0 row1\" >1</th>\n",
       "      <td id=\"T_5f611_row1_col0\" class=\"data row1 col0\" >ethnicity</td>\n",
       "      <td id=\"T_5f611_row1_col1\" class=\"data row1 col1\" >ASIAN</td>\n",
       "      <td id=\"T_5f611_row1_col2\" class=\"data row1 col2\" >64</td>\n",
       "      <td id=\"T_5f611_row1_col3\" class=\"data row1 col3\" >61</td>\n",
       "      <td id=\"T_5f611_row1_col4\" class=\"data row1 col4\" >22</td>\n",
       "      <td id=\"T_5f611_row1_col5\" class=\"data row1 col5\" >25</td>\n",
       "      <td id=\"T_5f611_row1_col6\" class=\"data row1 col6\" >0.719101</td>\n",
       "      <td id=\"T_5f611_row1_col7\" class=\"data row1 col7\" >0.734940</td>\n",
       "      <td id=\"T_5f611_row1_col8\" class=\"data row1 col8\" >0.265060</td>\n",
       "      <td id=\"T_5f611_row1_col9\" class=\"data row1 col9\" >0.280899</td>\n",
       "      <td id=\"T_5f611_row1_col10\" class=\"data row1 col10\" >0.500000</td>\n",
       "      <td id=\"T_5f611_row1_col11\" class=\"data row1 col11\" >0.500000</td>\n",
       "      <td id=\"T_5f611_row1_col12\" class=\"data row1 col12\" >0.726744</td>\n",
       "    </tr>\n",
       "    <tr>\n",
       "      <th id=\"T_5f611_level0_row2\" class=\"row_heading level0 row2\" >2</th>\n",
       "      <td id=\"T_5f611_row2_col0\" class=\"data row2 col0\" >ethnicity</td>\n",
       "      <td id=\"T_5f611_row2_col1\" class=\"data row2 col1\" >ASIAN - ASIAN INDIAN</td>\n",
       "      <td id=\"T_5f611_row2_col2\" class=\"data row2 col2\" >11</td>\n",
       "      <td id=\"T_5f611_row2_col3\" class=\"data row2 col3\" >9</td>\n",
       "      <td id=\"T_5f611_row2_col4\" class=\"data row2 col4\" >4</td>\n",
       "      <td id=\"T_5f611_row2_col5\" class=\"data row2 col5\" >6</td>\n",
       "      <td id=\"T_5f611_row2_col6\" class=\"data row2 col6\" >0.647059</td>\n",
       "      <td id=\"T_5f611_row2_col7\" class=\"data row2 col7\" >0.692308</td>\n",
       "      <td id=\"T_5f611_row2_col8\" class=\"data row2 col8\" >0.307692</td>\n",
       "      <td id=\"T_5f611_row2_col9\" class=\"data row2 col9\" >0.352941</td>\n",
       "      <td id=\"T_5f611_row2_col10\" class=\"data row2 col10\" >0.500000</td>\n",
       "      <td id=\"T_5f611_row2_col11\" class=\"data row2 col11\" >0.500000</td>\n",
       "      <td id=\"T_5f611_row2_col12\" class=\"data row2 col12\" >0.666667</td>\n",
       "    </tr>\n",
       "    <tr>\n",
       "      <th id=\"T_5f611_level0_row3\" class=\"row_heading level0 row3\" >3</th>\n",
       "      <td id=\"T_5f611_row3_col0\" class=\"data row3 col0\" >ethnicity</td>\n",
       "      <td id=\"T_5f611_row3_col1\" class=\"data row3 col1\" >ASIAN - CHINESE</td>\n",
       "      <td id=\"T_5f611_row3_col2\" class=\"data row3 col2\" >51</td>\n",
       "      <td id=\"T_5f611_row3_col3\" class=\"data row3 col3\" >36</td>\n",
       "      <td id=\"T_5f611_row3_col4\" class=\"data row3 col4\" >27</td>\n",
       "      <td id=\"T_5f611_row3_col5\" class=\"data row3 col5\" >21</td>\n",
       "      <td id=\"T_5f611_row3_col6\" class=\"data row3 col6\" >0.708333</td>\n",
       "      <td id=\"T_5f611_row3_col7\" class=\"data row3 col7\" >0.571429</td>\n",
       "      <td id=\"T_5f611_row3_col8\" class=\"data row3 col8\" >0.428571</td>\n",
       "      <td id=\"T_5f611_row3_col9\" class=\"data row3 col9\" >0.291667</td>\n",
       "      <td id=\"T_5f611_row3_col10\" class=\"data row3 col10\" >0.577778</td>\n",
       "      <td id=\"T_5f611_row3_col11\" class=\"data row3 col11\" >0.422222</td>\n",
       "      <td id=\"T_5f611_row3_col12\" class=\"data row3 col12\" >0.644444</td>\n",
       "    </tr>\n",
       "    <tr>\n",
       "      <th id=\"T_5f611_level0_row4\" class=\"row_heading level0 row4\" >4</th>\n",
       "      <td id=\"T_5f611_row4_col0\" class=\"data row4 col0\" >ethnicity</td>\n",
       "      <td id=\"T_5f611_row4_col1\" class=\"data row4 col1\" >ASIAN - KOREAN</td>\n",
       "      <td id=\"T_5f611_row4_col2\" class=\"data row4 col2\" >6</td>\n",
       "      <td id=\"T_5f611_row4_col3\" class=\"data row4 col3\" >6</td>\n",
       "      <td id=\"T_5f611_row4_col4\" class=\"data row4 col4\" >2</td>\n",
       "      <td id=\"T_5f611_row4_col5\" class=\"data row4 col5\" >0</td>\n",
       "      <td id=\"T_5f611_row4_col6\" class=\"data row4 col6\" >1.000000</td>\n",
       "      <td id=\"T_5f611_row4_col7\" class=\"data row4 col7\" >0.750000</td>\n",
       "      <td id=\"T_5f611_row4_col8\" class=\"data row4 col8\" >0.250000</td>\n",
       "      <td id=\"T_5f611_row4_col9\" class=\"data row4 col9\" >0.000000</td>\n",
       "      <td id=\"T_5f611_row4_col10\" class=\"data row4 col10\" >0.571429</td>\n",
       "      <td id=\"T_5f611_row4_col11\" class=\"data row4 col11\" >0.428571</td>\n",
       "      <td id=\"T_5f611_row4_col12\" class=\"data row4 col12\" >0.857143</td>\n",
       "    </tr>\n",
       "    <tr>\n",
       "      <th id=\"T_5f611_level0_row5\" class=\"row_heading level0 row5\" >5</th>\n",
       "      <td id=\"T_5f611_row5_col0\" class=\"data row5 col0\" >ethnicity</td>\n",
       "      <td id=\"T_5f611_row5_col1\" class=\"data row5 col1\" >ASIAN - SOUTH EAST ASIAN</td>\n",
       "      <td id=\"T_5f611_row5_col2\" class=\"data row5 col2\" >10</td>\n",
       "      <td id=\"T_5f611_row5_col3\" class=\"data row5 col3\" >26</td>\n",
       "      <td id=\"T_5f611_row5_col4\" class=\"data row5 col4\" >3</td>\n",
       "      <td id=\"T_5f611_row5_col5\" class=\"data row5 col5\" >6</td>\n",
       "      <td id=\"T_5f611_row5_col6\" class=\"data row5 col6\" >0.625000</td>\n",
       "      <td id=\"T_5f611_row5_col7\" class=\"data row5 col7\" >0.896552</td>\n",
       "      <td id=\"T_5f611_row5_col8\" class=\"data row5 col8\" >0.103448</td>\n",
       "      <td id=\"T_5f611_row5_col9\" class=\"data row5 col9\" >0.375000</td>\n",
       "      <td id=\"T_5f611_row5_col10\" class=\"data row5 col10\" >0.288889</td>\n",
       "      <td id=\"T_5f611_row5_col11\" class=\"data row5 col11\" >0.711111</td>\n",
       "      <td id=\"T_5f611_row5_col12\" class=\"data row5 col12\" >0.800000</td>\n",
       "    </tr>\n",
       "    <tr>\n",
       "      <th id=\"T_5f611_level0_row6\" class=\"row_heading level0 row6\" >6</th>\n",
       "      <td id=\"T_5f611_row6_col0\" class=\"data row6 col0\" >ethnicity</td>\n",
       "      <td id=\"T_5f611_row6_col1\" class=\"data row6 col1\" >BLACK/AFRICAN</td>\n",
       "      <td id=\"T_5f611_row6_col2\" class=\"data row6 col2\" >27</td>\n",
       "      <td id=\"T_5f611_row6_col3\" class=\"data row6 col3\" >21</td>\n",
       "      <td id=\"T_5f611_row6_col4\" class=\"data row6 col4\" >10</td>\n",
       "      <td id=\"T_5f611_row6_col5\" class=\"data row6 col5\" >11</td>\n",
       "      <td id=\"T_5f611_row6_col6\" class=\"data row6 col6\" >0.710526</td>\n",
       "      <td id=\"T_5f611_row6_col7\" class=\"data row6 col7\" >0.677419</td>\n",
       "      <td id=\"T_5f611_row6_col8\" class=\"data row6 col8\" >0.322581</td>\n",
       "      <td id=\"T_5f611_row6_col9\" class=\"data row6 col9\" >0.289474</td>\n",
       "      <td id=\"T_5f611_row6_col10\" class=\"data row6 col10\" >0.536232</td>\n",
       "      <td id=\"T_5f611_row6_col11\" class=\"data row6 col11\" >0.463768</td>\n",
       "      <td id=\"T_5f611_row6_col12\" class=\"data row6 col12\" >0.695652</td>\n",
       "    </tr>\n",
       "    <tr>\n",
       "      <th id=\"T_5f611_level0_row7\" class=\"row_heading level0 row7\" >7</th>\n",
       "      <td id=\"T_5f611_row7_col0\" class=\"data row7 col0\" >ethnicity</td>\n",
       "      <td id=\"T_5f611_row7_col1\" class=\"data row7 col1\" >BLACK/AFRICAN AMERICAN</td>\n",
       "      <td id=\"T_5f611_row7_col2\" class=\"data row7 col2\" >400</td>\n",
       "      <td id=\"T_5f611_row7_col3\" class=\"data row7 col3\" >434</td>\n",
       "      <td id=\"T_5f611_row7_col4\" class=\"data row7 col4\" >178</td>\n",
       "      <td id=\"T_5f611_row7_col5\" class=\"data row7 col5\" >198</td>\n",
       "      <td id=\"T_5f611_row7_col6\" class=\"data row7 col6\" >0.668896</td>\n",
       "      <td id=\"T_5f611_row7_col7\" class=\"data row7 col7\" >0.709150</td>\n",
       "      <td id=\"T_5f611_row7_col8\" class=\"data row7 col8\" >0.290850</td>\n",
       "      <td id=\"T_5f611_row7_col9\" class=\"data row7 col9\" >0.331104</td>\n",
       "      <td id=\"T_5f611_row7_col10\" class=\"data row7 col10\" >0.477686</td>\n",
       "      <td id=\"T_5f611_row7_col11\" class=\"data row7 col11\" >0.522314</td>\n",
       "      <td id=\"T_5f611_row7_col12\" class=\"data row7 col12\" >0.689256</td>\n",
       "    </tr>\n",
       "    <tr>\n",
       "      <th id=\"T_5f611_level0_row8\" class=\"row_heading level0 row8\" >8</th>\n",
       "      <td id=\"T_5f611_row8_col0\" class=\"data row8 col0\" >ethnicity</td>\n",
       "      <td id=\"T_5f611_row8_col1\" class=\"data row8 col1\" >BLACK/CAPE VERDEAN</td>\n",
       "      <td id=\"T_5f611_row8_col2\" class=\"data row8 col2\" >28</td>\n",
       "      <td id=\"T_5f611_row8_col3\" class=\"data row8 col3\" >21</td>\n",
       "      <td id=\"T_5f611_row8_col4\" class=\"data row8 col4\" >22</td>\n",
       "      <td id=\"T_5f611_row8_col5\" class=\"data row8 col5\" >14</td>\n",
       "      <td id=\"T_5f611_row8_col6\" class=\"data row8 col6\" >0.666667</td>\n",
       "      <td id=\"T_5f611_row8_col7\" class=\"data row8 col7\" >0.488372</td>\n",
       "      <td id=\"T_5f611_row8_col8\" class=\"data row8 col8\" >0.511628</td>\n",
       "      <td id=\"T_5f611_row8_col9\" class=\"data row8 col9\" >0.333333</td>\n",
       "      <td id=\"T_5f611_row8_col10\" class=\"data row8 col10\" >0.588235</td>\n",
       "      <td id=\"T_5f611_row8_col11\" class=\"data row8 col11\" >0.411765</td>\n",
       "      <td id=\"T_5f611_row8_col12\" class=\"data row8 col12\" >0.576471</td>\n",
       "    </tr>\n",
       "    <tr>\n",
       "      <th id=\"T_5f611_level0_row9\" class=\"row_heading level0 row9\" >9</th>\n",
       "      <td id=\"T_5f611_row9_col0\" class=\"data row9 col0\" >ethnicity</td>\n",
       "      <td id=\"T_5f611_row9_col1\" class=\"data row9 col1\" >BLACK/CARIBBEAN ISLAND</td>\n",
       "      <td id=\"T_5f611_row9_col2\" class=\"data row9 col2\" >34</td>\n",
       "      <td id=\"T_5f611_row9_col3\" class=\"data row9 col3\" >29</td>\n",
       "      <td id=\"T_5f611_row9_col4\" class=\"data row9 col4\" >11</td>\n",
       "      <td id=\"T_5f611_row9_col5\" class=\"data row9 col5\" >6</td>\n",
       "      <td id=\"T_5f611_row9_col6\" class=\"data row9 col6\" >0.850000</td>\n",
       "      <td id=\"T_5f611_row9_col7\" class=\"data row9 col7\" >0.725000</td>\n",
       "      <td id=\"T_5f611_row9_col8\" class=\"data row9 col8\" >0.275000</td>\n",
       "      <td id=\"T_5f611_row9_col9\" class=\"data row9 col9\" >0.150000</td>\n",
       "      <td id=\"T_5f611_row9_col10\" class=\"data row9 col10\" >0.562500</td>\n",
       "      <td id=\"T_5f611_row9_col11\" class=\"data row9 col11\" >0.437500</td>\n",
       "      <td id=\"T_5f611_row9_col12\" class=\"data row9 col12\" >0.787500</td>\n",
       "    </tr>\n",
       "    <tr>\n",
       "      <th id=\"T_5f611_level0_row10\" class=\"row_heading level0 row10\" >10</th>\n",
       "      <td id=\"T_5f611_row10_col0\" class=\"data row10 col0\" >ethnicity</td>\n",
       "      <td id=\"T_5f611_row10_col1\" class=\"data row10 col1\" >HISPANIC OR LATINO</td>\n",
       "      <td id=\"T_5f611_row10_col2\" class=\"data row10 col2\" >47</td>\n",
       "      <td id=\"T_5f611_row10_col3\" class=\"data row10 col3\" >56</td>\n",
       "      <td id=\"T_5f611_row10_col4\" class=\"data row10 col4\" >10</td>\n",
       "      <td id=\"T_5f611_row10_col5\" class=\"data row10 col5\" >9</td>\n",
       "      <td id=\"T_5f611_row10_col6\" class=\"data row10 col6\" >0.839286</td>\n",
       "      <td id=\"T_5f611_row10_col7\" class=\"data row10 col7\" >0.848485</td>\n",
       "      <td id=\"T_5f611_row10_col8\" class=\"data row10 col8\" >0.151515</td>\n",
       "      <td id=\"T_5f611_row10_col9\" class=\"data row10 col9\" >0.160714</td>\n",
       "      <td id=\"T_5f611_row10_col10\" class=\"data row10 col10\" >0.467213</td>\n",
       "      <td id=\"T_5f611_row10_col11\" class=\"data row10 col11\" >0.532787</td>\n",
       "      <td id=\"T_5f611_row10_col12\" class=\"data row10 col12\" >0.844262</td>\n",
       "    </tr>\n",
       "    <tr>\n",
       "      <th id=\"T_5f611_level0_row11\" class=\"row_heading level0 row11\" >11</th>\n",
       "      <td id=\"T_5f611_row11_col0\" class=\"data row11 col0\" >ethnicity</td>\n",
       "      <td id=\"T_5f611_row11_col1\" class=\"data row11 col1\" >HISPANIC/LATINO - CENTRAL AMERICAN</td>\n",
       "      <td id=\"T_5f611_row11_col2\" class=\"data row11 col2\" >2</td>\n",
       "      <td id=\"T_5f611_row11_col3\" class=\"data row11 col3\" >2</td>\n",
       "      <td id=\"T_5f611_row11_col4\" class=\"data row11 col4\" >3</td>\n",
       "      <td id=\"T_5f611_row11_col5\" class=\"data row11 col5\" >1</td>\n",
       "      <td id=\"T_5f611_row11_col6\" class=\"data row11 col6\" >0.666667</td>\n",
       "      <td id=\"T_5f611_row11_col7\" class=\"data row11 col7\" >0.400000</td>\n",
       "      <td id=\"T_5f611_row11_col8\" class=\"data row11 col8\" >0.600000</td>\n",
       "      <td id=\"T_5f611_row11_col9\" class=\"data row11 col9\" >0.333333</td>\n",
       "      <td id=\"T_5f611_row11_col10\" class=\"data row11 col10\" >0.625000</td>\n",
       "      <td id=\"T_5f611_row11_col11\" class=\"data row11 col11\" >0.375000</td>\n",
       "      <td id=\"T_5f611_row11_col12\" class=\"data row11 col12\" >0.500000</td>\n",
       "    </tr>\n",
       "    <tr>\n",
       "      <th id=\"T_5f611_level0_row12\" class=\"row_heading level0 row12\" >12</th>\n",
       "      <td id=\"T_5f611_row12_col0\" class=\"data row12 col0\" >ethnicity</td>\n",
       "      <td id=\"T_5f611_row12_col1\" class=\"data row12 col1\" >HISPANIC/LATINO - COLUMBIAN</td>\n",
       "      <td id=\"T_5f611_row12_col2\" class=\"data row12 col2\" >2</td>\n",
       "      <td id=\"T_5f611_row12_col3\" class=\"data row12 col3\" >3</td>\n",
       "      <td id=\"T_5f611_row12_col4\" class=\"data row12 col4\" >4</td>\n",
       "      <td id=\"T_5f611_row12_col5\" class=\"data row12 col5\" >1</td>\n",
       "      <td id=\"T_5f611_row12_col6\" class=\"data row12 col6\" >0.666667</td>\n",
       "      <td id=\"T_5f611_row12_col7\" class=\"data row12 col7\" >0.428571</td>\n",
       "      <td id=\"T_5f611_row12_col8\" class=\"data row12 col8\" >0.571429</td>\n",
       "      <td id=\"T_5f611_row12_col9\" class=\"data row12 col9\" >0.333333</td>\n",
       "      <td id=\"T_5f611_row12_col10\" class=\"data row12 col10\" >0.600000</td>\n",
       "      <td id=\"T_5f611_row12_col11\" class=\"data row12 col11\" >0.400000</td>\n",
       "      <td id=\"T_5f611_row12_col12\" class=\"data row12 col12\" >0.500000</td>\n",
       "    </tr>\n",
       "    <tr>\n",
       "      <th id=\"T_5f611_level0_row13\" class=\"row_heading level0 row13\" >13</th>\n",
       "      <td id=\"T_5f611_row13_col0\" class=\"data row13 col0\" >ethnicity</td>\n",
       "      <td id=\"T_5f611_row13_col1\" class=\"data row13 col1\" >HISPANIC/LATINO - CUBAN</td>\n",
       "      <td id=\"T_5f611_row13_col2\" class=\"data row13 col2\" >4</td>\n",
       "      <td id=\"T_5f611_row13_col3\" class=\"data row13 col3\" >5</td>\n",
       "      <td id=\"T_5f611_row13_col4\" class=\"data row13 col4\" >3</td>\n",
       "      <td id=\"T_5f611_row13_col5\" class=\"data row13 col5\" >0</td>\n",
       "      <td id=\"T_5f611_row13_col6\" class=\"data row13 col6\" >1.000000</td>\n",
       "      <td id=\"T_5f611_row13_col7\" class=\"data row13 col7\" >0.625000</td>\n",
       "      <td id=\"T_5f611_row13_col8\" class=\"data row13 col8\" >0.375000</td>\n",
       "      <td id=\"T_5f611_row13_col9\" class=\"data row13 col9\" >0.000000</td>\n",
       "      <td id=\"T_5f611_row13_col10\" class=\"data row13 col10\" >0.583333</td>\n",
       "      <td id=\"T_5f611_row13_col11\" class=\"data row13 col11\" >0.416667</td>\n",
       "      <td id=\"T_5f611_row13_col12\" class=\"data row13 col12\" >0.750000</td>\n",
       "    </tr>\n",
       "    <tr>\n",
       "      <th id=\"T_5f611_level0_row14\" class=\"row_heading level0 row14\" >14</th>\n",
       "      <td id=\"T_5f611_row14_col0\" class=\"data row14 col0\" >ethnicity</td>\n",
       "      <td id=\"T_5f611_row14_col1\" class=\"data row14 col1\" >HISPANIC/LATINO - DOMINICAN</td>\n",
       "      <td id=\"T_5f611_row14_col2\" class=\"data row14 col2\" >45</td>\n",
       "      <td id=\"T_5f611_row14_col3\" class=\"data row14 col3\" >30</td>\n",
       "      <td id=\"T_5f611_row14_col4\" class=\"data row14 col4\" >24</td>\n",
       "      <td id=\"T_5f611_row14_col5\" class=\"data row14 col5\" >19</td>\n",
       "      <td id=\"T_5f611_row14_col6\" class=\"data row14 col6\" >0.703125</td>\n",
       "      <td id=\"T_5f611_row14_col7\" class=\"data row14 col7\" >0.555556</td>\n",
       "      <td id=\"T_5f611_row14_col8\" class=\"data row14 col8\" >0.444444</td>\n",
       "      <td id=\"T_5f611_row14_col9\" class=\"data row14 col9\" >0.296875</td>\n",
       "      <td id=\"T_5f611_row14_col10\" class=\"data row14 col10\" >0.584746</td>\n",
       "      <td id=\"T_5f611_row14_col11\" class=\"data row14 col11\" >0.415254</td>\n",
       "      <td id=\"T_5f611_row14_col12\" class=\"data row14 col12\" >0.635593</td>\n",
       "    </tr>\n",
       "    <tr>\n",
       "      <th id=\"T_5f611_level0_row15\" class=\"row_heading level0 row15\" >15</th>\n",
       "      <td id=\"T_5f611_row15_col0\" class=\"data row15 col0\" >ethnicity</td>\n",
       "      <td id=\"T_5f611_row15_col1\" class=\"data row15 col1\" >HISPANIC/LATINO - GUATEMALAN</td>\n",
       "      <td id=\"T_5f611_row15_col2\" class=\"data row15 col2\" >6</td>\n",
       "      <td id=\"T_5f611_row15_col3\" class=\"data row15 col3\" >16</td>\n",
       "      <td id=\"T_5f611_row15_col4\" class=\"data row15 col4\" >8</td>\n",
       "      <td id=\"T_5f611_row15_col5\" class=\"data row15 col5\" >4</td>\n",
       "      <td id=\"T_5f611_row15_col6\" class=\"data row15 col6\" >0.600000</td>\n",
       "      <td id=\"T_5f611_row15_col7\" class=\"data row15 col7\" >0.666667</td>\n",
       "      <td id=\"T_5f611_row15_col8\" class=\"data row15 col8\" >0.333333</td>\n",
       "      <td id=\"T_5f611_row15_col9\" class=\"data row15 col9\" >0.400000</td>\n",
       "      <td id=\"T_5f611_row15_col10\" class=\"data row15 col10\" >0.411765</td>\n",
       "      <td id=\"T_5f611_row15_col11\" class=\"data row15 col11\" >0.588235</td>\n",
       "      <td id=\"T_5f611_row15_col12\" class=\"data row15 col12\" >0.647059</td>\n",
       "    </tr>\n",
       "    <tr>\n",
       "      <th id=\"T_5f611_level0_row16\" class=\"row_heading level0 row16\" >16</th>\n",
       "      <td id=\"T_5f611_row16_col0\" class=\"data row16 col0\" >ethnicity</td>\n",
       "      <td id=\"T_5f611_row16_col1\" class=\"data row16 col1\" >HISPANIC/LATINO - HONDURAN</td>\n",
       "      <td id=\"T_5f611_row16_col2\" class=\"data row16 col2\" >3</td>\n",
       "      <td id=\"T_5f611_row16_col3\" class=\"data row16 col3\" >6</td>\n",
       "      <td id=\"T_5f611_row16_col4\" class=\"data row16 col4\" >3</td>\n",
       "      <td id=\"T_5f611_row16_col5\" class=\"data row16 col5\" >1</td>\n",
       "      <td id=\"T_5f611_row16_col6\" class=\"data row16 col6\" >0.750000</td>\n",
       "      <td id=\"T_5f611_row16_col7\" class=\"data row16 col7\" >0.666667</td>\n",
       "      <td id=\"T_5f611_row16_col8\" class=\"data row16 col8\" >0.333333</td>\n",
       "      <td id=\"T_5f611_row16_col9\" class=\"data row16 col9\" >0.250000</td>\n",
       "      <td id=\"T_5f611_row16_col10\" class=\"data row16 col10\" >0.461538</td>\n",
       "      <td id=\"T_5f611_row16_col11\" class=\"data row16 col11\" >0.538462</td>\n",
       "      <td id=\"T_5f611_row16_col12\" class=\"data row16 col12\" >0.692308</td>\n",
       "    </tr>\n",
       "    <tr>\n",
       "      <th id=\"T_5f611_level0_row17\" class=\"row_heading level0 row17\" >17</th>\n",
       "      <td id=\"T_5f611_row17_col0\" class=\"data row17 col0\" >ethnicity</td>\n",
       "      <td id=\"T_5f611_row17_col1\" class=\"data row17 col1\" >HISPANIC/LATINO - MEXICAN</td>\n",
       "      <td id=\"T_5f611_row17_col2\" class=\"data row17 col2\" >2</td>\n",
       "      <td id=\"T_5f611_row17_col3\" class=\"data row17 col3\" >3</td>\n",
       "      <td id=\"T_5f611_row17_col4\" class=\"data row17 col4\" >1</td>\n",
       "      <td id=\"T_5f611_row17_col5\" class=\"data row17 col5\" >3</td>\n",
       "      <td id=\"T_5f611_row17_col6\" class=\"data row17 col6\" >0.400000</td>\n",
       "      <td id=\"T_5f611_row17_col7\" class=\"data row17 col7\" >0.750000</td>\n",
       "      <td id=\"T_5f611_row17_col8\" class=\"data row17 col8\" >0.250000</td>\n",
       "      <td id=\"T_5f611_row17_col9\" class=\"data row17 col9\" >0.600000</td>\n",
       "      <td id=\"T_5f611_row17_col10\" class=\"data row17 col10\" >0.333333</td>\n",
       "      <td id=\"T_5f611_row17_col11\" class=\"data row17 col11\" >0.666667</td>\n",
       "      <td id=\"T_5f611_row17_col12\" class=\"data row17 col12\" >0.555556</td>\n",
       "    </tr>\n",
       "    <tr>\n",
       "      <th id=\"T_5f611_level0_row18\" class=\"row_heading level0 row18\" >18</th>\n",
       "      <td id=\"T_5f611_row18_col0\" class=\"data row18 col0\" >ethnicity</td>\n",
       "      <td id=\"T_5f611_row18_col1\" class=\"data row18 col1\" >HISPANIC/LATINO - PUERTO RICAN</td>\n",
       "      <td id=\"T_5f611_row18_col2\" class=\"data row18 col2\" >60</td>\n",
       "      <td id=\"T_5f611_row18_col3\" class=\"data row18 col3\" >56</td>\n",
       "      <td id=\"T_5f611_row18_col4\" class=\"data row18 col4\" >16</td>\n",
       "      <td id=\"T_5f611_row18_col5\" class=\"data row18 col5\" >31</td>\n",
       "      <td id=\"T_5f611_row18_col6\" class=\"data row18 col6\" >0.659341</td>\n",
       "      <td id=\"T_5f611_row18_col7\" class=\"data row18 col7\" >0.777778</td>\n",
       "      <td id=\"T_5f611_row18_col8\" class=\"data row18 col8\" >0.222222</td>\n",
       "      <td id=\"T_5f611_row18_col9\" class=\"data row18 col9\" >0.340659</td>\n",
       "      <td id=\"T_5f611_row18_col10\" class=\"data row18 col10\" >0.466258</td>\n",
       "      <td id=\"T_5f611_row18_col11\" class=\"data row18 col11\" >0.533742</td>\n",
       "      <td id=\"T_5f611_row18_col12\" class=\"data row18 col12\" >0.711656</td>\n",
       "    </tr>\n",
       "    <tr>\n",
       "      <th id=\"T_5f611_level0_row19\" class=\"row_heading level0 row19\" >19</th>\n",
       "      <td id=\"T_5f611_row19_col0\" class=\"data row19 col0\" >ethnicity</td>\n",
       "      <td id=\"T_5f611_row19_col1\" class=\"data row19 col1\" >HISPANIC/LATINO - SALVADORAN</td>\n",
       "      <td id=\"T_5f611_row19_col2\" class=\"data row19 col2\" >8</td>\n",
       "      <td id=\"T_5f611_row19_col3\" class=\"data row19 col3\" >8</td>\n",
       "      <td id=\"T_5f611_row19_col4\" class=\"data row19 col4\" >4</td>\n",
       "      <td id=\"T_5f611_row19_col5\" class=\"data row19 col5\" >5</td>\n",
       "      <td id=\"T_5f611_row19_col6\" class=\"data row19 col6\" >0.615385</td>\n",
       "      <td id=\"T_5f611_row19_col7\" class=\"data row19 col7\" >0.666667</td>\n",
       "      <td id=\"T_5f611_row19_col8\" class=\"data row19 col8\" >0.333333</td>\n",
       "      <td id=\"T_5f611_row19_col9\" class=\"data row19 col9\" >0.384615</td>\n",
       "      <td id=\"T_5f611_row19_col10\" class=\"data row19 col10\" >0.480000</td>\n",
       "      <td id=\"T_5f611_row19_col11\" class=\"data row19 col11\" >0.520000</td>\n",
       "      <td id=\"T_5f611_row19_col12\" class=\"data row19 col12\" >0.640000</td>\n",
       "    </tr>\n",
       "    <tr>\n",
       "      <th id=\"T_5f611_level0_row20\" class=\"row_heading level0 row20\" >20</th>\n",
       "      <td id=\"T_5f611_row20_col0\" class=\"data row20 col0\" >ethnicity</td>\n",
       "      <td id=\"T_5f611_row20_col1\" class=\"data row20 col1\" >MULTIPLE RACE/ETHNICITY</td>\n",
       "      <td id=\"T_5f611_row20_col2\" class=\"data row20 col2\" >4</td>\n",
       "      <td id=\"T_5f611_row20_col3\" class=\"data row20 col3\" >5</td>\n",
       "      <td id=\"T_5f611_row20_col4\" class=\"data row20 col4\" >1</td>\n",
       "      <td id=\"T_5f611_row20_col5\" class=\"data row20 col5\" >0</td>\n",
       "      <td id=\"T_5f611_row20_col6\" class=\"data row20 col6\" >1.000000</td>\n",
       "      <td id=\"T_5f611_row20_col7\" class=\"data row20 col7\" >0.833333</td>\n",
       "      <td id=\"T_5f611_row20_col8\" class=\"data row20 col8\" >0.166667</td>\n",
       "      <td id=\"T_5f611_row20_col9\" class=\"data row20 col9\" >0.000000</td>\n",
       "      <td id=\"T_5f611_row20_col10\" class=\"data row20 col10\" >0.500000</td>\n",
       "      <td id=\"T_5f611_row20_col11\" class=\"data row20 col11\" >0.500000</td>\n",
       "      <td id=\"T_5f611_row20_col12\" class=\"data row20 col12\" >0.900000</td>\n",
       "    </tr>\n",
       "    <tr>\n",
       "      <th id=\"T_5f611_level0_row21\" class=\"row_heading level0 row21\" >21</th>\n",
       "      <td id=\"T_5f611_row21_col0\" class=\"data row21 col0\" >ethnicity</td>\n",
       "      <td id=\"T_5f611_row21_col1\" class=\"data row21 col1\" >NATIVE HAWAIIAN OR OTHER PACIFIC ISLANDER</td>\n",
       "      <td id=\"T_5f611_row21_col2\" class=\"data row21 col2\" >11</td>\n",
       "      <td id=\"T_5f611_row21_col3\" class=\"data row21 col3\" >6</td>\n",
       "      <td id=\"T_5f611_row21_col4\" class=\"data row21 col4\" >1</td>\n",
       "      <td id=\"T_5f611_row21_col5\" class=\"data row21 col5\" >2</td>\n",
       "      <td id=\"T_5f611_row21_col6\" class=\"data row21 col6\" >0.846154</td>\n",
       "      <td id=\"T_5f611_row21_col7\" class=\"data row21 col7\" >0.857143</td>\n",
       "      <td id=\"T_5f611_row21_col8\" class=\"data row21 col8\" >0.142857</td>\n",
       "      <td id=\"T_5f611_row21_col9\" class=\"data row21 col9\" >0.153846</td>\n",
       "      <td id=\"T_5f611_row21_col10\" class=\"data row21 col10\" >0.600000</td>\n",
       "      <td id=\"T_5f611_row21_col11\" class=\"data row21 col11\" >0.400000</td>\n",
       "      <td id=\"T_5f611_row21_col12\" class=\"data row21 col12\" >0.850000</td>\n",
       "    </tr>\n",
       "    <tr>\n",
       "      <th id=\"T_5f611_level0_row22\" class=\"row_heading level0 row22\" >22</th>\n",
       "      <td id=\"T_5f611_row22_col0\" class=\"data row22 col0\" >ethnicity</td>\n",
       "      <td id=\"T_5f611_row22_col1\" class=\"data row22 col1\" >OTHER</td>\n",
       "      <td id=\"T_5f611_row22_col2\" class=\"data row22 col2\" >146</td>\n",
       "      <td id=\"T_5f611_row22_col3\" class=\"data row22 col3\" >189</td>\n",
       "      <td id=\"T_5f611_row22_col4\" class=\"data row22 col4\" >59</td>\n",
       "      <td id=\"T_5f611_row22_col5\" class=\"data row22 col5\" >63</td>\n",
       "      <td id=\"T_5f611_row22_col6\" class=\"data row22 col6\" >0.698565</td>\n",
       "      <td id=\"T_5f611_row22_col7\" class=\"data row22 col7\" >0.762097</td>\n",
       "      <td id=\"T_5f611_row22_col8\" class=\"data row22 col8\" >0.237903</td>\n",
       "      <td id=\"T_5f611_row22_col9\" class=\"data row22 col9\" >0.301435</td>\n",
       "      <td id=\"T_5f611_row22_col10\" class=\"data row22 col10\" >0.448578</td>\n",
       "      <td id=\"T_5f611_row22_col11\" class=\"data row22 col11\" >0.551422</td>\n",
       "      <td id=\"T_5f611_row22_col12\" class=\"data row22 col12\" >0.733042</td>\n",
       "    </tr>\n",
       "    <tr>\n",
       "      <th id=\"T_5f611_level0_row23\" class=\"row_heading level0 row23\" >23</th>\n",
       "      <td id=\"T_5f611_row23_col0\" class=\"data row23 col0\" >ethnicity</td>\n",
       "      <td id=\"T_5f611_row23_col1\" class=\"data row23 col1\" >PATIENT DECLINED TO ANSWER</td>\n",
       "      <td id=\"T_5f611_row23_col2\" class=\"data row23 col2\" >20</td>\n",
       "      <td id=\"T_5f611_row23_col3\" class=\"data row23 col3\" >38</td>\n",
       "      <td id=\"T_5f611_row23_col4\" class=\"data row23 col4\" >10</td>\n",
       "      <td id=\"T_5f611_row23_col5\" class=\"data row23 col5\" >13</td>\n",
       "      <td id=\"T_5f611_row23_col6\" class=\"data row23 col6\" >0.606061</td>\n",
       "      <td id=\"T_5f611_row23_col7\" class=\"data row23 col7\" >0.791667</td>\n",
       "      <td id=\"T_5f611_row23_col8\" class=\"data row23 col8\" >0.208333</td>\n",
       "      <td id=\"T_5f611_row23_col9\" class=\"data row23 col9\" >0.393939</td>\n",
       "      <td id=\"T_5f611_row23_col10\" class=\"data row23 col10\" >0.370370</td>\n",
       "      <td id=\"T_5f611_row23_col11\" class=\"data row23 col11\" >0.629630</td>\n",
       "      <td id=\"T_5f611_row23_col12\" class=\"data row23 col12\" >0.716049</td>\n",
       "    </tr>\n",
       "    <tr>\n",
       "      <th id=\"T_5f611_level0_row24\" class=\"row_heading level0 row24\" >24</th>\n",
       "      <td id=\"T_5f611_row24_col0\" class=\"data row24 col0\" >ethnicity</td>\n",
       "      <td id=\"T_5f611_row24_col1\" class=\"data row24 col1\" >PORTUGUESE</td>\n",
       "      <td id=\"T_5f611_row24_col2\" class=\"data row24 col2\" >20</td>\n",
       "      <td id=\"T_5f611_row24_col3\" class=\"data row24 col3\" >28</td>\n",
       "      <td id=\"T_5f611_row24_col4\" class=\"data row24 col4\" >3</td>\n",
       "      <td id=\"T_5f611_row24_col5\" class=\"data row24 col5\" >4</td>\n",
       "      <td id=\"T_5f611_row24_col6\" class=\"data row24 col6\" >0.833333</td>\n",
       "      <td id=\"T_5f611_row24_col7\" class=\"data row24 col7\" >0.903226</td>\n",
       "      <td id=\"T_5f611_row24_col8\" class=\"data row24 col8\" >0.096774</td>\n",
       "      <td id=\"T_5f611_row24_col9\" class=\"data row24 col9\" >0.166667</td>\n",
       "      <td id=\"T_5f611_row24_col10\" class=\"data row24 col10\" >0.418182</td>\n",
       "      <td id=\"T_5f611_row24_col11\" class=\"data row24 col11\" >0.581818</td>\n",
       "      <td id=\"T_5f611_row24_col12\" class=\"data row24 col12\" >0.872727</td>\n",
       "    </tr>\n",
       "    <tr>\n",
       "      <th id=\"T_5f611_level0_row25\" class=\"row_heading level0 row25\" >25</th>\n",
       "      <td id=\"T_5f611_row25_col0\" class=\"data row25 col0\" >ethnicity</td>\n",
       "      <td id=\"T_5f611_row25_col1\" class=\"data row25 col1\" >SOUTH AMERICAN</td>\n",
       "      <td id=\"T_5f611_row25_col2\" class=\"data row25 col2\" >8</td>\n",
       "      <td id=\"T_5f611_row25_col3\" class=\"data row25 col3\" >1</td>\n",
       "      <td id=\"T_5f611_row25_col4\" class=\"data row25 col4\" >3</td>\n",
       "      <td id=\"T_5f611_row25_col5\" class=\"data row25 col5\" >2</td>\n",
       "      <td id=\"T_5f611_row25_col6\" class=\"data row25 col6\" >0.800000</td>\n",
       "      <td id=\"T_5f611_row25_col7\" class=\"data row25 col7\" >0.250000</td>\n",
       "      <td id=\"T_5f611_row25_col8\" class=\"data row25 col8\" >0.750000</td>\n",
       "      <td id=\"T_5f611_row25_col9\" class=\"data row25 col9\" >0.200000</td>\n",
       "      <td id=\"T_5f611_row25_col10\" class=\"data row25 col10\" >0.785714</td>\n",
       "      <td id=\"T_5f611_row25_col11\" class=\"data row25 col11\" >0.214286</td>\n",
       "      <td id=\"T_5f611_row25_col12\" class=\"data row25 col12\" >0.642857</td>\n",
       "    </tr>\n",
       "    <tr>\n",
       "      <th id=\"T_5f611_level0_row26\" class=\"row_heading level0 row26\" >26</th>\n",
       "      <td id=\"T_5f611_row26_col0\" class=\"data row26 col0\" >ethnicity</td>\n",
       "      <td id=\"T_5f611_row26_col1\" class=\"data row26 col1\" >UNABLE TO OBTAIN</td>\n",
       "      <td id=\"T_5f611_row26_col2\" class=\"data row26 col2\" >69</td>\n",
       "      <td id=\"T_5f611_row26_col3\" class=\"data row26 col3\" >48</td>\n",
       "      <td id=\"T_5f611_row26_col4\" class=\"data row26 col4\" >31</td>\n",
       "      <td id=\"T_5f611_row26_col5\" class=\"data row26 col5\" >18</td>\n",
       "      <td id=\"T_5f611_row26_col6\" class=\"data row26 col6\" >0.793103</td>\n",
       "      <td id=\"T_5f611_row26_col7\" class=\"data row26 col7\" >0.607595</td>\n",
       "      <td id=\"T_5f611_row26_col8\" class=\"data row26 col8\" >0.392405</td>\n",
       "      <td id=\"T_5f611_row26_col9\" class=\"data row26 col9\" >0.206897</td>\n",
       "      <td id=\"T_5f611_row26_col10\" class=\"data row26 col10\" >0.602410</td>\n",
       "      <td id=\"T_5f611_row26_col11\" class=\"data row26 col11\" >0.397590</td>\n",
       "      <td id=\"T_5f611_row26_col12\" class=\"data row26 col12\" >0.704819</td>\n",
       "    </tr>\n",
       "    <tr>\n",
       "      <th id=\"T_5f611_level0_row27\" class=\"row_heading level0 row27\" >27</th>\n",
       "      <td id=\"T_5f611_row27_col0\" class=\"data row27 col0\" >ethnicity</td>\n",
       "      <td id=\"T_5f611_row27_col1\" class=\"data row27 col1\" >UNKNOWN</td>\n",
       "      <td id=\"T_5f611_row27_col2\" class=\"data row27 col2\" >599</td>\n",
       "      <td id=\"T_5f611_row27_col3\" class=\"data row27 col3\" >334</td>\n",
       "      <td id=\"T_5f611_row27_col4\" class=\"data row27 col4\" >199</td>\n",
       "      <td id=\"T_5f611_row27_col5\" class=\"data row27 col5\" >124</td>\n",
       "      <td id=\"T_5f611_row27_col6\" class=\"data row27 col6\" >0.828492</td>\n",
       "      <td id=\"T_5f611_row27_col7\" class=\"data row27 col7\" >0.626642</td>\n",
       "      <td id=\"T_5f611_row27_col8\" class=\"data row27 col8\" >0.373358</td>\n",
       "      <td id=\"T_5f611_row27_col9\" class=\"data row27 col9\" >0.171508</td>\n",
       "      <td id=\"T_5f611_row27_col10\" class=\"data row27 col10\" >0.635350</td>\n",
       "      <td id=\"T_5f611_row27_col11\" class=\"data row27 col11\" >0.364650</td>\n",
       "      <td id=\"T_5f611_row27_col12\" class=\"data row27 col12\" >0.742834</td>\n",
       "    </tr>\n",
       "    <tr>\n",
       "      <th id=\"T_5f611_level0_row28\" class=\"row_heading level0 row28\" >28</th>\n",
       "      <td id=\"T_5f611_row28_col0\" class=\"data row28 col0\" >ethnicity</td>\n",
       "      <td id=\"T_5f611_row28_col1\" class=\"data row28 col1\" >WHITE</td>\n",
       "      <td id=\"T_5f611_row28_col2\" class=\"data row28 col2\" >2942</td>\n",
       "      <td id=\"T_5f611_row28_col3\" class=\"data row28 col3\" >3225</td>\n",
       "      <td id=\"T_5f611_row28_col4\" class=\"data row28 col4\" >1161</td>\n",
       "      <td id=\"T_5f611_row28_col5\" class=\"data row28 col5\" >1391</td>\n",
       "      <td id=\"T_5f611_row28_col6\" class=\"data row28 col6\" >0.678975</td>\n",
       "      <td id=\"T_5f611_row28_col7\" class=\"data row28 col7\" >0.735294</td>\n",
       "      <td id=\"T_5f611_row28_col8\" class=\"data row28 col8\" >0.264706</td>\n",
       "      <td id=\"T_5f611_row28_col9\" class=\"data row28 col9\" >0.321025</td>\n",
       "      <td id=\"T_5f611_row28_col10\" class=\"data row28 col10\" >0.470581</td>\n",
       "      <td id=\"T_5f611_row28_col11\" class=\"data row28 col11\" >0.529419</td>\n",
       "      <td id=\"T_5f611_row28_col12\" class=\"data row28 col12\" >0.707306</td>\n",
       "    </tr>\n",
       "    <tr>\n",
       "      <th id=\"T_5f611_level0_row29\" class=\"row_heading level0 row29\" >29</th>\n",
       "      <td id=\"T_5f611_row29_col0\" class=\"data row29 col0\" >ethnicity</td>\n",
       "      <td id=\"T_5f611_row29_col1\" class=\"data row29 col1\" >WHITE - BRAZILIAN</td>\n",
       "      <td id=\"T_5f611_row29_col2\" class=\"data row29 col2\" >5</td>\n",
       "      <td id=\"T_5f611_row29_col3\" class=\"data row29 col3\" >9</td>\n",
       "      <td id=\"T_5f611_row29_col4\" class=\"data row29 col4\" >5</td>\n",
       "      <td id=\"T_5f611_row29_col5\" class=\"data row29 col5\" >4</td>\n",
       "      <td id=\"T_5f611_row29_col6\" class=\"data row29 col6\" >0.555556</td>\n",
       "      <td id=\"T_5f611_row29_col7\" class=\"data row29 col7\" >0.642857</td>\n",
       "      <td id=\"T_5f611_row29_col8\" class=\"data row29 col8\" >0.357143</td>\n",
       "      <td id=\"T_5f611_row29_col9\" class=\"data row29 col9\" >0.444444</td>\n",
       "      <td id=\"T_5f611_row29_col10\" class=\"data row29 col10\" >0.434783</td>\n",
       "      <td id=\"T_5f611_row29_col11\" class=\"data row29 col11\" >0.565217</td>\n",
       "      <td id=\"T_5f611_row29_col12\" class=\"data row29 col12\" >0.608696</td>\n",
       "    </tr>\n",
       "    <tr>\n",
       "      <th id=\"T_5f611_level0_row30\" class=\"row_heading level0 row30\" >30</th>\n",
       "      <td id=\"T_5f611_row30_col0\" class=\"data row30 col0\" >ethnicity</td>\n",
       "      <td id=\"T_5f611_row30_col1\" class=\"data row30 col1\" >WHITE - EASTERN EUROPEAN</td>\n",
       "      <td id=\"T_5f611_row30_col2\" class=\"data row30 col2\" >6</td>\n",
       "      <td id=\"T_5f611_row30_col3\" class=\"data row30 col3\" >17</td>\n",
       "      <td id=\"T_5f611_row30_col4\" class=\"data row30 col4\" >3</td>\n",
       "      <td id=\"T_5f611_row30_col5\" class=\"data row30 col5\" >7</td>\n",
       "      <td id=\"T_5f611_row30_col6\" class=\"data row30 col6\" >0.461538</td>\n",
       "      <td id=\"T_5f611_row30_col7\" class=\"data row30 col7\" >0.850000</td>\n",
       "      <td id=\"T_5f611_row30_col8\" class=\"data row30 col8\" >0.150000</td>\n",
       "      <td id=\"T_5f611_row30_col9\" class=\"data row30 col9\" >0.538462</td>\n",
       "      <td id=\"T_5f611_row30_col10\" class=\"data row30 col10\" >0.272727</td>\n",
       "      <td id=\"T_5f611_row30_col11\" class=\"data row30 col11\" >0.727273</td>\n",
       "      <td id=\"T_5f611_row30_col12\" class=\"data row30 col12\" >0.696970</td>\n",
       "    </tr>\n",
       "    <tr>\n",
       "      <th id=\"T_5f611_level0_row31\" class=\"row_heading level0 row31\" >31</th>\n",
       "      <td id=\"T_5f611_row31_col0\" class=\"data row31 col0\" >ethnicity</td>\n",
       "      <td id=\"T_5f611_row31_col1\" class=\"data row31 col1\" >WHITE - OTHER EUROPEAN</td>\n",
       "      <td id=\"T_5f611_row31_col2\" class=\"data row31 col2\" >79</td>\n",
       "      <td id=\"T_5f611_row31_col3\" class=\"data row31 col3\" >100</td>\n",
       "      <td id=\"T_5f611_row31_col4\" class=\"data row31 col4\" >24</td>\n",
       "      <td id=\"T_5f611_row31_col5\" class=\"data row31 col5\" >42</td>\n",
       "      <td id=\"T_5f611_row31_col6\" class=\"data row31 col6\" >0.652893</td>\n",
       "      <td id=\"T_5f611_row31_col7\" class=\"data row31 col7\" >0.806452</td>\n",
       "      <td id=\"T_5f611_row31_col8\" class=\"data row31 col8\" >0.193548</td>\n",
       "      <td id=\"T_5f611_row31_col9\" class=\"data row31 col9\" >0.347107</td>\n",
       "      <td id=\"T_5f611_row31_col10\" class=\"data row31 col10\" >0.420408</td>\n",
       "      <td id=\"T_5f611_row31_col11\" class=\"data row31 col11\" >0.579592</td>\n",
       "      <td id=\"T_5f611_row31_col12\" class=\"data row31 col12\" >0.730612</td>\n",
       "    </tr>\n",
       "    <tr>\n",
       "      <th id=\"T_5f611_level0_row32\" class=\"row_heading level0 row32\" >32</th>\n",
       "      <td id=\"T_5f611_row32_col0\" class=\"data row32 col0\" >ethnicity</td>\n",
       "      <td id=\"T_5f611_row32_col1\" class=\"data row32 col1\" >WHITE - RUSSIAN</td>\n",
       "      <td id=\"T_5f611_row32_col2\" class=\"data row32 col2\" >43</td>\n",
       "      <td id=\"T_5f611_row32_col3\" class=\"data row32 col3\" >43</td>\n",
       "      <td id=\"T_5f611_row32_col4\" class=\"data row32 col4\" >30</td>\n",
       "      <td id=\"T_5f611_row32_col5\" class=\"data row32 col5\" >22</td>\n",
       "      <td id=\"T_5f611_row32_col6\" class=\"data row32 col6\" >0.661538</td>\n",
       "      <td id=\"T_5f611_row32_col7\" class=\"data row32 col7\" >0.589041</td>\n",
       "      <td id=\"T_5f611_row32_col8\" class=\"data row32 col8\" >0.410959</td>\n",
       "      <td id=\"T_5f611_row32_col9\" class=\"data row32 col9\" >0.338462</td>\n",
       "      <td id=\"T_5f611_row32_col10\" class=\"data row32 col10\" >0.528986</td>\n",
       "      <td id=\"T_5f611_row32_col11\" class=\"data row32 col11\" >0.471014</td>\n",
       "      <td id=\"T_5f611_row32_col12\" class=\"data row32 col12\" >0.623188</td>\n",
       "    </tr>\n",
       "    <tr>\n",
       "      <th id=\"T_5f611_level0_row33\" class=\"row_heading level0 row33\" >33</th>\n",
       "      <td id=\"T_5f611_row33_col0\" class=\"data row33 col0\" >gender</td>\n",
       "      <td id=\"T_5f611_row33_col1\" class=\"data row33 col1\" >F</td>\n",
       "      <td id=\"T_5f611_row33_col2\" class=\"data row33 col2\" >1944</td>\n",
       "      <td id=\"T_5f611_row33_col3\" class=\"data row33 col3\" >2216</td>\n",
       "      <td id=\"T_5f611_row33_col4\" class=\"data row33 col4\" >753</td>\n",
       "      <td id=\"T_5f611_row33_col5\" class=\"data row33 col5\" >980</td>\n",
       "      <td id=\"T_5f611_row33_col6\" class=\"data row33 col6\" >0.664843</td>\n",
       "      <td id=\"T_5f611_row33_col7\" class=\"data row33 col7\" >0.746379</td>\n",
       "      <td id=\"T_5f611_row33_col8\" class=\"data row33 col8\" >0.253621</td>\n",
       "      <td id=\"T_5f611_row33_col9\" class=\"data row33 col9\" >0.335157</td>\n",
       "      <td id=\"T_5f611_row33_col10\" class=\"data row33 col10\" >0.457662</td>\n",
       "      <td id=\"T_5f611_row33_col11\" class=\"data row33 col11\" >0.542338</td>\n",
       "      <td id=\"T_5f611_row33_col12\" class=\"data row33 col12\" >0.705922</td>\n",
       "    </tr>\n",
       "    <tr>\n",
       "      <th id=\"T_5f611_level0_row34\" class=\"row_heading level0 row34\" >34</th>\n",
       "      <td id=\"T_5f611_row34_col0\" class=\"data row34 col0\" >gender</td>\n",
       "      <td id=\"T_5f611_row34_col1\" class=\"data row34 col1\" >M</td>\n",
       "      <td id=\"T_5f611_row34_col2\" class=\"data row34 col2\" >2833</td>\n",
       "      <td id=\"T_5f611_row34_col3\" class=\"data row34 col3\" >2661</td>\n",
       "      <td id=\"T_5f611_row34_col4\" class=\"data row34 col4\" >1136</td>\n",
       "      <td id=\"T_5f611_row34_col5\" class=\"data row34 col5\" >1077</td>\n",
       "      <td id=\"T_5f611_row34_col6\" class=\"data row34 col6\" >0.724552</td>\n",
       "      <td id=\"T_5f611_row34_col7\" class=\"data row34 col7\" >0.700816</td>\n",
       "      <td id=\"T_5f611_row34_col8\" class=\"data row34 col8\" >0.299184</td>\n",
       "      <td id=\"T_5f611_row34_col9\" class=\"data row34 col9\" >0.275448</td>\n",
       "      <td id=\"T_5f611_row34_col10\" class=\"data row34 col10\" >0.514986</td>\n",
       "      <td id=\"T_5f611_row34_col11\" class=\"data row34 col11\" >0.485014</td>\n",
       "      <td id=\"T_5f611_row34_col12\" class=\"data row34 col12\" >0.712858</td>\n",
       "    </tr>\n",
       "    <tr>\n",
       "      <th id=\"T_5f611_level0_row35\" class=\"row_heading level0 row35\" >35</th>\n",
       "      <td id=\"T_5f611_row35_col0\" class=\"data row35 col0\" >age_binned</td>\n",
       "      <td id=\"T_5f611_row35_col1\" class=\"data row35 col1\" >10-20</td>\n",
       "      <td id=\"T_5f611_row35_col2\" class=\"data row35 col2\" >16</td>\n",
       "      <td id=\"T_5f611_row35_col3\" class=\"data row35 col3\" >19</td>\n",
       "      <td id=\"T_5f611_row35_col4\" class=\"data row35 col4\" >4</td>\n",
       "      <td id=\"T_5f611_row35_col5\" class=\"data row35 col5\" >3</td>\n",
       "      <td id=\"T_5f611_row35_col6\" class=\"data row35 col6\" >0.842105</td>\n",
       "      <td id=\"T_5f611_row35_col7\" class=\"data row35 col7\" >0.826087</td>\n",
       "      <td id=\"T_5f611_row35_col8\" class=\"data row35 col8\" >0.173913</td>\n",
       "      <td id=\"T_5f611_row35_col9\" class=\"data row35 col9\" >0.157895</td>\n",
       "      <td id=\"T_5f611_row35_col10\" class=\"data row35 col10\" >0.476190</td>\n",
       "      <td id=\"T_5f611_row35_col11\" class=\"data row35 col11\" >0.523810</td>\n",
       "      <td id=\"T_5f611_row35_col12\" class=\"data row35 col12\" >0.833333</td>\n",
       "    </tr>\n",
       "    <tr>\n",
       "      <th id=\"T_5f611_level0_row36\" class=\"row_heading level0 row36\" >36</th>\n",
       "      <td id=\"T_5f611_row36_col0\" class=\"data row36 col0\" >age_binned</td>\n",
       "      <td id=\"T_5f611_row36_col1\" class=\"data row36 col1\" >20-30</td>\n",
       "      <td id=\"T_5f611_row36_col2\" class=\"data row36 col2\" >174</td>\n",
       "      <td id=\"T_5f611_row36_col3\" class=\"data row36 col3\" >213</td>\n",
       "      <td id=\"T_5f611_row36_col4\" class=\"data row36 col4\" >71</td>\n",
       "      <td id=\"T_5f611_row36_col5\" class=\"data row36 col5\" >63</td>\n",
       "      <td id=\"T_5f611_row36_col6\" class=\"data row36 col6\" >0.734177</td>\n",
       "      <td id=\"T_5f611_row36_col7\" class=\"data row36 col7\" >0.750000</td>\n",
       "      <td id=\"T_5f611_row36_col8\" class=\"data row36 col8\" >0.250000</td>\n",
       "      <td id=\"T_5f611_row36_col9\" class=\"data row36 col9\" >0.265823</td>\n",
       "      <td id=\"T_5f611_row36_col10\" class=\"data row36 col10\" >0.470250</td>\n",
       "      <td id=\"T_5f611_row36_col11\" class=\"data row36 col11\" >0.529750</td>\n",
       "      <td id=\"T_5f611_row36_col12\" class=\"data row36 col12\" >0.742802</td>\n",
       "    </tr>\n",
       "    <tr>\n",
       "      <th id=\"T_5f611_level0_row37\" class=\"row_heading level0 row37\" >37</th>\n",
       "      <td id=\"T_5f611_row37_col0\" class=\"data row37 col0\" >age_binned</td>\n",
       "      <td id=\"T_5f611_row37_col1\" class=\"data row37 col1\" >30-40</td>\n",
       "      <td id=\"T_5f611_row37_col2\" class=\"data row37 col2\" >226</td>\n",
       "      <td id=\"T_5f611_row37_col3\" class=\"data row37 col3\" >277</td>\n",
       "      <td id=\"T_5f611_row37_col4\" class=\"data row37 col4\" >87</td>\n",
       "      <td id=\"T_5f611_row37_col5\" class=\"data row37 col5\" >101</td>\n",
       "      <td id=\"T_5f611_row37_col6\" class=\"data row37 col6\" >0.691131</td>\n",
       "      <td id=\"T_5f611_row37_col7\" class=\"data row37 col7\" >0.760989</td>\n",
       "      <td id=\"T_5f611_row37_col8\" class=\"data row37 col8\" >0.239011</td>\n",
       "      <td id=\"T_5f611_row37_col9\" class=\"data row37 col9\" >0.308869</td>\n",
       "      <td id=\"T_5f611_row37_col10\" class=\"data row37 col10\" >0.452967</td>\n",
       "      <td id=\"T_5f611_row37_col11\" class=\"data row37 col11\" >0.547033</td>\n",
       "      <td id=\"T_5f611_row37_col12\" class=\"data row37 col12\" >0.727931</td>\n",
       "    </tr>\n",
       "    <tr>\n",
       "      <th id=\"T_5f611_level0_row38\" class=\"row_heading level0 row38\" >38</th>\n",
       "      <td id=\"T_5f611_row38_col0\" class=\"data row38 col0\" >age_binned</td>\n",
       "      <td id=\"T_5f611_row38_col1\" class=\"data row38 col1\" >40-50</td>\n",
       "      <td id=\"T_5f611_row38_col2\" class=\"data row38 col2\" >409</td>\n",
       "      <td id=\"T_5f611_row38_col3\" class=\"data row38 col3\" >459</td>\n",
       "      <td id=\"T_5f611_row38_col4\" class=\"data row38 col4\" >176</td>\n",
       "      <td id=\"T_5f611_row38_col5\" class=\"data row38 col5\" >170</td>\n",
       "      <td id=\"T_5f611_row38_col6\" class=\"data row38 col6\" >0.706390</td>\n",
       "      <td id=\"T_5f611_row38_col7\" class=\"data row38 col7\" >0.722835</td>\n",
       "      <td id=\"T_5f611_row38_col8\" class=\"data row38 col8\" >0.277165</td>\n",
       "      <td id=\"T_5f611_row38_col9\" class=\"data row38 col9\" >0.293610</td>\n",
       "      <td id=\"T_5f611_row38_col10\" class=\"data row38 col10\" >0.481878</td>\n",
       "      <td id=\"T_5f611_row38_col11\" class=\"data row38 col11\" >0.518122</td>\n",
       "      <td id=\"T_5f611_row38_col12\" class=\"data row38 col12\" >0.714992</td>\n",
       "    </tr>\n",
       "    <tr>\n",
       "      <th id=\"T_5f611_level0_row39\" class=\"row_heading level0 row39\" >39</th>\n",
       "      <td id=\"T_5f611_row39_col0\" class=\"data row39 col0\" >age_binned</td>\n",
       "      <td id=\"T_5f611_row39_col1\" class=\"data row39 col1\" >50-60</td>\n",
       "      <td id=\"T_5f611_row39_col2\" class=\"data row39 col2\" >886</td>\n",
       "      <td id=\"T_5f611_row39_col3\" class=\"data row39 col3\" >868</td>\n",
       "      <td id=\"T_5f611_row39_col4\" class=\"data row39 col4\" >360</td>\n",
       "      <td id=\"T_5f611_row39_col5\" class=\"data row39 col5\" >339</td>\n",
       "      <td id=\"T_5f611_row39_col6\" class=\"data row39 col6\" >0.723265</td>\n",
       "      <td id=\"T_5f611_row39_col7\" class=\"data row39 col7\" >0.706840</td>\n",
       "      <td id=\"T_5f611_row39_col8\" class=\"data row39 col8\" >0.293160</td>\n",
       "      <td id=\"T_5f611_row39_col9\" class=\"data row39 col9\" >0.276735</td>\n",
       "      <td id=\"T_5f611_row39_col10\" class=\"data row39 col10\" >0.507949</td>\n",
       "      <td id=\"T_5f611_row39_col11\" class=\"data row39 col11\" >0.492051</td>\n",
       "      <td id=\"T_5f611_row39_col12\" class=\"data row39 col12\" >0.715043</td>\n",
       "    </tr>\n",
       "    <tr>\n",
       "      <th id=\"T_5f611_level0_row40\" class=\"row_heading level0 row40\" >40</th>\n",
       "      <td id=\"T_5f611_row40_col0\" class=\"data row40 col0\" >age_binned</td>\n",
       "      <td id=\"T_5f611_row40_col1\" class=\"data row40 col1\" >60-70</td>\n",
       "      <td id=\"T_5f611_row40_col2\" class=\"data row40 col2\" >1193</td>\n",
       "      <td id=\"T_5f611_row40_col3\" class=\"data row40 col3\" >1160</td>\n",
       "      <td id=\"T_5f611_row40_col4\" class=\"data row40 col4\" >447</td>\n",
       "      <td id=\"T_5f611_row40_col5\" class=\"data row40 col5\" >519</td>\n",
       "      <td id=\"T_5f611_row40_col6\" class=\"data row40 col6\" >0.696846</td>\n",
       "      <td id=\"T_5f611_row40_col7\" class=\"data row40 col7\" >0.721842</td>\n",
       "      <td id=\"T_5f611_row40_col8\" class=\"data row40 col8\" >0.278158</td>\n",
       "      <td id=\"T_5f611_row40_col9\" class=\"data row40 col9\" >0.303154</td>\n",
       "      <td id=\"T_5f611_row40_col10\" class=\"data row40 col10\" >0.494125</td>\n",
       "      <td id=\"T_5f611_row40_col11\" class=\"data row40 col11\" >0.505875</td>\n",
       "      <td id=\"T_5f611_row40_col12\" class=\"data row40 col12\" >0.708948</td>\n",
       "    </tr>\n",
       "    <tr>\n",
       "      <th id=\"T_5f611_level0_row41\" class=\"row_heading level0 row41\" >41</th>\n",
       "      <td id=\"T_5f611_row41_col0\" class=\"data row41 col0\" >age_binned</td>\n",
       "      <td id=\"T_5f611_row41_col1\" class=\"data row41 col1\" >70-80</td>\n",
       "      <td id=\"T_5f611_row41_col2\" class=\"data row41 col2\" >1028</td>\n",
       "      <td id=\"T_5f611_row41_col3\" class=\"data row41 col3\" >966</td>\n",
       "      <td id=\"T_5f611_row41_col4\" class=\"data row41 col4\" >374</td>\n",
       "      <td id=\"T_5f611_row41_col5\" class=\"data row41 col5\" >425</td>\n",
       "      <td id=\"T_5f611_row41_col6\" class=\"data row41 col6\" >0.707502</td>\n",
       "      <td id=\"T_5f611_row41_col7\" class=\"data row41 col7\" >0.720896</td>\n",
       "      <td id=\"T_5f611_row41_col8\" class=\"data row41 col8\" >0.279104</td>\n",
       "      <td id=\"T_5f611_row41_col9\" class=\"data row41 col9\" >0.292498</td>\n",
       "      <td id=\"T_5f611_row41_col10\" class=\"data row41 col10\" >0.501969</td>\n",
       "      <td id=\"T_5f611_row41_col11\" class=\"data row41 col11\" >0.498031</td>\n",
       "      <td id=\"T_5f611_row41_col12\" class=\"data row41 col12\" >0.713928</td>\n",
       "    </tr>\n",
       "    <tr>\n",
       "      <th id=\"T_5f611_level0_row42\" class=\"row_heading level0 row42\" >42</th>\n",
       "      <td id=\"T_5f611_row42_col0\" class=\"data row42 col0\" >age_binned</td>\n",
       "      <td id=\"T_5f611_row42_col1\" class=\"data row42 col1\" >80-90</td>\n",
       "      <td id=\"T_5f611_row42_col2\" class=\"data row42 col2\" >714</td>\n",
       "      <td id=\"T_5f611_row42_col3\" class=\"data row42 col3\" >714</td>\n",
       "      <td id=\"T_5f611_row42_col4\" class=\"data row42 col4\" >303</td>\n",
       "      <td id=\"T_5f611_row42_col5\" class=\"data row42 col5\" >350</td>\n",
       "      <td id=\"T_5f611_row42_col6\" class=\"data row42 col6\" >0.671053</td>\n",
       "      <td id=\"T_5f611_row42_col7\" class=\"data row42 col7\" >0.702065</td>\n",
       "      <td id=\"T_5f611_row42_col8\" class=\"data row42 col8\" >0.297935</td>\n",
       "      <td id=\"T_5f611_row42_col9\" class=\"data row42 col9\" >0.328947</td>\n",
       "      <td id=\"T_5f611_row42_col10\" class=\"data row42 col10\" >0.488707</td>\n",
       "      <td id=\"T_5f611_row42_col11\" class=\"data row42 col11\" >0.511293</td>\n",
       "      <td id=\"T_5f611_row42_col12\" class=\"data row42 col12\" >0.686209</td>\n",
       "    </tr>\n",
       "    <tr>\n",
       "      <th id=\"T_5f611_level0_row43\" class=\"row_heading level0 row43\" >43</th>\n",
       "      <td id=\"T_5f611_row43_col0\" class=\"data row43 col0\" >age_binned</td>\n",
       "      <td id=\"T_5f611_row43_col1\" class=\"data row43 col1\" >90-100</td>\n",
       "      <td id=\"T_5f611_row43_col2\" class=\"data row43 col2\" >131</td>\n",
       "      <td id=\"T_5f611_row43_col3\" class=\"data row43 col3\" >201</td>\n",
       "      <td id=\"T_5f611_row43_col4\" class=\"data row43 col4\" >67</td>\n",
       "      <td id=\"T_5f611_row43_col5\" class=\"data row43 col5\" >87</td>\n",
       "      <td id=\"T_5f611_row43_col6\" class=\"data row43 col6\" >0.600917</td>\n",
       "      <td id=\"T_5f611_row43_col7\" class=\"data row43 col7\" >0.750000</td>\n",
       "      <td id=\"T_5f611_row43_col8\" class=\"data row43 col8\" >0.250000</td>\n",
       "      <td id=\"T_5f611_row43_col9\" class=\"data row43 col9\" >0.399083</td>\n",
       "      <td id=\"T_5f611_row43_col10\" class=\"data row43 col10\" >0.407407</td>\n",
       "      <td id=\"T_5f611_row43_col11\" class=\"data row43 col11\" >0.592593</td>\n",
       "      <td id=\"T_5f611_row43_col12\" class=\"data row43 col12\" >0.683128</td>\n",
       "    </tr>\n",
       "  </tbody>\n",
       "</table>\n"
      ],
      "text/plain": [
       "<pandas.io.formats.style.Styler at 0x7f9443251120>"
      ]
     },
     "metadata": {},
     "output_type": "display_data"
    }
   ],
   "source": [
    "fairness.fairness_evaluation(inputFile='outputDict',outputFile='fairnessReport')"
   ]
  },
  {
   "cell_type": "markdown",
   "id": "efficient-distinction",
   "metadata": {},
   "source": [
    "### 12. MODEL CALLIBRATION\n",
    "\n",
    "Please run below cell if you want to callibrate predicted probabilites of the model on test data.\n",
    "It will use the output saved during the testing of the model.\n",
    "\n",
    "The file is saved in **./data/output/**.\n",
    "\n",
    "This module can be used as stand-alone module also.\n",
    "\n",
    "Please create a file that contain predicted logits form the last fully connected layer in column named **Logits** and <br>ground truth labels for each sample in a column named **Labels**."
   ]
  },
  {
   "cell_type": "code",
   "execution_count": null,
   "id": "secure-flavor",
   "metadata": {},
   "outputs": [],
   "source": [
    "callibrate_output.callibrate(inputFile='outputDict',outputFile='callibratedResults')"
   ]
  },
  {
   "cell_type": "code",
   "execution_count": null,
   "id": "fleet-canyon",
   "metadata": {},
   "outputs": [],
   "source": []
  }
 ],
 "metadata": {
  "hide_input": false,
  "kernelspec": {
   "display_name": "hospAItal_env",
   "language": "python",
   "name": "python3"
  },
  "language_info": {
   "codemirror_mode": {
    "name": "ipython",
    "version": 3
   },
   "file_extension": ".py",
   "mimetype": "text/x-python",
   "name": "python",
   "nbconvert_exporter": "python",
   "pygments_lexer": "ipython3",
   "version": "3.10.12"
  }
 },
 "nbformat": 4,
 "nbformat_minor": 5
}
