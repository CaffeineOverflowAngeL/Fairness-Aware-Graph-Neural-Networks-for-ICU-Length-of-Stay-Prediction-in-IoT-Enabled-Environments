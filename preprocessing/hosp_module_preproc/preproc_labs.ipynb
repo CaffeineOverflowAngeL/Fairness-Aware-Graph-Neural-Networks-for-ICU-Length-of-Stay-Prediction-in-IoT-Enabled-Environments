{
 "cells": [
  {
   "cell_type": "markdown",
   "metadata": {},
   "source": [
    "# Preprocessing: labevents Table"
   ]
  },
  {
   "cell_type": "code",
   "execution_count": 1,
   "metadata": {},
   "outputs": [],
   "source": [
    "import os\n",
    "import pickle\n",
    "os.chdir('../../')\n",
    "from utils.hosp_preprocess_util import *    # module of preprocessing functions"
   ]
  },
  {
   "cell_type": "code",
   "execution_count": 2,
   "metadata": {},
   "outputs": [],
   "source": [
    "from utils.labs_preprocess_util import *"
   ]
  },
  {
   "cell_type": "markdown",
   "metadata": {},
   "source": [
    "### Reading in and Preparing Labs for Long Format"
   ]
  },
  {
   "cell_type": "code",
   "execution_count": 3,
   "metadata": {},
   "outputs": [],
   "source": [
    "mimic4_path = \"./mimic-iv-1.0/hosp/labevents.csv.gz\"\n",
    "usecols = [1, 2, 4, 5, 7, 8, 9, 12]\n",
    "dtypes = {\n",
    "    'itemid':'int64',\n",
    "    'subject_id':'int64',\n",
    "    # 'hadm_id':'int64',            # hadm_id type not defined because it contains NaN values\n",
    "    # 'charttime':'datetime64[ns]', # used as an argument in 'parse_cols' in pd.read_csv\n",
    "    'value':'object',\n",
    "    'valuenum':'float64',\n",
    "    'valueuom':'object',\n",
    "    'flag':'object'\n",
    "}\n",
    "labs = timestamp_cohort_data(mimic4_path, \"./data/cohort.gzip\", 'charttime', 'base_anchor_year', dtypes, usecols)\n",
    "# labs.to_csv(\".data/long_format/labs/labs.csv.gz\", compression=\"gzip\", index=False)"
   ]
  },
  {
   "cell_type": "code",
   "execution_count": 4,
   "metadata": {},
   "outputs": [
    {
     "data": {
      "text/html": [
       "<div>\n",
       "<style scoped>\n",
       "    .dataframe tbody tr th:only-of-type {\n",
       "        vertical-align: middle;\n",
       "    }\n",
       "\n",
       "    .dataframe tbody tr th {\n",
       "        vertical-align: top;\n",
       "    }\n",
       "\n",
       "    .dataframe thead th {\n",
       "        text-align: right;\n",
       "    }\n",
       "</style>\n",
       "<table border=\"1\" class=\"dataframe\">\n",
       "  <thead>\n",
       "    <tr style=\"text-align: right;\">\n",
       "      <th></th>\n",
       "      <th>subject_id</th>\n",
       "      <th>hadm_id</th>\n",
       "      <th>itemid</th>\n",
       "      <th>charttime</th>\n",
       "      <th>value</th>\n",
       "      <th>valuenum</th>\n",
       "      <th>valueuom</th>\n",
       "      <th>flag</th>\n",
       "      <th>admit_year</th>\n",
       "      <th>label</th>\n",
       "      <th>base_anchor_year</th>\n",
       "      <th>max_year_group</th>\n",
       "      <th>min_year_group</th>\n",
       "      <th>anchor_year</th>\n",
       "      <th>timedelta_days</th>\n",
       "      <th>timedelta_years</th>\n",
       "    </tr>\n",
       "  </thead>\n",
       "  <tbody>\n",
       "    <tr>\n",
       "      <th>0</th>\n",
       "      <td>10000032</td>\n",
       "      <td>22841357.0</td>\n",
       "      <td>51277</td>\n",
       "      <td>2180-06-27 05:10:00</td>\n",
       "      <td>15.7</td>\n",
       "      <td>15.7</td>\n",
       "      <td>%</td>\n",
       "      <td>abnormal</td>\n",
       "      <td>2180</td>\n",
       "      <td>0</td>\n",
       "      <td>2174</td>\n",
       "      <td>2016</td>\n",
       "      <td>2014</td>\n",
       "      <td>2180</td>\n",
       "      <td>2369</td>\n",
       "      <td>6.0</td>\n",
       "    </tr>\n",
       "    <tr>\n",
       "      <th>1</th>\n",
       "      <td>10000032</td>\n",
       "      <td>NaN</td>\n",
       "      <td>51274</td>\n",
       "      <td>2180-07-23 06:39:00</td>\n",
       "      <td>16.2</td>\n",
       "      <td>16.2</td>\n",
       "      <td>sec</td>\n",
       "      <td>abnormal</td>\n",
       "      <td>2180</td>\n",
       "      <td>0</td>\n",
       "      <td>2174</td>\n",
       "      <td>2016</td>\n",
       "      <td>2014</td>\n",
       "      <td>2180</td>\n",
       "      <td>2395</td>\n",
       "      <td>6.0</td>\n",
       "    </tr>\n",
       "    <tr>\n",
       "      <th>2</th>\n",
       "      <td>10000032</td>\n",
       "      <td>NaN</td>\n",
       "      <td>51275</td>\n",
       "      <td>2180-07-23 06:39:00</td>\n",
       "      <td>32.4</td>\n",
       "      <td>32.4</td>\n",
       "      <td>sec</td>\n",
       "      <td>NaN</td>\n",
       "      <td>2180</td>\n",
       "      <td>0</td>\n",
       "      <td>2174</td>\n",
       "      <td>2016</td>\n",
       "      <td>2014</td>\n",
       "      <td>2180</td>\n",
       "      <td>2395</td>\n",
       "      <td>6.0</td>\n",
       "    </tr>\n",
       "    <tr>\n",
       "      <th>3</th>\n",
       "      <td>10000032</td>\n",
       "      <td>NaN</td>\n",
       "      <td>50861</td>\n",
       "      <td>2180-07-23 06:39:00</td>\n",
       "      <td>153</td>\n",
       "      <td>153.0</td>\n",
       "      <td>IU/L</td>\n",
       "      <td>abnormal</td>\n",
       "      <td>2180</td>\n",
       "      <td>0</td>\n",
       "      <td>2174</td>\n",
       "      <td>2016</td>\n",
       "      <td>2014</td>\n",
       "      <td>2180</td>\n",
       "      <td>2395</td>\n",
       "      <td>6.0</td>\n",
       "    </tr>\n",
       "    <tr>\n",
       "      <th>4</th>\n",
       "      <td>10000032</td>\n",
       "      <td>NaN</td>\n",
       "      <td>50862</td>\n",
       "      <td>2180-07-23 06:39:00</td>\n",
       "      <td>3.6</td>\n",
       "      <td>3.6</td>\n",
       "      <td>g/dL</td>\n",
       "      <td>NaN</td>\n",
       "      <td>2180</td>\n",
       "      <td>0</td>\n",
       "      <td>2174</td>\n",
       "      <td>2016</td>\n",
       "      <td>2014</td>\n",
       "      <td>2180</td>\n",
       "      <td>2395</td>\n",
       "      <td>6.0</td>\n",
       "    </tr>\n",
       "  </tbody>\n",
       "</table>\n",
       "</div>"
      ],
      "text/plain": [
       "   subject_id     hadm_id  itemid            charttime value  valuenum  \\\n",
       "0    10000032  22841357.0   51277  2180-06-27 05:10:00  15.7      15.7   \n",
       "1    10000032         NaN   51274  2180-07-23 06:39:00  16.2      16.2   \n",
       "2    10000032         NaN   51275  2180-07-23 06:39:00  32.4      32.4   \n",
       "3    10000032         NaN   50861  2180-07-23 06:39:00   153     153.0   \n",
       "4    10000032         NaN   50862  2180-07-23 06:39:00   3.6       3.6   \n",
       "\n",
       "  valueuom      flag  admit_year  label  base_anchor_year  max_year_group  \\\n",
       "0        %  abnormal        2180      0              2174            2016   \n",
       "1      sec  abnormal        2180      0              2174            2016   \n",
       "2      sec       NaN        2180      0              2174            2016   \n",
       "3     IU/L  abnormal        2180      0              2174            2016   \n",
       "4     g/dL       NaN        2180      0              2174            2016   \n",
       "\n",
       "   min_year_group  anchor_year  timedelta_days  timedelta_years  \n",
       "0            2014         2180            2369              6.0  \n",
       "1            2014         2180            2395              6.0  \n",
       "2            2014         2180            2395              6.0  \n",
       "3            2014         2180            2395              6.0  \n",
       "4            2014         2180            2395              6.0  "
      ]
     },
     "execution_count": 4,
     "metadata": {},
     "output_type": "execute_result"
    }
   ],
   "source": [
    "# Review data\n",
    "labs.head()"
   ]
  },
  {
   "cell_type": "markdown",
   "metadata": {},
   "source": [
    "### Imputing invalid hadm_ids"
   ]
  },
  {
   "cell_type": "code",
   "execution_count": null,
   "metadata": {},
   "outputs": [],
   "source": [
    "# labs = pd.read_csv(\"./data/long_format/labs/labs.csv.gz\", compression=\"gzip\", header=0)\n",
    "adm = pd.read_csv(\"./mimic-iv-1.0/core/admissions.csv.gz\", compression='gzip', header=0, index_col=None, usecols=['subject_id', 'hadm_id', 'admittime', 'dischtime'], parse_dates=['admittime', 'dischtime'])"
   ]
  },
  {
   "cell_type": "code",
   "execution_count": 5,
   "metadata": {},
   "outputs": [
    {
     "name": "stderr",
     "output_type": "stream",
     "text": [
      "C:\\Users\\Brennan\\anaconda3\\lib\\site-packages\\IPython\\core\\interactiveshell.py:3357: DtypeWarning: Columns (5) have mixed types.Specify dtype option on import or set low_memory=False.\n",
      "  if (await self.run_code(code, result,  async_=asy)):\n"
     ]
    }
   ],
   "source": [
    "# Use imputation function to impute missing hadm_ids where possible\n",
    "imputed_labs = impute_hadm_ids(labs[['subject_id','hadm_id','itemid','charttime','value','valuenum','valueuom','label', 'timedelta']].copy(), adm)"
   ]
  },
  {
   "cell_type": "code",
   "execution_count": 14,
   "metadata": {},
   "outputs": [
    {
     "data": {
      "text/html": [
       "<div>\n",
       "<style scoped>\n",
       "    .dataframe tbody tr th:only-of-type {\n",
       "        vertical-align: middle;\n",
       "    }\n",
       "\n",
       "    .dataframe tbody tr th {\n",
       "        vertical-align: top;\n",
       "    }\n",
       "\n",
       "    .dataframe thead th {\n",
       "        text-align: right;\n",
       "    }\n",
       "</style>\n",
       "<table border=\"1\" class=\"dataframe\">\n",
       "  <thead>\n",
       "    <tr style=\"text-align: right;\">\n",
       "      <th></th>\n",
       "      <th>Unnamed: 0</th>\n",
       "      <th>subject_id</th>\n",
       "      <th>hadm_id</th>\n",
       "      <th>itemid</th>\n",
       "      <th>charttime</th>\n",
       "      <th>value</th>\n",
       "      <th>valuenum</th>\n",
       "      <th>valueuom</th>\n",
       "      <th>label</th>\n",
       "      <th>hadm_id_new</th>\n",
       "      <th>admittime</th>\n",
       "      <th>dischtime</th>\n",
       "    </tr>\n",
       "  </thead>\n",
       "  <tbody>\n",
       "    <tr>\n",
       "      <th>0</th>\n",
       "      <td>0</td>\n",
       "      <td>18695057</td>\n",
       "      <td>26762941.0</td>\n",
       "      <td>50912</td>\n",
       "      <td>2137-05-31 21:23:00</td>\n",
       "      <td>1.0</td>\n",
       "      <td>1.0</td>\n",
       "      <td>mg/dL</td>\n",
       "      <td>0</td>\n",
       "      <td>26762941.0</td>\n",
       "      <td>2137-05-25 02:46:00</td>\n",
       "      <td>2137-06-01 14:25:00</td>\n",
       "    </tr>\n",
       "    <tr>\n",
       "      <th>1</th>\n",
       "      <td>1</td>\n",
       "      <td>18695057</td>\n",
       "      <td>26762941.0</td>\n",
       "      <td>50934</td>\n",
       "      <td>2137-05-31 21:23:00</td>\n",
       "      <td>8</td>\n",
       "      <td>8.0</td>\n",
       "      <td>NaN</td>\n",
       "      <td>0</td>\n",
       "      <td>26762941.0</td>\n",
       "      <td>2137-05-25 02:46:00</td>\n",
       "      <td>2137-06-01 14:25:00</td>\n",
       "    </tr>\n",
       "    <tr>\n",
       "      <th>2</th>\n",
       "      <td>2</td>\n",
       "      <td>18695057</td>\n",
       "      <td>26762941.0</td>\n",
       "      <td>50947</td>\n",
       "      <td>2137-05-31 21:23:00</td>\n",
       "      <td>0</td>\n",
       "      <td>0.0</td>\n",
       "      <td>NaN</td>\n",
       "      <td>0</td>\n",
       "      <td>26762941.0</td>\n",
       "      <td>2137-05-25 02:46:00</td>\n",
       "      <td>2137-06-01 14:25:00</td>\n",
       "    </tr>\n",
       "    <tr>\n",
       "      <th>3</th>\n",
       "      <td>3</td>\n",
       "      <td>18695057</td>\n",
       "      <td>26762941.0</td>\n",
       "      <td>50960</td>\n",
       "      <td>2137-05-31 21:23:00</td>\n",
       "      <td>1.6</td>\n",
       "      <td>1.6</td>\n",
       "      <td>mg/dL</td>\n",
       "      <td>0</td>\n",
       "      <td>26762941.0</td>\n",
       "      <td>2137-05-25 02:46:00</td>\n",
       "      <td>2137-06-01 14:25:00</td>\n",
       "    </tr>\n",
       "    <tr>\n",
       "      <th>4</th>\n",
       "      <td>4</td>\n",
       "      <td>18695057</td>\n",
       "      <td>26762941.0</td>\n",
       "      <td>50970</td>\n",
       "      <td>2137-05-31 21:23:00</td>\n",
       "      <td>4.0</td>\n",
       "      <td>4.0</td>\n",
       "      <td>mg/dL</td>\n",
       "      <td>0</td>\n",
       "      <td>26762941.0</td>\n",
       "      <td>2137-05-25 02:46:00</td>\n",
       "      <td>2137-06-01 14:25:00</td>\n",
       "    </tr>\n",
       "  </tbody>\n",
       "</table>\n",
       "</div>"
      ],
      "text/plain": [
       "   Unnamed: 0  subject_id     hadm_id  itemid            charttime value  \\\n",
       "0           0    18695057  26762941.0   50912  2137-05-31 21:23:00   1.0   \n",
       "1           1    18695057  26762941.0   50934  2137-05-31 21:23:00     8   \n",
       "2           2    18695057  26762941.0   50947  2137-05-31 21:23:00     0   \n",
       "3           3    18695057  26762941.0   50960  2137-05-31 21:23:00   1.6   \n",
       "4           4    18695057  26762941.0   50970  2137-05-31 21:23:00   4.0   \n",
       "\n",
       "   valuenum valueuom  label  hadm_id_new            admittime  \\\n",
       "0       1.0    mg/dL      0   26762941.0  2137-05-25 02:46:00   \n",
       "1       8.0      NaN      0   26762941.0  2137-05-25 02:46:00   \n",
       "2       0.0      NaN      0   26762941.0  2137-05-25 02:46:00   \n",
       "3       1.6    mg/dL      0   26762941.0  2137-05-25 02:46:00   \n",
       "4       4.0    mg/dL      0   26762941.0  2137-05-25 02:46:00   \n",
       "\n",
       "             dischtime  \n",
       "0  2137-06-01 14:25:00  \n",
       "1  2137-06-01 14:25:00  \n",
       "2  2137-06-01 14:25:00  \n",
       "3  2137-06-01 14:25:00  \n",
       "4  2137-06-01 14:25:00  "
      ]
     },
     "execution_count": 14,
     "metadata": {},
     "output_type": "execute_result"
    }
   ],
   "source": [
    "# Review output\n",
    "imputed_labs.head()"
   ]
  },
  {
   "cell_type": "code",
   "execution_count": null,
   "metadata": {},
   "outputs": [],
   "source": [
    "# save imputed dataset\n",
    "imputed_labs[['subject_id', 'hadm_id_new', 'itemid', 'charttime', 'valuenum']].dropna(subset=['subject_id','itemid', 'valuenum']).to_csv(\"./data/long_format/labs/preproc_labs_imputed.csv.gz\", compression='gzip', index=False)"
   ]
  },
  {
   "cell_type": "code",
   "execution_count": 13,
   "metadata": {},
   "outputs": [
    {
     "name": "stdout",
     "output_type": "stream",
     "text": [
      "20216301/65793007 hadm_ids are invalid\n",
      "28658188 were originally invalid\n"
     ]
    }
   ],
   "source": [
    "invalids = imputed_labs_gb.loc[imputed_labs_gb.hadm_id_new.isna()].shape[0]\n",
    "print(f\"{invalids}/{imputed_labs_gb.shape[0]} hadm_ids are invalid\")\n",
    "print(f\"{labs.loc[labs.hadm_id.isna()].shape[0]} were originally invalid\")"
   ]
  },
  {
   "cell_type": "code",
   "execution_count": null,
   "metadata": {},
   "outputs": [],
   "source": [
    "print(\"Unique, non-NaN features in \\'value\\'      \", labs.value.dropna().nunique())\n",
    "print(\"Unique, non-NaN features in \\'valuenum\\'   \", labs.valuenum.dropna().nunique())\n",
    "\n",
    "print(\"Total valid rows in \\'value\\'      \", labs.value.dropna().shape[0])\n",
    "print(\"Total valid rows in \\'valuenum\\'   \", labs.valuenum.dropna().shape[0])\n",
    "# labs.loc[(~labs.value.isna()) & (labs.valuenum.isna())].head()"
   ]
  },
  {
   "cell_type": "markdown",
   "metadata": {},
   "source": [
    "### Saving the long-format dataset"
   ]
  },
  {
   "cell_type": "code",
   "execution_count": null,
   "metadata": {},
   "outputs": [],
   "source": [
    "# Save long format dataset\n",
    "labs[['subject_id', 'hadm_id', 'itemid', 'charttime', 'valuenum']].dropna(subset=['subject_id','itemid', 'valuenum']).to_pickle(\"./data/long_format/labs/preproc_labs.gzip\", compression='gzip')"
   ]
  },
  {
   "cell_type": "markdown",
   "metadata": {},
   "source": [
    "### Processing data with multiple units of measure\n",
    "\n",
    "Different units of measure lead to different value numbers, so one unit of measure must be applied (either by checking that the units are synonymous or removing the less frequent units)"
   ]
  },
  {
   "cell_type": "code",
   "execution_count": null,
   "metadata": {},
   "outputs": [],
   "source": [
    "# drop unnecessary columns and NaN values for faster processing\n",
    "labs.drop(labels=['flag', 'admit_year','label','base_anchor_year','max_year_group','min_year_group','anchor_year'], inplace=True, axis=1)\n",
    "labs.dropna(subset=['itemid', 'valuenum', 'valueuom'], inplace=True)"
   ]
  },
  {
   "cell_type": "code",
   "execution_count": null,
   "metadata": {},
   "outputs": [],
   "source": [
    "print(\"Number of unique labevent itemids in cohort: \", labs.itemid.dropna().nunique())\n",
    "\n",
    "# Top 100 unique itemids per patient with valid valuenum values\n",
    "top_items = list(labs[['subject_id', 'itemid','valuenum']].dropna().drop_duplicates(subset=['subject_id', 'itemid']).itemid.value_counts()[:100].index)\n",
    "\n",
    "# non standard itemids; have more than 1 unit of measure\n",
    "nonstd_itemids = list(labs[['itemid', 'valueuom']].dropna().drop_duplicates().groupby(by='itemid').size().loc[labs[['itemid', 'valueuom']].dropna().drop_duplicates().groupby(by='itemid').size() > 1].index)"
   ]
  },
  {
   "cell_type": "code",
   "execution_count": null,
   "metadata": {},
   "outputs": [],
   "source": [
    "nonstd_itemids\n",
    "# 50915 -> ['ng/mL', 'ng/mL FEU'] same\n",
    "# 50993 -> ['uIU/mL', 'uU/ML'] same\n",
    "# 51099 -> ['mg/mg' 'Ratio'] diff, majority=ratio\n",
    "# 51228 -> ['uIU/mL', 'uU/ML'] same\n",
    "# 51249 -> ['%' 'g/dL'] diff, majority=%\n",
    "# 51282 -> ['m/uL' '/mm3'] diff, majority=m/uL\n",
    "# 51464 -> ['m/uL' '/mm3'] diff, majority=mg/dL"
   ]
  },
  {
   "cell_type": "code",
   "execution_count": null,
   "metadata": {},
   "outputs": [],
   "source": [
    "for idx in nonstd_itemids:\n",
    "    print(idx)\n",
    "    print(labs.loc[labs.itemid == idx].valueuom.unique())\n",
    "    print(labs.loc[labs.itemid == idx].valueuom.value_counts())\n",
    "    labs.loc[labs.itemid == idx].valueuom.value_counts().index[0]"
   ]
  },
  {
   "cell_type": "code",
   "execution_count": null,
   "metadata": {},
   "outputs": [],
   "source": [
    "labs_preproc = labs.copy()\n",
    "print(labs_preproc.shape)\n",
    "for i in [51249, 51282]:\n",
    "    try:\n",
    "        maj = labs_preproc.loc[labs_preproc.itemid == i].valueuom.value_counts().index[0]\n",
    "        labs_preproc = labs_preproc.loc[~((labs_preproc.itemid == i) & (labs_preproc.valueuom == maj))]\n",
    "        print(labs_preproc.shape)\n",
    "    except IndexError:\n",
    "        print(f\"{idx} not found\")"
   ]
  },
  {
   "cell_type": "code",
   "execution_count": null,
   "metadata": {},
   "outputs": [],
   "source": [
    "# Save long format dataset\n",
    "labs_preproc[['subject_id', 'hadm_id', 'itemid', 'charttime', 'valuenum']].dropna(subset=['subject_id','itemid', 'charttime', 'valuenum']).to_csv(\"./data/long_format/labs/preproc_labs_units_cleaned.csv.gz\", compression='gzip', index=False)"
   ]
  },
  {
   "cell_type": "code",
   "execution_count": null,
   "metadata": {},
   "outputs": [],
   "source": [
    "pd.read_pickle(\"./data/long_format/labs/long_labs_units_cleaned.gzip\", compression='gzip')"
   ]
  },
  {
   "cell_type": "markdown",
   "metadata": {},
   "source": [
    "### Test"
   ]
  },
  {
   "cell_type": "code",
   "execution_count": null,
   "metadata": {},
   "outputs": [],
   "source": [
    "adm = pd.read_pickle(\"./data/adm_cohort.gzip\", compression='gzip')"
   ]
  },
  {
   "cell_type": "code",
   "execution_count": null,
   "metadata": {},
   "outputs": [],
   "source": [
    "test = labs.merge(adm[['hadm_id', 'admittime']], how='left', left_on='hadm_id', right_on='hadm_id')"
   ]
  },
  {
   "cell_type": "code",
   "execution_count": null,
   "metadata": {},
   "outputs": [],
   "source": [
    "test.loc[test.admittime > test.charttime]"
   ]
  },
  {
   "cell_type": "code",
   "execution_count": null,
   "metadata": {},
   "outputs": [],
   "source": [
    "pd.read_pickle('./data/long_format/labs/preproc_labs_units_cleaned.gzip', compression='gzip').to_csv('./data/long_format/labs/preproc_labs_units_cleaned.csv.gz', compression='gzip', index=False)"
   ]
  }
 ],
 "metadata": {
  "interpreter": {
   "hash": "39d0725753d0ad0b2b78de10b3b7451c8aa9b3c904c7c1796a98e42af75eb3a5"
  },
  "kernelspec": {
   "display_name": "Python 3.8.8 64-bit ('base': conda)",
   "language": "python",
   "name": "python3"
  },
  "language_info": {
   "codemirror_mode": {
    "name": "ipython",
    "version": 3
   },
   "file_extension": ".py",
   "mimetype": "text/x-python",
   "name": "python",
   "nbconvert_exporter": "python",
   "pygments_lexer": "ipython3",
   "version": "3.8.8"
  },
  "orig_nbformat": 4
 },
 "nbformat": 4,
 "nbformat_minor": 2
}
